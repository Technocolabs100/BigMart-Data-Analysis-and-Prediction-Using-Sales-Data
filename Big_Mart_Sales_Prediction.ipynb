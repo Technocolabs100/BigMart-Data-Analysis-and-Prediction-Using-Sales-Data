{
  "cells": [
    {
      "cell_type": "markdown",
      "metadata": {
        "id": "r5SphB8hT7z9"
      },
      "source": [
        "#Problem Statement\n"
      ]
    },
    {
      "cell_type": "markdown",
      "metadata": {
        "id": "IIWqQCatUIMH"
      },
      "source": [
        "The data scientists at BigMart have collected 2013 sales data for 1559 products across 10 stores in different cities. Also, certain attributes of each product and store have been defined. The aim of this data science project is to build a predictive model and find out the sales of each product at a particular store.\n",
        "\n",
        "Using this model, BigMart will try to understand the properties of products and stores which play a key role in increasing sales.\n",
        "\n",
        " The data has missing values as some stores do not report all the data due to technical glitches. Hence, it will be required to treat them accordingly."
      ]
    },
    {
      "cell_type": "markdown",
      "metadata": {
        "id": "cP129Uk7UWF0"
      },
      "source": [
        "#Hypothesis Generation"
      ]
    },
    {
      "cell_type": "markdown",
      "metadata": {
        "id": "wbxSJfMcUvYg"
      },
      "source": [
        "Hypothesis for the above market store problem can be stated by considering relationship with data attribute as follows;\n",
        "\n",
        "**Outlet_location_type(Tier 1,Tier 2 and Tier 3) and Item_outlet_sales:**\n",
        "\n",
        "Null Hypothesis(**H0**) : There is no significant relationship between the Outlet_location_type and Item_outlet_sales across 10 different cities.\n",
        "\n",
        "Alternative Hypothesis(**H1**): There is significant relationship between the Outlet_location_type and Item_outlet_sales across 10 different cities.\n",
        "\n",
        "**Outlet_type and Item_MRP:**\n",
        "\n",
        "Null Hypothesis(**H0**) : There is no significant relationship between the  Item_MRP and Item_Outlet_Sales.\n",
        "\n",
        "Alternative Hypothesis(**H1**): There is significant relationship between the  Item_MRP and Item_Outlet_Sales.\n",
        "\n",
        "\n"
      ]
    },
    {
      "cell_type": "markdown",
      "metadata": {
        "id": "bjClEsscmhHJ"
      },
      "source": [
        "#Loading Packages and Data"
      ]
    },
    {
      "cell_type": "code",
      "execution_count": null,
      "metadata": {
        "id": "1hZkPeSYnqPx"
      },
      "outputs": [],
      "source": [
        "import pandas as pd\n",
        "import numpy as np\n",
        "\n",
        "train=pd.read_csv('/content/drive/MyDrive/Projects Datasets/Train.csv')\n",
        "test=pd.read_csv('/content/drive/MyDrive/Projects Datasets/Test.csv')\n"
      ]
    },
    {
      "cell_type": "code",
      "source": [
        "#Combine test and train into one file\n",
        "train['source']='train'\n",
        "test['source']='test'\n",
        "data = pd.concat([train, test],ignore_index=True)\n",
        "train.shape, test.shape, data.shape"
      ],
      "metadata": {
        "colab": {
          "base_uri": "https://localhost:8080/"
        },
        "id": "icwRrtHSdM3e",
        "outputId": "d21aa436-7b29-4f50-f6fe-eb70d8844703"
      },
      "execution_count": null,
      "outputs": [
        {
          "output_type": "execute_result",
          "data": {
            "text/plain": [
              "((8523, 13), (5681, 12), (14204, 13))"
            ]
          },
          "metadata": {},
          "execution_count": 147
        }
      ]
    },
    {
      "cell_type": "code",
      "execution_count": null,
      "metadata": {
        "colab": {
          "base_uri": "https://localhost:8080/",
          "height": 313
        },
        "id": "Gbh9fHulvLdT",
        "outputId": "db256ce5-8f0e-4225-866e-0ec55f898bc3"
      },
      "outputs": [
        {
          "output_type": "execute_result",
          "data": {
            "text/plain": [
              "  Item_Identifier  Item_Weight Item_Fat_Content  Item_Visibility  \\\n",
              "0           FDA15         9.30          Low Fat         0.016047   \n",
              "1           DRC01         5.92          Regular         0.019278   \n",
              "2           FDN15        17.50          Low Fat         0.016760   \n",
              "3           FDX07        19.20          Regular         0.000000   \n",
              "4           NCD19         8.93          Low Fat         0.000000   \n",
              "\n",
              "               Item_Type  Item_MRP Outlet_Identifier  \\\n",
              "0                  Dairy  249.8092            OUT049   \n",
              "1            Soft Drinks   48.2692            OUT018   \n",
              "2                   Meat  141.6180            OUT049   \n",
              "3  Fruits and Vegetables  182.0950            OUT010   \n",
              "4              Household   53.8614            OUT013   \n",
              "\n",
              "   Outlet_Establishment_Year Outlet_Size Outlet_Location_Type  \\\n",
              "0                       1999      Medium               Tier 1   \n",
              "1                       2009      Medium               Tier 3   \n",
              "2                       1999      Medium               Tier 1   \n",
              "3                       1998         NaN               Tier 3   \n",
              "4                       1987        High               Tier 3   \n",
              "\n",
              "         Outlet_Type  Item_Outlet_Sales source  \n",
              "0  Supermarket Type1          3735.1380  train  \n",
              "1  Supermarket Type2           443.4228  train  \n",
              "2  Supermarket Type1          2097.2700  train  \n",
              "3      Grocery Store           732.3800  train  \n",
              "4  Supermarket Type1           994.7052  train  "
            ],
            "text/html": [
              "\n",
              "  <div id=\"df-d7ce968f-59c5-41cc-8e83-064f346dcb1e\" class=\"colab-df-container\">\n",
              "    <div>\n",
              "<style scoped>\n",
              "    .dataframe tbody tr th:only-of-type {\n",
              "        vertical-align: middle;\n",
              "    }\n",
              "\n",
              "    .dataframe tbody tr th {\n",
              "        vertical-align: top;\n",
              "    }\n",
              "\n",
              "    .dataframe thead th {\n",
              "        text-align: right;\n",
              "    }\n",
              "</style>\n",
              "<table border=\"1\" class=\"dataframe\">\n",
              "  <thead>\n",
              "    <tr style=\"text-align: right;\">\n",
              "      <th></th>\n",
              "      <th>Item_Identifier</th>\n",
              "      <th>Item_Weight</th>\n",
              "      <th>Item_Fat_Content</th>\n",
              "      <th>Item_Visibility</th>\n",
              "      <th>Item_Type</th>\n",
              "      <th>Item_MRP</th>\n",
              "      <th>Outlet_Identifier</th>\n",
              "      <th>Outlet_Establishment_Year</th>\n",
              "      <th>Outlet_Size</th>\n",
              "      <th>Outlet_Location_Type</th>\n",
              "      <th>Outlet_Type</th>\n",
              "      <th>Item_Outlet_Sales</th>\n",
              "      <th>source</th>\n",
              "    </tr>\n",
              "  </thead>\n",
              "  <tbody>\n",
              "    <tr>\n",
              "      <th>0</th>\n",
              "      <td>FDA15</td>\n",
              "      <td>9.30</td>\n",
              "      <td>Low Fat</td>\n",
              "      <td>0.016047</td>\n",
              "      <td>Dairy</td>\n",
              "      <td>249.8092</td>\n",
              "      <td>OUT049</td>\n",
              "      <td>1999</td>\n",
              "      <td>Medium</td>\n",
              "      <td>Tier 1</td>\n",
              "      <td>Supermarket Type1</td>\n",
              "      <td>3735.1380</td>\n",
              "      <td>train</td>\n",
              "    </tr>\n",
              "    <tr>\n",
              "      <th>1</th>\n",
              "      <td>DRC01</td>\n",
              "      <td>5.92</td>\n",
              "      <td>Regular</td>\n",
              "      <td>0.019278</td>\n",
              "      <td>Soft Drinks</td>\n",
              "      <td>48.2692</td>\n",
              "      <td>OUT018</td>\n",
              "      <td>2009</td>\n",
              "      <td>Medium</td>\n",
              "      <td>Tier 3</td>\n",
              "      <td>Supermarket Type2</td>\n",
              "      <td>443.4228</td>\n",
              "      <td>train</td>\n",
              "    </tr>\n",
              "    <tr>\n",
              "      <th>2</th>\n",
              "      <td>FDN15</td>\n",
              "      <td>17.50</td>\n",
              "      <td>Low Fat</td>\n",
              "      <td>0.016760</td>\n",
              "      <td>Meat</td>\n",
              "      <td>141.6180</td>\n",
              "      <td>OUT049</td>\n",
              "      <td>1999</td>\n",
              "      <td>Medium</td>\n",
              "      <td>Tier 1</td>\n",
              "      <td>Supermarket Type1</td>\n",
              "      <td>2097.2700</td>\n",
              "      <td>train</td>\n",
              "    </tr>\n",
              "    <tr>\n",
              "      <th>3</th>\n",
              "      <td>FDX07</td>\n",
              "      <td>19.20</td>\n",
              "      <td>Regular</td>\n",
              "      <td>0.000000</td>\n",
              "      <td>Fruits and Vegetables</td>\n",
              "      <td>182.0950</td>\n",
              "      <td>OUT010</td>\n",
              "      <td>1998</td>\n",
              "      <td>NaN</td>\n",
              "      <td>Tier 3</td>\n",
              "      <td>Grocery Store</td>\n",
              "      <td>732.3800</td>\n",
              "      <td>train</td>\n",
              "    </tr>\n",
              "    <tr>\n",
              "      <th>4</th>\n",
              "      <td>NCD19</td>\n",
              "      <td>8.93</td>\n",
              "      <td>Low Fat</td>\n",
              "      <td>0.000000</td>\n",
              "      <td>Household</td>\n",
              "      <td>53.8614</td>\n",
              "      <td>OUT013</td>\n",
              "      <td>1987</td>\n",
              "      <td>High</td>\n",
              "      <td>Tier 3</td>\n",
              "      <td>Supermarket Type1</td>\n",
              "      <td>994.7052</td>\n",
              "      <td>train</td>\n",
              "    </tr>\n",
              "  </tbody>\n",
              "</table>\n",
              "</div>\n",
              "    <div class=\"colab-df-buttons\">\n",
              "\n",
              "  <div class=\"colab-df-container\">\n",
              "    <button class=\"colab-df-convert\" onclick=\"convertToInteractive('df-d7ce968f-59c5-41cc-8e83-064f346dcb1e')\"\n",
              "            title=\"Convert this dataframe to an interactive table.\"\n",
              "            style=\"display:none;\">\n",
              "\n",
              "  <svg xmlns=\"http://www.w3.org/2000/svg\" height=\"24px\" viewBox=\"0 -960 960 960\">\n",
              "    <path d=\"M120-120v-720h720v720H120Zm60-500h600v-160H180v160Zm220 220h160v-160H400v160Zm0 220h160v-160H400v160ZM180-400h160v-160H180v160Zm440 0h160v-160H620v160ZM180-180h160v-160H180v160Zm440 0h160v-160H620v160Z\"/>\n",
              "  </svg>\n",
              "    </button>\n",
              "\n",
              "  <style>\n",
              "    .colab-df-container {\n",
              "      display:flex;\n",
              "      gap: 12px;\n",
              "    }\n",
              "\n",
              "    .colab-df-convert {\n",
              "      background-color: #E8F0FE;\n",
              "      border: none;\n",
              "      border-radius: 50%;\n",
              "      cursor: pointer;\n",
              "      display: none;\n",
              "      fill: #1967D2;\n",
              "      height: 32px;\n",
              "      padding: 0 0 0 0;\n",
              "      width: 32px;\n",
              "    }\n",
              "\n",
              "    .colab-df-convert:hover {\n",
              "      background-color: #E2EBFA;\n",
              "      box-shadow: 0px 1px 2px rgba(60, 64, 67, 0.3), 0px 1px 3px 1px rgba(60, 64, 67, 0.15);\n",
              "      fill: #174EA6;\n",
              "    }\n",
              "\n",
              "    .colab-df-buttons div {\n",
              "      margin-bottom: 4px;\n",
              "    }\n",
              "\n",
              "    [theme=dark] .colab-df-convert {\n",
              "      background-color: #3B4455;\n",
              "      fill: #D2E3FC;\n",
              "    }\n",
              "\n",
              "    [theme=dark] .colab-df-convert:hover {\n",
              "      background-color: #434B5C;\n",
              "      box-shadow: 0px 1px 3px 1px rgba(0, 0, 0, 0.15);\n",
              "      filter: drop-shadow(0px 1px 2px rgba(0, 0, 0, 0.3));\n",
              "      fill: #FFFFFF;\n",
              "    }\n",
              "  </style>\n",
              "\n",
              "    <script>\n",
              "      const buttonEl =\n",
              "        document.querySelector('#df-d7ce968f-59c5-41cc-8e83-064f346dcb1e button.colab-df-convert');\n",
              "      buttonEl.style.display =\n",
              "        google.colab.kernel.accessAllowed ? 'block' : 'none';\n",
              "\n",
              "      async function convertToInteractive(key) {\n",
              "        const element = document.querySelector('#df-d7ce968f-59c5-41cc-8e83-064f346dcb1e');\n",
              "        const dataTable =\n",
              "          await google.colab.kernel.invokeFunction('convertToInteractive',\n",
              "                                                    [key], {});\n",
              "        if (!dataTable) return;\n",
              "\n",
              "        const docLinkHtml = 'Like what you see? Visit the ' +\n",
              "          '<a target=\"_blank\" href=https://colab.research.google.com/notebooks/data_table.ipynb>data table notebook</a>'\n",
              "          + ' to learn more about interactive tables.';\n",
              "        element.innerHTML = '';\n",
              "        dataTable['output_type'] = 'display_data';\n",
              "        await google.colab.output.renderOutput(dataTable, element);\n",
              "        const docLink = document.createElement('div');\n",
              "        docLink.innerHTML = docLinkHtml;\n",
              "        element.appendChild(docLink);\n",
              "      }\n",
              "    </script>\n",
              "  </div>\n",
              "\n",
              "\n",
              "<div id=\"df-5659feea-110e-4a15-845a-d0ec2e5a6ea6\">\n",
              "  <button class=\"colab-df-quickchart\" onclick=\"quickchart('df-5659feea-110e-4a15-845a-d0ec2e5a6ea6')\"\n",
              "            title=\"Suggest charts\"\n",
              "            style=\"display:none;\">\n",
              "\n",
              "<svg xmlns=\"http://www.w3.org/2000/svg\" height=\"24px\"viewBox=\"0 0 24 24\"\n",
              "     width=\"24px\">\n",
              "    <g>\n",
              "        <path d=\"M19 3H5c-1.1 0-2 .9-2 2v14c0 1.1.9 2 2 2h14c1.1 0 2-.9 2-2V5c0-1.1-.9-2-2-2zM9 17H7v-7h2v7zm4 0h-2V7h2v10zm4 0h-2v-4h2v4z\"/>\n",
              "    </g>\n",
              "</svg>\n",
              "  </button>\n",
              "\n",
              "<style>\n",
              "  .colab-df-quickchart {\n",
              "      --bg-color: #E8F0FE;\n",
              "      --fill-color: #1967D2;\n",
              "      --hover-bg-color: #E2EBFA;\n",
              "      --hover-fill-color: #174EA6;\n",
              "      --disabled-fill-color: #AAA;\n",
              "      --disabled-bg-color: #DDD;\n",
              "  }\n",
              "\n",
              "  [theme=dark] .colab-df-quickchart {\n",
              "      --bg-color: #3B4455;\n",
              "      --fill-color: #D2E3FC;\n",
              "      --hover-bg-color: #434B5C;\n",
              "      --hover-fill-color: #FFFFFF;\n",
              "      --disabled-bg-color: #3B4455;\n",
              "      --disabled-fill-color: #666;\n",
              "  }\n",
              "\n",
              "  .colab-df-quickchart {\n",
              "    background-color: var(--bg-color);\n",
              "    border: none;\n",
              "    border-radius: 50%;\n",
              "    cursor: pointer;\n",
              "    display: none;\n",
              "    fill: var(--fill-color);\n",
              "    height: 32px;\n",
              "    padding: 0;\n",
              "    width: 32px;\n",
              "  }\n",
              "\n",
              "  .colab-df-quickchart:hover {\n",
              "    background-color: var(--hover-bg-color);\n",
              "    box-shadow: 0 1px 2px rgba(60, 64, 67, 0.3), 0 1px 3px 1px rgba(60, 64, 67, 0.15);\n",
              "    fill: var(--button-hover-fill-color);\n",
              "  }\n",
              "\n",
              "  .colab-df-quickchart-complete:disabled,\n",
              "  .colab-df-quickchart-complete:disabled:hover {\n",
              "    background-color: var(--disabled-bg-color);\n",
              "    fill: var(--disabled-fill-color);\n",
              "    box-shadow: none;\n",
              "  }\n",
              "\n",
              "  .colab-df-spinner {\n",
              "    border: 2px solid var(--fill-color);\n",
              "    border-color: transparent;\n",
              "    border-bottom-color: var(--fill-color);\n",
              "    animation:\n",
              "      spin 1s steps(1) infinite;\n",
              "  }\n",
              "\n",
              "  @keyframes spin {\n",
              "    0% {\n",
              "      border-color: transparent;\n",
              "      border-bottom-color: var(--fill-color);\n",
              "      border-left-color: var(--fill-color);\n",
              "    }\n",
              "    20% {\n",
              "      border-color: transparent;\n",
              "      border-left-color: var(--fill-color);\n",
              "      border-top-color: var(--fill-color);\n",
              "    }\n",
              "    30% {\n",
              "      border-color: transparent;\n",
              "      border-left-color: var(--fill-color);\n",
              "      border-top-color: var(--fill-color);\n",
              "      border-right-color: var(--fill-color);\n",
              "    }\n",
              "    40% {\n",
              "      border-color: transparent;\n",
              "      border-right-color: var(--fill-color);\n",
              "      border-top-color: var(--fill-color);\n",
              "    }\n",
              "    60% {\n",
              "      border-color: transparent;\n",
              "      border-right-color: var(--fill-color);\n",
              "    }\n",
              "    80% {\n",
              "      border-color: transparent;\n",
              "      border-right-color: var(--fill-color);\n",
              "      border-bottom-color: var(--fill-color);\n",
              "    }\n",
              "    90% {\n",
              "      border-color: transparent;\n",
              "      border-bottom-color: var(--fill-color);\n",
              "    }\n",
              "  }\n",
              "</style>\n",
              "\n",
              "  <script>\n",
              "    async function quickchart(key) {\n",
              "      const quickchartButtonEl =\n",
              "        document.querySelector('#' + key + ' button');\n",
              "      quickchartButtonEl.disabled = true;  // To prevent multiple clicks.\n",
              "      quickchartButtonEl.classList.add('colab-df-spinner');\n",
              "      try {\n",
              "        const charts = await google.colab.kernel.invokeFunction(\n",
              "            'suggestCharts', [key], {});\n",
              "      } catch (error) {\n",
              "        console.error('Error during call to suggestCharts:', error);\n",
              "      }\n",
              "      quickchartButtonEl.classList.remove('colab-df-spinner');\n",
              "      quickchartButtonEl.classList.add('colab-df-quickchart-complete');\n",
              "    }\n",
              "    (() => {\n",
              "      let quickchartButtonEl =\n",
              "        document.querySelector('#df-5659feea-110e-4a15-845a-d0ec2e5a6ea6 button');\n",
              "      quickchartButtonEl.style.display =\n",
              "        google.colab.kernel.accessAllowed ? 'block' : 'none';\n",
              "    })();\n",
              "  </script>\n",
              "</div>\n",
              "    </div>\n",
              "  </div>\n"
            ]
          },
          "metadata": {},
          "execution_count": 148
        }
      ],
      "source": [
        "data.head()"
      ]
    },
    {
      "cell_type": "markdown",
      "metadata": {
        "id": "aTb18MT7qFxO"
      },
      "source": [
        "#Data Structure and Content"
      ]
    },
    {
      "cell_type": "markdown",
      "metadata": {
        "id": "ozEr3gp6qMGL"
      },
      "source": [
        "Imagine the data is Stored in the Excel,like in the data spradsheet in the form of Rows and Columns. So, Here in the context of Big Mart Store Problem, We have each row representing sales transacations of individual purchase.\n",
        "And Columns representing the details of the sales of products like Unique ID of Product(Item_Identifier),weight of it(Item_Weight), Whether it's has low fat or regular fat(Item_Fat_Content),how visible it is on the store shelves (Item_visibility),what's the type of item(Item_Type) and what's the price/value of product(Item_MRP).\n",
        "\n",
        "We also have the details of the outlet across 10 different cities like types of outlets whether it is Superstore or grocery Store (Outlet_Type),the store it's being sold in (Outlet_Identifier), when it's established(Outlet_Establishment_Year),what's size of outlet(Outlet_Size),where it's located(Outlet_Location_Type).\n",
        "and Finally,how much money the store made from selling that product(Item_Outlet_Sales)."
      ]
    },
    {
      "cell_type": "code",
      "execution_count": null,
      "metadata": {
        "colab": {
          "base_uri": "https://localhost:8080/",
          "height": 300
        },
        "id": "13cet03r7UYg",
        "outputId": "dac1a37a-534b-494d-ab26-8e868cd6ea06"
      },
      "outputs": [
        {
          "output_type": "execute_result",
          "data": {
            "text/plain": [
              "        Item_Weight  Item_Visibility      Item_MRP  Outlet_Establishment_Year  \\\n",
              "count  11765.000000     14204.000000  14204.000000               14204.000000   \n",
              "mean      12.792854         0.065953    141.004977                1997.830681   \n",
              "std        4.652502         0.051459     62.086938                   8.371664   \n",
              "min        4.555000         0.000000     31.290000                1985.000000   \n",
              "25%        8.710000         0.027036     94.012000                1987.000000   \n",
              "50%       12.600000         0.054021    142.247000                1999.000000   \n",
              "75%       16.750000         0.094037    185.855600                2004.000000   \n",
              "max       21.350000         0.328391    266.888400                2009.000000   \n",
              "\n",
              "       Item_Outlet_Sales  \n",
              "count        8523.000000  \n",
              "mean         2181.288914  \n",
              "std          1706.499616  \n",
              "min            33.290000  \n",
              "25%           834.247400  \n",
              "50%          1794.331000  \n",
              "75%          3101.296400  \n",
              "max         13086.964800  "
            ],
            "text/html": [
              "\n",
              "  <div id=\"df-b0bd0ce1-5e89-4c67-af61-d6a6542779d0\" class=\"colab-df-container\">\n",
              "    <div>\n",
              "<style scoped>\n",
              "    .dataframe tbody tr th:only-of-type {\n",
              "        vertical-align: middle;\n",
              "    }\n",
              "\n",
              "    .dataframe tbody tr th {\n",
              "        vertical-align: top;\n",
              "    }\n",
              "\n",
              "    .dataframe thead th {\n",
              "        text-align: right;\n",
              "    }\n",
              "</style>\n",
              "<table border=\"1\" class=\"dataframe\">\n",
              "  <thead>\n",
              "    <tr style=\"text-align: right;\">\n",
              "      <th></th>\n",
              "      <th>Item_Weight</th>\n",
              "      <th>Item_Visibility</th>\n",
              "      <th>Item_MRP</th>\n",
              "      <th>Outlet_Establishment_Year</th>\n",
              "      <th>Item_Outlet_Sales</th>\n",
              "    </tr>\n",
              "  </thead>\n",
              "  <tbody>\n",
              "    <tr>\n",
              "      <th>count</th>\n",
              "      <td>11765.000000</td>\n",
              "      <td>14204.000000</td>\n",
              "      <td>14204.000000</td>\n",
              "      <td>14204.000000</td>\n",
              "      <td>8523.000000</td>\n",
              "    </tr>\n",
              "    <tr>\n",
              "      <th>mean</th>\n",
              "      <td>12.792854</td>\n",
              "      <td>0.065953</td>\n",
              "      <td>141.004977</td>\n",
              "      <td>1997.830681</td>\n",
              "      <td>2181.288914</td>\n",
              "    </tr>\n",
              "    <tr>\n",
              "      <th>std</th>\n",
              "      <td>4.652502</td>\n",
              "      <td>0.051459</td>\n",
              "      <td>62.086938</td>\n",
              "      <td>8.371664</td>\n",
              "      <td>1706.499616</td>\n",
              "    </tr>\n",
              "    <tr>\n",
              "      <th>min</th>\n",
              "      <td>4.555000</td>\n",
              "      <td>0.000000</td>\n",
              "      <td>31.290000</td>\n",
              "      <td>1985.000000</td>\n",
              "      <td>33.290000</td>\n",
              "    </tr>\n",
              "    <tr>\n",
              "      <th>25%</th>\n",
              "      <td>8.710000</td>\n",
              "      <td>0.027036</td>\n",
              "      <td>94.012000</td>\n",
              "      <td>1987.000000</td>\n",
              "      <td>834.247400</td>\n",
              "    </tr>\n",
              "    <tr>\n",
              "      <th>50%</th>\n",
              "      <td>12.600000</td>\n",
              "      <td>0.054021</td>\n",
              "      <td>142.247000</td>\n",
              "      <td>1999.000000</td>\n",
              "      <td>1794.331000</td>\n",
              "    </tr>\n",
              "    <tr>\n",
              "      <th>75%</th>\n",
              "      <td>16.750000</td>\n",
              "      <td>0.094037</td>\n",
              "      <td>185.855600</td>\n",
              "      <td>2004.000000</td>\n",
              "      <td>3101.296400</td>\n",
              "    </tr>\n",
              "    <tr>\n",
              "      <th>max</th>\n",
              "      <td>21.350000</td>\n",
              "      <td>0.328391</td>\n",
              "      <td>266.888400</td>\n",
              "      <td>2009.000000</td>\n",
              "      <td>13086.964800</td>\n",
              "    </tr>\n",
              "  </tbody>\n",
              "</table>\n",
              "</div>\n",
              "    <div class=\"colab-df-buttons\">\n",
              "\n",
              "  <div class=\"colab-df-container\">\n",
              "    <button class=\"colab-df-convert\" onclick=\"convertToInteractive('df-b0bd0ce1-5e89-4c67-af61-d6a6542779d0')\"\n",
              "            title=\"Convert this dataframe to an interactive table.\"\n",
              "            style=\"display:none;\">\n",
              "\n",
              "  <svg xmlns=\"http://www.w3.org/2000/svg\" height=\"24px\" viewBox=\"0 -960 960 960\">\n",
              "    <path d=\"M120-120v-720h720v720H120Zm60-500h600v-160H180v160Zm220 220h160v-160H400v160Zm0 220h160v-160H400v160ZM180-400h160v-160H180v160Zm440 0h160v-160H620v160ZM180-180h160v-160H180v160Zm440 0h160v-160H620v160Z\"/>\n",
              "  </svg>\n",
              "    </button>\n",
              "\n",
              "  <style>\n",
              "    .colab-df-container {\n",
              "      display:flex;\n",
              "      gap: 12px;\n",
              "    }\n",
              "\n",
              "    .colab-df-convert {\n",
              "      background-color: #E8F0FE;\n",
              "      border: none;\n",
              "      border-radius: 50%;\n",
              "      cursor: pointer;\n",
              "      display: none;\n",
              "      fill: #1967D2;\n",
              "      height: 32px;\n",
              "      padding: 0 0 0 0;\n",
              "      width: 32px;\n",
              "    }\n",
              "\n",
              "    .colab-df-convert:hover {\n",
              "      background-color: #E2EBFA;\n",
              "      box-shadow: 0px 1px 2px rgba(60, 64, 67, 0.3), 0px 1px 3px 1px rgba(60, 64, 67, 0.15);\n",
              "      fill: #174EA6;\n",
              "    }\n",
              "\n",
              "    .colab-df-buttons div {\n",
              "      margin-bottom: 4px;\n",
              "    }\n",
              "\n",
              "    [theme=dark] .colab-df-convert {\n",
              "      background-color: #3B4455;\n",
              "      fill: #D2E3FC;\n",
              "    }\n",
              "\n",
              "    [theme=dark] .colab-df-convert:hover {\n",
              "      background-color: #434B5C;\n",
              "      box-shadow: 0px 1px 3px 1px rgba(0, 0, 0, 0.15);\n",
              "      filter: drop-shadow(0px 1px 2px rgba(0, 0, 0, 0.3));\n",
              "      fill: #FFFFFF;\n",
              "    }\n",
              "  </style>\n",
              "\n",
              "    <script>\n",
              "      const buttonEl =\n",
              "        document.querySelector('#df-b0bd0ce1-5e89-4c67-af61-d6a6542779d0 button.colab-df-convert');\n",
              "      buttonEl.style.display =\n",
              "        google.colab.kernel.accessAllowed ? 'block' : 'none';\n",
              "\n",
              "      async function convertToInteractive(key) {\n",
              "        const element = document.querySelector('#df-b0bd0ce1-5e89-4c67-af61-d6a6542779d0');\n",
              "        const dataTable =\n",
              "          await google.colab.kernel.invokeFunction('convertToInteractive',\n",
              "                                                    [key], {});\n",
              "        if (!dataTable) return;\n",
              "\n",
              "        const docLinkHtml = 'Like what you see? Visit the ' +\n",
              "          '<a target=\"_blank\" href=https://colab.research.google.com/notebooks/data_table.ipynb>data table notebook</a>'\n",
              "          + ' to learn more about interactive tables.';\n",
              "        element.innerHTML = '';\n",
              "        dataTable['output_type'] = 'display_data';\n",
              "        await google.colab.output.renderOutput(dataTable, element);\n",
              "        const docLink = document.createElement('div');\n",
              "        docLink.innerHTML = docLinkHtml;\n",
              "        element.appendChild(docLink);\n",
              "      }\n",
              "    </script>\n",
              "  </div>\n",
              "\n",
              "\n",
              "<div id=\"df-32f6bb12-0fde-4806-977e-d2c3173bd60b\">\n",
              "  <button class=\"colab-df-quickchart\" onclick=\"quickchart('df-32f6bb12-0fde-4806-977e-d2c3173bd60b')\"\n",
              "            title=\"Suggest charts\"\n",
              "            style=\"display:none;\">\n",
              "\n",
              "<svg xmlns=\"http://www.w3.org/2000/svg\" height=\"24px\"viewBox=\"0 0 24 24\"\n",
              "     width=\"24px\">\n",
              "    <g>\n",
              "        <path d=\"M19 3H5c-1.1 0-2 .9-2 2v14c0 1.1.9 2 2 2h14c1.1 0 2-.9 2-2V5c0-1.1-.9-2-2-2zM9 17H7v-7h2v7zm4 0h-2V7h2v10zm4 0h-2v-4h2v4z\"/>\n",
              "    </g>\n",
              "</svg>\n",
              "  </button>\n",
              "\n",
              "<style>\n",
              "  .colab-df-quickchart {\n",
              "      --bg-color: #E8F0FE;\n",
              "      --fill-color: #1967D2;\n",
              "      --hover-bg-color: #E2EBFA;\n",
              "      --hover-fill-color: #174EA6;\n",
              "      --disabled-fill-color: #AAA;\n",
              "      --disabled-bg-color: #DDD;\n",
              "  }\n",
              "\n",
              "  [theme=dark] .colab-df-quickchart {\n",
              "      --bg-color: #3B4455;\n",
              "      --fill-color: #D2E3FC;\n",
              "      --hover-bg-color: #434B5C;\n",
              "      --hover-fill-color: #FFFFFF;\n",
              "      --disabled-bg-color: #3B4455;\n",
              "      --disabled-fill-color: #666;\n",
              "  }\n",
              "\n",
              "  .colab-df-quickchart {\n",
              "    background-color: var(--bg-color);\n",
              "    border: none;\n",
              "    border-radius: 50%;\n",
              "    cursor: pointer;\n",
              "    display: none;\n",
              "    fill: var(--fill-color);\n",
              "    height: 32px;\n",
              "    padding: 0;\n",
              "    width: 32px;\n",
              "  }\n",
              "\n",
              "  .colab-df-quickchart:hover {\n",
              "    background-color: var(--hover-bg-color);\n",
              "    box-shadow: 0 1px 2px rgba(60, 64, 67, 0.3), 0 1px 3px 1px rgba(60, 64, 67, 0.15);\n",
              "    fill: var(--button-hover-fill-color);\n",
              "  }\n",
              "\n",
              "  .colab-df-quickchart-complete:disabled,\n",
              "  .colab-df-quickchart-complete:disabled:hover {\n",
              "    background-color: var(--disabled-bg-color);\n",
              "    fill: var(--disabled-fill-color);\n",
              "    box-shadow: none;\n",
              "  }\n",
              "\n",
              "  .colab-df-spinner {\n",
              "    border: 2px solid var(--fill-color);\n",
              "    border-color: transparent;\n",
              "    border-bottom-color: var(--fill-color);\n",
              "    animation:\n",
              "      spin 1s steps(1) infinite;\n",
              "  }\n",
              "\n",
              "  @keyframes spin {\n",
              "    0% {\n",
              "      border-color: transparent;\n",
              "      border-bottom-color: var(--fill-color);\n",
              "      border-left-color: var(--fill-color);\n",
              "    }\n",
              "    20% {\n",
              "      border-color: transparent;\n",
              "      border-left-color: var(--fill-color);\n",
              "      border-top-color: var(--fill-color);\n",
              "    }\n",
              "    30% {\n",
              "      border-color: transparent;\n",
              "      border-left-color: var(--fill-color);\n",
              "      border-top-color: var(--fill-color);\n",
              "      border-right-color: var(--fill-color);\n",
              "    }\n",
              "    40% {\n",
              "      border-color: transparent;\n",
              "      border-right-color: var(--fill-color);\n",
              "      border-top-color: var(--fill-color);\n",
              "    }\n",
              "    60% {\n",
              "      border-color: transparent;\n",
              "      border-right-color: var(--fill-color);\n",
              "    }\n",
              "    80% {\n",
              "      border-color: transparent;\n",
              "      border-right-color: var(--fill-color);\n",
              "      border-bottom-color: var(--fill-color);\n",
              "    }\n",
              "    90% {\n",
              "      border-color: transparent;\n",
              "      border-bottom-color: var(--fill-color);\n",
              "    }\n",
              "  }\n",
              "</style>\n",
              "\n",
              "  <script>\n",
              "    async function quickchart(key) {\n",
              "      const quickchartButtonEl =\n",
              "        document.querySelector('#' + key + ' button');\n",
              "      quickchartButtonEl.disabled = true;  // To prevent multiple clicks.\n",
              "      quickchartButtonEl.classList.add('colab-df-spinner');\n",
              "      try {\n",
              "        const charts = await google.colab.kernel.invokeFunction(\n",
              "            'suggestCharts', [key], {});\n",
              "      } catch (error) {\n",
              "        console.error('Error during call to suggestCharts:', error);\n",
              "      }\n",
              "      quickchartButtonEl.classList.remove('colab-df-spinner');\n",
              "      quickchartButtonEl.classList.add('colab-df-quickchart-complete');\n",
              "    }\n",
              "    (() => {\n",
              "      let quickchartButtonEl =\n",
              "        document.querySelector('#df-32f6bb12-0fde-4806-977e-d2c3173bd60b button');\n",
              "      quickchartButtonEl.style.display =\n",
              "        google.colab.kernel.accessAllowed ? 'block' : 'none';\n",
              "    })();\n",
              "  </script>\n",
              "</div>\n",
              "    </div>\n",
              "  </div>\n"
            ]
          },
          "metadata": {},
          "execution_count": 149
        }
      ],
      "source": [
        "# Checking Summary of the Data\n",
        "data.describe()"
      ]
    },
    {
      "cell_type": "markdown",
      "metadata": {
        "id": "lKFvNIcVc-FR"
      },
      "source": [
        "Here , We can see in the Summary that **Minimum value of Item_Visibility is zero** which makes no sense beacuse when we sold any product in the store or market, Visibility cannot to be zero.\n",
        "\n",
        "Also, **The Outlet_Establishment_Year ranges from 1985 to 2009** which is just showing which is min and max value in these summary.\n",
        "Instead of, we can convert this year to get the age of Store i.e. how old the store it is.\n",
        "\n"
      ]
    },
    {
      "cell_type": "code",
      "execution_count": null,
      "metadata": {
        "colab": {
          "base_uri": "https://localhost:8080/"
        },
        "id": "4G5IC-yc9qGg",
        "outputId": "3e221767-1980-4f3b-b321-a545db14876c"
      },
      "outputs": [
        {
          "output_type": "execute_result",
          "data": {
            "text/plain": [
              "Item_Identifier                 0\n",
              "Item_Weight                  2439\n",
              "Item_Fat_Content                0\n",
              "Item_Visibility                 0\n",
              "Item_Type                       0\n",
              "Item_MRP                        0\n",
              "Outlet_Identifier               0\n",
              "Outlet_Establishment_Year       0\n",
              "Outlet_Size                  4016\n",
              "Outlet_Location_Type            0\n",
              "Outlet_Type                     0\n",
              "Item_Outlet_Sales            5681\n",
              "source                          0\n",
              "dtype: int64"
            ]
          },
          "metadata": {},
          "execution_count": 150
        }
      ],
      "source": [
        "#Checking the Number Of Missing values\n",
        "data.isna().sum()"
      ]
    },
    {
      "cell_type": "markdown",
      "metadata": {
        "id": "dNITM7l2fIs_"
      },
      "source": [
        "As We can see in the above output that **total number of missing values** in the attributes Item_Weight, Outlet_Size and Item_Outlet_Sales are 2439, 4016 and 5681 respectively.\n",
        "So, In the Further Data Cleaning Process or In the EDA Process I'm going to\n",
        " either delete or impute these missing data."
      ]
    },
    {
      "cell_type": "code",
      "execution_count": null,
      "metadata": {
        "colab": {
          "base_uri": "https://localhost:8080/",
          "height": 467
        },
        "id": "OHrmFkdz9qZh",
        "outputId": "4462eefd-a00f-4a1b-93b9-b16be31c7335"
      },
      "outputs": [
        {
          "output_type": "execute_result",
          "data": {
            "text/plain": [
              "<matplotlib.legend.Legend at 0x7fb8c008b5b0>"
            ]
          },
          "metadata": {},
          "execution_count": 151
        },
        {
          "output_type": "display_data",
          "data": {
            "text/plain": [
              "<Figure size 640x480 with 1 Axes>"
            ],
            "image/png": "[encoded data removed]"
          },
          "metadata": {}
        }
      ],
      "source": [
        "#Drawing a Scatter Plot between Outlet_location_Type and Item_Outlet_sales\n",
        "import seaborn\n",
        "import matplotlib.pyplot as plt\n",
        "\n",
        "seaborn.scatterplot(x=\"Outlet_Location_Type\",y=\"Item_Outlet_Sales\",hue=\"Item_Type\",style=\"Item_Type\",data=data)\n",
        "plt.legend(bbox_to_anchor=(1.02, 1), loc='upper left', borderaxespad=0)"
      ]
    },
    {
      "cell_type": "markdown",
      "metadata": {
        "id": "l57-xoFZi0T6"
      },
      "source": [
        "The above Scatterplot helps us understand **how the location of outlets (Outlet_Location_Type) relates to the sales of items (Item_Outlet_Sales).** The different colors and styles represent various types of items, making it easier to identify patterns or trends in sales across different outlet locations and item types."
      ]
    },
    {
      "cell_type": "markdown",
      "metadata": {
        "id": "4pE7Sz_rjHZK"
      },
      "source": [
        "# Exploratory Data Analysis and Univariate Analysis                                                           "
      ]
    },
    {
      "cell_type": "markdown",
      "source": [
        "##Missing Values Treatment"
      ],
      "metadata": {
        "id": "1o6WH273BstZ"
      }
    },
    {
      "cell_type": "markdown",
      "metadata": {
        "id": "pys6s4P7ttWT"
      },
      "source": [
        "**Replacing Null Values in each column with the mean of the column**"
      ]
    },
    {
      "cell_type": "code",
      "execution_count": null,
      "metadata": {
        "id": "Yv5msGyTuHCg"
      },
      "outputs": [],
      "source": [
        "mean_item_weight = data['Item_Weight'].mean()\n",
        "data['Item_Weight'].fillna(mean_item_weight, inplace=True)"
      ]
    },
    {
      "cell_type": "code",
      "execution_count": null,
      "metadata": {
        "id": "OAQEf-IUvedX"
      },
      "outputs": [],
      "source": [
        "mean_sales = data['Item_Outlet_Sales'].mean()\n",
        "data['Item_Outlet_Sales'].fillna(mean_sales, inplace=True)"
      ]
    },
    {
      "cell_type": "markdown",
      "metadata": {
        "id": "ywsXWIb6v3hI"
      },
      "source": [
        "Since Outlet Size has Categorical Value.So, First we have to Convert this value into Numeric Values to perform missing values imputation."
      ]
    },
    {
      "cell_type": "code",
      "execution_count": null,
      "metadata": {
        "id": "Npy0uQTO2kAT",
        "colab": {
          "base_uri": "https://localhost:8080/"
        },
        "outputId": "36386ac2-f79d-4d6b-9c12-83c222cc343f"
      },
      "outputs": [
        {
          "output_type": "stream",
          "name": "stdout",
          "text": [
            "\n",
            "Frequency of Categories for variable Item_Fat_Content\n",
            "Low Fat    8485\n",
            "Regular    4824\n",
            "LF          522\n",
            "reg         195\n",
            "low fat     178\n",
            "Name: Item_Fat_Content, dtype: int64\n",
            "\n",
            "Frequency of Categories for variable Item_Type\n",
            "Fruits and Vegetables    2013\n",
            "Snack Foods              1989\n",
            "Household                1548\n",
            "Frozen Foods             1426\n",
            "Dairy                    1136\n",
            "Baking Goods             1086\n",
            "Canned                   1084\n",
            "Health and Hygiene        858\n",
            "Meat                      736\n",
            "Soft Drinks               726\n",
            "Breads                    416\n",
            "Hard Drinks               362\n",
            "Others                    280\n",
            "Starchy Foods             269\n",
            "Breakfast                 186\n",
            "Seafood                    89\n",
            "Name: Item_Type, dtype: int64\n",
            "\n",
            "Frequency of Categories for variable Outlet_Size\n",
            "Medium    4655\n",
            "Small     3980\n",
            "High      1553\n",
            "Name: Outlet_Size, dtype: int64\n",
            "\n",
            "Frequency of Categories for variable Outlet_Location_Type\n",
            "Tier 3    5583\n",
            "Tier 2    4641\n",
            "Tier 1    3980\n",
            "Name: Outlet_Location_Type, dtype: int64\n",
            "\n",
            "Frequency of Categories for variable Outlet_Type\n",
            "Supermarket Type1    9294\n",
            "Grocery Store        1805\n",
            "Supermarket Type3    1559\n",
            "Supermarket Type2    1546\n",
            "Name: Outlet_Type, dtype: int64\n"
          ]
        }
      ],
      "source": [
        "categorical_columns = data.select_dtypes(include=['object']).columns.tolist()\n",
        "categorical_columns = [col for col in categorical_columns if col not in ['Item_Identifier', 'Outlet_Identifier', 'source']]\n",
        "\n",
        "for col in categorical_columns:\n",
        "    print(f'\\nFrequency of Categories for variable {col}')\n",
        "    print(data[col].value_counts())\n"
      ]
    },
    {
      "cell_type": "markdown",
      "source": [
        "The Output Gives us the following Observations:\n",
        "\n",
        "**Item_Fat_Content**: Some 'Low Fat' items are wrongly coded as 'low fat' or 'LF', and 'Regular' items are sometimes listed as 'regular'. We need to make these labels consistent.\n",
        "\n",
        "**Item_Type**: Not all categories have many items. Combining some categories could give us better results.\n",
        "\n",
        "**Outlet_Type**: We're thinking about combining Supermarket Type2 and Type3, but we need to check if it's a good idea."
      ],
      "metadata": {
        "id": "70fKgxQuTHZ2"
      }
    },
    {
      "cell_type": "code",
      "source": [
        "#Number of unique values in each:\n",
        "data.apply(lambda x: len(x.unique()))"
      ],
      "metadata": {
        "colab": {
          "base_uri": "https://localhost:8080/"
        },
        "id": "rLPr4XO8dnY6",
        "outputId": "3fc0fa69-abdf-4872-800b-3f1bb2af2b06"
      },
      "execution_count": null,
      "outputs": [
        {
          "output_type": "execute_result",
          "data": {
            "text/plain": [
              "Item_Identifier               1559\n",
              "Item_Weight                    416\n",
              "Item_Fat_Content                 5\n",
              "Item_Visibility              13006\n",
              "Item_Type                       16\n",
              "Item_MRP                      8052\n",
              "Outlet_Identifier               10\n",
              "Outlet_Establishment_Year        9\n",
              "Outlet_Size                      4\n",
              "Outlet_Location_Type             3\n",
              "Outlet_Type                      4\n",
              "Item_Outlet_Sales             3494\n",
              "source                           2\n",
              "dtype: int64"
            ]
          },
          "metadata": {},
          "execution_count": 93
        }
      ]
    },
    {
      "cell_type": "code",
      "source": [
        "import seaborn as sns\n",
        "import matplotlib.pyplot as plt\n",
        "\n",
        "# Plot for Item_Fat_Content\n",
        "plt.figure(figsize=(10, 5))\n",
        "sns.countplot(x='Item_Fat_Content', data=data)\n",
        "plt.title('Item Fat Content Distribution')\n",
        "plt.show()\n",
        "\n"
      ],
      "metadata": {
        "colab": {
          "base_uri": "https://localhost:8080/",
          "height": 487
        },
        "id": "qnIWuxe3UF_m",
        "outputId": "4cb79b73-86f5-4d42-da0f-6b0952a0ea3b"
      },
      "execution_count": null,
      "outputs": [
        {
          "output_type": "display_data",
          "data": {
            "text/plain": [
              "<Figure size 1000x500 with 1 Axes>"
            ],
            "image/png": "[encoded data removed]"
          },
          "metadata": {}
        }
      ]
    },
    {
      "cell_type": "markdown",
      "source": [
        "\n",
        "**Item Fat Content Distribution:**\n",
        "\n",
        "Most items are labeled as 'Low Fat', but there are inconsistencies with 'low fat' and 'LF'. It's important to standardize these labels for clarity."
      ],
      "metadata": {
        "id": "ektvQZpYANiE"
      }
    },
    {
      "cell_type": "code",
      "source": [
        "# Plot for Item_Type\n",
        "plt.figure(figsize=(14, 6))\n",
        "sns.countplot(x='Item_Type', data=data, order=data['Item_Type'].value_counts().index)\n",
        "plt.title('Item Type Distribution')\n",
        "plt.xticks(rotation=45, ha='right')\n",
        "plt.show()\n",
        "\n"
      ],
      "metadata": {
        "colab": {
          "base_uri": "https://localhost:8080/",
          "height": 666
        },
        "id": "rpNC6EDNkYY0",
        "outputId": "b3955f84-803c-44fb-fa72-7363b3e34f7d"
      },
      "execution_count": null,
      "outputs": [
        {
          "output_type": "display_data",
          "data": {
            "text/plain": [
              "<Figure size 1400x600 with 1 Axes>"
            ],
            "image/png": "[encoded data removed]"
          },
          "metadata": {}
        }
      ]
    },
    {
      "cell_type": "markdown",
      "source": [
        "**Item Type Distribution:**\n",
        "\n",
        "The most common item types are 'Fruits and Vegetables', 'Snack Foods', and 'Household'. Some categories like 'Seafood' and 'Breakfast' have fewer items."
      ],
      "metadata": {
        "id": "Zn5ON_OnAU6c"
      }
    },
    {
      "cell_type": "code",
      "source": [
        "# Plot for Outlet_Size\n",
        "plt.figure(figsize=(8, 5))\n",
        "sns.countplot(x='Outlet_Size', data=data)\n",
        "plt.title('Outlet Size Distribution')\n",
        "plt.show()\n",
        "\n"
      ],
      "metadata": {
        "colab": {
          "base_uri": "https://localhost:8080/",
          "height": 487
        },
        "id": "TyIdkSMOkb5y",
        "outputId": "c8ed80a7-2d57-4be6-e120-bc8f0a6090a1"
      },
      "execution_count": null,
      "outputs": [
        {
          "output_type": "display_data",
          "data": {
            "text/plain": [
              "<Figure size 800x500 with 1 Axes>"
            ],
            "image/png": "[encoded data removed]"
          },
          "metadata": {}
        }
      ]
    },
    {
      "cell_type": "markdown",
      "source": [
        "**Outlet Size Distribution:**\n",
        "\n",
        "Medium-sized outlets are the most common, followed by small-sized outlets. High-sized outlets are the least common."
      ],
      "metadata": {
        "id": "wJoTfdcpAbT6"
      }
    },
    {
      "cell_type": "code",
      "source": [
        "# Plot for Outlet_Location_Type\n",
        "plt.figure(figsize=(8, 5))\n",
        "sns.countplot(x='Outlet_Location_Type', data=data)\n",
        "plt.title('Outlet Location Type Distribution')\n",
        "plt.show()\n",
        "\n",
        "\n"
      ],
      "metadata": {
        "colab": {
          "base_uri": "https://localhost:8080/",
          "height": 487
        },
        "id": "uKOkBODokeo5",
        "outputId": "2d774f25-6406-4cf4-a49c-9ec9b86afded"
      },
      "execution_count": null,
      "outputs": [
        {
          "output_type": "display_data",
          "data": {
            "text/plain": [
              "<Figure size 800x500 with 1 Axes>"
            ],
            "image/png": "[encoded data removed]"
          },
          "metadata": {}
        }
      ]
    },
    {
      "cell_type": "markdown",
      "source": [
        "**Outlet Location Type Distribution:**\n",
        "\n",
        "Most outlets are in Tier 3 locations, followed by Tier 2 and Tier 1. Tier 3 locations have significantly more outlets."
      ],
      "metadata": {
        "id": "mOzxkryHAhZM"
      }
    },
    {
      "cell_type": "code",
      "source": [
        "# Plot for Outlet_Type\n",
        "plt.figure(figsize=(10, 5))\n",
        "sns.countplot(x='Outlet_Type', data=data)\n",
        "plt.title('Outlet Type Distribution')\n",
        "plt.show()"
      ],
      "metadata": {
        "colab": {
          "base_uri": "https://localhost:8080/",
          "height": 487
        },
        "id": "Nf-2SO9rkggL",
        "outputId": "5457b5a2-7603-4438-fc47-b217e26b3065"
      },
      "execution_count": null,
      "outputs": [
        {
          "output_type": "display_data",
          "data": {
            "text/plain": [
              "<Figure size 1000x500 with 1 Axes>"
            ],
            "image/png": "[encoded data removed]"
          },
          "metadata": {}
        }
      ]
    },
    {
      "cell_type": "markdown",
      "source": [
        "**Outlet Type Distribution:**\n",
        "\n",
        "'Supermarket Type1' is the most common outlet type, followed by 'Grocery Store', 'Supermarket Type3', and 'Supermarket Type2'. 'Supermarket Type1' has a notably higher frequency."
      ],
      "metadata": {
        "id": "F_r01jRhAnEc"
      }
    },
    {
      "cell_type": "markdown",
      "source": [
        "#Bivariate Analysis"
      ],
      "metadata": {
        "id": "HJIVRWNSW38w"
      }
    },
    {
      "cell_type": "code",
      "source": [
        "import seaborn as sns\n",
        "import matplotlib.pyplot as plt\n",
        "\n",
        "# Selecting relevant columns for analysis\n",
        "numerical_columns = ['Item_Weight', 'Item_Visibility', 'Item_MRP', 'Outlet_Establishment_Year', 'Item_Outlet_Sales']\n",
        "selected_data = data[numerical_columns].dropna()\n",
        "\n",
        "# Correlation Coefficients\n",
        "correlation_matrix = selected_data.corr()\n",
        "plt.figure(figsize=(8, 6))\n",
        "sns.heatmap(correlation_matrix, annot=True, cmap='coolwarm', fmt=\".2f\", linewidths=.5)\n",
        "plt.title('Correlation Matrix')\n",
        "plt.show()\n",
        "\n"
      ],
      "metadata": {
        "colab": {
          "base_uri": "https://localhost:8080/",
          "height": 716
        },
        "id": "Wmb0-zKNXZ9Q",
        "outputId": "5f213255-0f60-4a75-c0d9-205a48c318ba"
      },
      "execution_count": null,
      "outputs": [
        {
          "output_type": "display_data",
          "data": {
            "text/plain": [
              "<Figure size 800x600 with 2 Axes>"
            ],
            "image/png": "[encoded data removed]"
          },
          "metadata": {}
        }
      ]
    },
    {
      "cell_type": "markdown",
      "source": [
        "Now,We dummy code all multi-class, categorical variables"
      ],
      "metadata": {
        "id": "83vn4yn21F3x"
      }
    },
    {
      "cell_type": "code",
      "source": [
        "df_dummies = pd.get_dummies(data, drop_first=True)\n",
        "df_dummies"
      ],
      "metadata": {
        "colab": {
          "base_uri": "https://localhost:8080/",
          "height": 461
        },
        "id": "iXal-G8G1KhI",
        "outputId": "e6897d02-b770-4b62-8d04-3954bac2aa67"
      },
      "execution_count": null,
      "outputs": [
        {
          "output_type": "execute_result",
          "data": {
            "text/plain": [
              "       Item_Weight  Item_Visibility  Item_MRP  Outlet_Establishment_Year  \\\n",
              "0             9.30         0.016047  249.8092                       1999   \n",
              "1             5.92         0.019278   48.2692                       2009   \n",
              "2            17.50         0.016760  141.6180                       1999   \n",
              "3            19.20         0.000000  182.0950                       1998   \n",
              "4             8.93         0.000000   53.8614                       1987   \n",
              "...            ...              ...       ...                        ...   \n",
              "14199        10.50         0.013496  141.3154                       1997   \n",
              "14200         7.60         0.142991  169.1448                       2009   \n",
              "14201        10.00         0.073529  118.7440                       2002   \n",
              "14202        15.30         0.000000  214.6218                       2007   \n",
              "14203         9.50         0.104720   79.7960                       2002   \n",
              "\n",
              "       Item_Outlet_Sales  Item_Identifier_DRA24  Item_Identifier_DRA59  \\\n",
              "0            3735.138000                      0                      0   \n",
              "1             443.422800                      0                      0   \n",
              "2            2097.270000                      0                      0   \n",
              "3             732.380000                      0                      0   \n",
              "4             994.705200                      0                      0   \n",
              "...                  ...                    ...                    ...   \n",
              "14199        2181.288914                      0                      0   \n",
              "14200        2181.288914                      0                      0   \n",
              "14201        2181.288914                      0                      0   \n",
              "14202        2181.288914                      0                      0   \n",
              "14203        2181.288914                      0                      0   \n",
              "\n",
              "       Item_Identifier_DRB01  Item_Identifier_DRB13  Item_Identifier_DRB24  \\\n",
              "0                          0                      0                      0   \n",
              "1                          0                      0                      0   \n",
              "2                          0                      0                      0   \n",
              "3                          0                      0                      0   \n",
              "4                          0                      0                      0   \n",
              "...                      ...                    ...                    ...   \n",
              "14199                      0                      0                      0   \n",
              "14200                      0                      0                      0   \n",
              "14201                      0                      0                      0   \n",
              "14202                      0                      0                      0   \n",
              "14203                      0                      0                      0   \n",
              "\n",
              "       ...  Outlet_Identifier_OUT046  Outlet_Identifier_OUT049  \\\n",
              "0      ...                         0                         1   \n",
              "1      ...                         0                         0   \n",
              "2      ...                         0                         1   \n",
              "3      ...                         0                         0   \n",
              "4      ...                         0                         0   \n",
              "...    ...                       ...                       ...   \n",
              "14199  ...                         1                         0   \n",
              "14200  ...                         0                         0   \n",
              "14201  ...                         0                         0   \n",
              "14202  ...                         0                         0   \n",
              "14203  ...                         0                         0   \n",
              "\n",
              "       Outlet_Size_Medium  Outlet_Size_Small  Outlet_Location_Type_Tier 2  \\\n",
              "0                       1                  0                            0   \n",
              "1                       1                  0                            0   \n",
              "2                       1                  0                            0   \n",
              "3                       0                  0                            0   \n",
              "4                       0                  0                            0   \n",
              "...                   ...                ...                          ...   \n",
              "14199                   0                  1                            0   \n",
              "14200                   1                  0                            0   \n",
              "14201                   0                  0                            1   \n",
              "14202                   0                  0                            1   \n",
              "14203                   0                  0                            1   \n",
              "\n",
              "       Outlet_Location_Type_Tier 3  Outlet_Type_Supermarket Type1  \\\n",
              "0                                0                              1   \n",
              "1                                1                              0   \n",
              "2                                0                              1   \n",
              "3                                1                              0   \n",
              "4                                1                              1   \n",
              "...                            ...                            ...   \n",
              "14199                            0                              1   \n",
              "14200                            1                              0   \n",
              "14201                            0                              1   \n",
              "14202                            0                              1   \n",
              "14203                            0                              1   \n",
              "\n",
              "       Outlet_Type_Supermarket Type2  Outlet_Type_Supermarket Type3  \\\n",
              "0                                  0                              0   \n",
              "1                                  1                              0   \n",
              "2                                  0                              0   \n",
              "3                                  0                              0   \n",
              "4                                  0                              0   \n",
              "...                              ...                            ...   \n",
              "14199                              0                              0   \n",
              "14200                              1                              0   \n",
              "14201                              0                              0   \n",
              "14202                              0                              0   \n",
              "14203                              0                              0   \n",
              "\n",
              "       source_train  \n",
              "0                 1  \n",
              "1                 1  \n",
              "2                 1  \n",
              "3                 1  \n",
              "4                 1  \n",
              "...             ...  \n",
              "14199             0  \n",
              "14200             0  \n",
              "14201             0  \n",
              "14202             0  \n",
              "14203             0  \n",
              "\n",
              "[14204 rows x 1599 columns]"
            ],
            "text/html": [
              "\n",
              "  <div id=\"df-b8be3818-713b-4c8c-95d7-83d0553cbfbc\" class=\"colab-df-container\">\n",
              "    <div>\n",
              "<style scoped>\n",
              "    .dataframe tbody tr th:only-of-type {\n",
              "        vertical-align: middle;\n",
              "    }\n",
              "\n",
              "    .dataframe tbody tr th {\n",
              "        vertical-align: top;\n",
              "    }\n",
              "\n",
              "    .dataframe thead th {\n",
              "        text-align: right;\n",
              "    }\n",
              "</style>\n",
              "<table border=\"1\" class=\"dataframe\">\n",
              "  <thead>\n",
              "    <tr style=\"text-align: right;\">\n",
              "      <th></th>\n",
              "      <th>Item_Weight</th>\n",
              "      <th>Item_Visibility</th>\n",
              "      <th>Item_MRP</th>\n",
              "      <th>Outlet_Establishment_Year</th>\n",
              "      <th>Item_Outlet_Sales</th>\n",
              "      <th>Item_Identifier_DRA24</th>\n",
              "      <th>Item_Identifier_DRA59</th>\n",
              "      <th>Item_Identifier_DRB01</th>\n",
              "      <th>Item_Identifier_DRB13</th>\n",
              "      <th>Item_Identifier_DRB24</th>\n",
              "      <th>...</th>\n",
              "      <th>Outlet_Identifier_OUT046</th>\n",
              "      <th>Outlet_Identifier_OUT049</th>\n",
              "      <th>Outlet_Size_Medium</th>\n",
              "      <th>Outlet_Size_Small</th>\n",
              "      <th>Outlet_Location_Type_Tier 2</th>\n",
              "      <th>Outlet_Location_Type_Tier 3</th>\n",
              "      <th>Outlet_Type_Supermarket Type1</th>\n",
              "      <th>Outlet_Type_Supermarket Type2</th>\n",
              "      <th>Outlet_Type_Supermarket Type3</th>\n",
              "      <th>source_train</th>\n",
              "    </tr>\n",
              "  </thead>\n",
              "  <tbody>\n",
              "    <tr>\n",
              "      <th>0</th>\n",
              "      <td>9.30</td>\n",
              "      <td>0.016047</td>\n",
              "      <td>249.8092</td>\n",
              "      <td>1999</td>\n",
              "      <td>3735.138000</td>\n",
              "      <td>0</td>\n",
              "      <td>0</td>\n",
              "      <td>0</td>\n",
              "      <td>0</td>\n",
              "      <td>0</td>\n",
              "      <td>...</td>\n",
              "      <td>0</td>\n",
              "      <td>1</td>\n",
              "      <td>1</td>\n",
              "      <td>0</td>\n",
              "      <td>0</td>\n",
              "      <td>0</td>\n",
              "      <td>1</td>\n",
              "      <td>0</td>\n",
              "      <td>0</td>\n",
              "      <td>1</td>\n",
              "    </tr>\n",
              "    <tr>\n",
              "      <th>1</th>\n",
              "      <td>5.92</td>\n",
              "      <td>0.019278</td>\n",
              "      <td>48.2692</td>\n",
              "      <td>2009</td>\n",
              "      <td>443.422800</td>\n",
              "      <td>0</td>\n",
              "      <td>0</td>\n",
              "      <td>0</td>\n",
              "      <td>0</td>\n",
              "      <td>0</td>\n",
              "      <td>...</td>\n",
              "      <td>0</td>\n",
              "      <td>0</td>\n",
              "      <td>1</td>\n",
              "      <td>0</td>\n",
              "      <td>0</td>\n",
              "      <td>1</td>\n",
              "      <td>0</td>\n",
              "      <td>1</td>\n",
              "      <td>0</td>\n",
              "      <td>1</td>\n",
              "    </tr>\n",
              "    <tr>\n",
              "      <th>2</th>\n",
              "      <td>17.50</td>\n",
              "      <td>0.016760</td>\n",
              "      <td>141.6180</td>\n",
              "      <td>1999</td>\n",
              "      <td>2097.270000</td>\n",
              "      <td>0</td>\n",
              "      <td>0</td>\n",
              "      <td>0</td>\n",
              "      <td>0</td>\n",
              "      <td>0</td>\n",
              "      <td>...</td>\n",
              "      <td>0</td>\n",
              "      <td>1</td>\n",
              "      <td>1</td>\n",
              "      <td>0</td>\n",
              "      <td>0</td>\n",
              "      <td>0</td>\n",
              "      <td>1</td>\n",
              "      <td>0</td>\n",
              "      <td>0</td>\n",
              "      <td>1</td>\n",
              "    </tr>\n",
              "    <tr>\n",
              "      <th>3</th>\n",
              "      <td>19.20</td>\n",
              "      <td>0.000000</td>\n",
              "      <td>182.0950</td>\n",
              "      <td>1998</td>\n",
              "      <td>732.380000</td>\n",
              "      <td>0</td>\n",
              "      <td>0</td>\n",
              "      <td>0</td>\n",
              "      <td>0</td>\n",
              "      <td>0</td>\n",
              "      <td>...</td>\n",
              "      <td>0</td>\n",
              "      <td>0</td>\n",
              "      <td>0</td>\n",
              "      <td>0</td>\n",
              "      <td>0</td>\n",
              "      <td>1</td>\n",
              "      <td>0</td>\n",
              "      <td>0</td>\n",
              "      <td>0</td>\n",
              "      <td>1</td>\n",
              "    </tr>\n",
              "    <tr>\n",
              "      <th>4</th>\n",
              "      <td>8.93</td>\n",
              "      <td>0.000000</td>\n",
              "      <td>53.8614</td>\n",
              "      <td>1987</td>\n",
              "      <td>994.705200</td>\n",
              "      <td>0</td>\n",
              "      <td>0</td>\n",
              "      <td>0</td>\n",
              "      <td>0</td>\n",
              "      <td>0</td>\n",
              "      <td>...</td>\n",
              "      <td>0</td>\n",
              "      <td>0</td>\n",
              "      <td>0</td>\n",
              "      <td>0</td>\n",
              "      <td>0</td>\n",
              "      <td>1</td>\n",
              "      <td>1</td>\n",
              "      <td>0</td>\n",
              "      <td>0</td>\n",
              "      <td>1</td>\n",
              "    </tr>\n",
              "    <tr>\n",
              "      <th>...</th>\n",
              "      <td>...</td>\n",
              "      <td>...</td>\n",
              "      <td>...</td>\n",
              "      <td>...</td>\n",
              "      <td>...</td>\n",
              "      <td>...</td>\n",
              "      <td>...</td>\n",
              "      <td>...</td>\n",
              "      <td>...</td>\n",
              "      <td>...</td>\n",
              "      <td>...</td>\n",
              "      <td>...</td>\n",
              "      <td>...</td>\n",
              "      <td>...</td>\n",
              "      <td>...</td>\n",
              "      <td>...</td>\n",
              "      <td>...</td>\n",
              "      <td>...</td>\n",
              "      <td>...</td>\n",
              "      <td>...</td>\n",
              "      <td>...</td>\n",
              "    </tr>\n",
              "    <tr>\n",
              "      <th>14199</th>\n",
              "      <td>10.50</td>\n",
              "      <td>0.013496</td>\n",
              "      <td>141.3154</td>\n",
              "      <td>1997</td>\n",
              "      <td>2181.288914</td>\n",
              "      <td>0</td>\n",
              "      <td>0</td>\n",
              "      <td>0</td>\n",
              "      <td>0</td>\n",
              "      <td>0</td>\n",
              "      <td>...</td>\n",
              "      <td>1</td>\n",
              "      <td>0</td>\n",
              "      <td>0</td>\n",
              "      <td>1</td>\n",
              "      <td>0</td>\n",
              "      <td>0</td>\n",
              "      <td>1</td>\n",
              "      <td>0</td>\n",
              "      <td>0</td>\n",
              "      <td>0</td>\n",
              "    </tr>\n",
              "    <tr>\n",
              "      <th>14200</th>\n",
              "      <td>7.60</td>\n",
              "      <td>0.142991</td>\n",
              "      <td>169.1448</td>\n",
              "      <td>2009</td>\n",
              "      <td>2181.288914</td>\n",
              "      <td>0</td>\n",
              "      <td>0</td>\n",
              "      <td>0</td>\n",
              "      <td>0</td>\n",
              "      <td>0</td>\n",
              "      <td>...</td>\n",
              "      <td>0</td>\n",
              "      <td>0</td>\n",
              "      <td>1</td>\n",
              "      <td>0</td>\n",
              "      <td>0</td>\n",
              "      <td>1</td>\n",
              "      <td>0</td>\n",
              "      <td>1</td>\n",
              "      <td>0</td>\n",
              "      <td>0</td>\n",
              "    </tr>\n",
              "    <tr>\n",
              "      <th>14201</th>\n",
              "      <td>10.00</td>\n",
              "      <td>0.073529</td>\n",
              "      <td>118.7440</td>\n",
              "      <td>2002</td>\n",
              "      <td>2181.288914</td>\n",
              "      <td>0</td>\n",
              "      <td>0</td>\n",
              "      <td>0</td>\n",
              "      <td>0</td>\n",
              "      <td>0</td>\n",
              "      <td>...</td>\n",
              "      <td>0</td>\n",
              "      <td>0</td>\n",
              "      <td>0</td>\n",
              "      <td>0</td>\n",
              "      <td>1</td>\n",
              "      <td>0</td>\n",
              "      <td>1</td>\n",
              "      <td>0</td>\n",
              "      <td>0</td>\n",
              "      <td>0</td>\n",
              "    </tr>\n",
              "    <tr>\n",
              "      <th>14202</th>\n",
              "      <td>15.30</td>\n",
              "      <td>0.000000</td>\n",
              "      <td>214.6218</td>\n",
              "      <td>2007</td>\n",
              "      <td>2181.288914</td>\n",
              "      <td>0</td>\n",
              "      <td>0</td>\n",
              "      <td>0</td>\n",
              "      <td>0</td>\n",
              "      <td>0</td>\n",
              "      <td>...</td>\n",
              "      <td>0</td>\n",
              "      <td>0</td>\n",
              "      <td>0</td>\n",
              "      <td>0</td>\n",
              "      <td>1</td>\n",
              "      <td>0</td>\n",
              "      <td>1</td>\n",
              "      <td>0</td>\n",
              "      <td>0</td>\n",
              "      <td>0</td>\n",
              "    </tr>\n",
              "    <tr>\n",
              "      <th>14203</th>\n",
              "      <td>9.50</td>\n",
              "      <td>0.104720</td>\n",
              "      <td>79.7960</td>\n",
              "      <td>2002</td>\n",
              "      <td>2181.288914</td>\n",
              "      <td>0</td>\n",
              "      <td>0</td>\n",
              "      <td>0</td>\n",
              "      <td>0</td>\n",
              "      <td>0</td>\n",
              "      <td>...</td>\n",
              "      <td>0</td>\n",
              "      <td>0</td>\n",
              "      <td>0</td>\n",
              "      <td>0</td>\n",
              "      <td>1</td>\n",
              "      <td>0</td>\n",
              "      <td>1</td>\n",
              "      <td>0</td>\n",
              "      <td>0</td>\n",
              "      <td>0</td>\n",
              "    </tr>\n",
              "  </tbody>\n",
              "</table>\n",
              "<p>14204 rows × 1599 columns</p>\n",
              "</div>\n",
              "    <div class=\"colab-df-buttons\">\n",
              "\n",
              "  <div class=\"colab-df-container\">\n",
              "    <button class=\"colab-df-convert\" onclick=\"convertToInteractive('df-b8be3818-713b-4c8c-95d7-83d0553cbfbc')\"\n",
              "            title=\"Convert this dataframe to an interactive table.\"\n",
              "            style=\"display:none;\">\n",
              "\n",
              "  <svg xmlns=\"http://www.w3.org/2000/svg\" height=\"24px\" viewBox=\"0 -960 960 960\">\n",
              "    <path d=\"M120-120v-720h720v720H120Zm60-500h600v-160H180v160Zm220 220h160v-160H400v160Zm0 220h160v-160H400v160ZM180-400h160v-160H180v160Zm440 0h160v-160H620v160ZM180-180h160v-160H180v160Zm440 0h160v-160H620v160Z\"/>\n",
              "  </svg>\n",
              "    </button>\n",
              "\n",
              "  <style>\n",
              "    .colab-df-container {\n",
              "      display:flex;\n",
              "      gap: 12px;\n",
              "    }\n",
              "\n",
              "    .colab-df-convert {\n",
              "      background-color: #E8F0FE;\n",
              "      border: none;\n",
              "      border-radius: 50%;\n",
              "      cursor: pointer;\n",
              "      display: none;\n",
              "      fill: #1967D2;\n",
              "      height: 32px;\n",
              "      padding: 0 0 0 0;\n",
              "      width: 32px;\n",
              "    }\n",
              "\n",
              "    .colab-df-convert:hover {\n",
              "      background-color: #E2EBFA;\n",
              "      box-shadow: 0px 1px 2px rgba(60, 64, 67, 0.3), 0px 1px 3px 1px rgba(60, 64, 67, 0.15);\n",
              "      fill: #174EA6;\n",
              "    }\n",
              "\n",
              "    .colab-df-buttons div {\n",
              "      margin-bottom: 4px;\n",
              "    }\n",
              "\n",
              "    [theme=dark] .colab-df-convert {\n",
              "      background-color: #3B4455;\n",
              "      fill: #D2E3FC;\n",
              "    }\n",
              "\n",
              "    [theme=dark] .colab-df-convert:hover {\n",
              "      background-color: #434B5C;\n",
              "      box-shadow: 0px 1px 3px 1px rgba(0, 0, 0, 0.15);\n",
              "      filter: drop-shadow(0px 1px 2px rgba(0, 0, 0, 0.3));\n",
              "      fill: #FFFFFF;\n",
              "    }\n",
              "  </style>\n",
              "\n",
              "    <script>\n",
              "      const buttonEl =\n",
              "        document.querySelector('#df-b8be3818-713b-4c8c-95d7-83d0553cbfbc button.colab-df-convert');\n",
              "      buttonEl.style.display =\n",
              "        google.colab.kernel.accessAllowed ? 'block' : 'none';\n",
              "\n",
              "      async function convertToInteractive(key) {\n",
              "        const element = document.querySelector('#df-b8be3818-713b-4c8c-95d7-83d0553cbfbc');\n",
              "        const dataTable =\n",
              "          await google.colab.kernel.invokeFunction('convertToInteractive',\n",
              "                                                    [key], {});\n",
              "        if (!dataTable) return;\n",
              "\n",
              "        const docLinkHtml = 'Like what you see? Visit the ' +\n",
              "          '<a target=\"_blank\" href=https://colab.research.google.com/notebooks/data_table.ipynb>data table notebook</a>'\n",
              "          + ' to learn more about interactive tables.';\n",
              "        element.innerHTML = '';\n",
              "        dataTable['output_type'] = 'display_data';\n",
              "        await google.colab.output.renderOutput(dataTable, element);\n",
              "        const docLink = document.createElement('div');\n",
              "        docLink.innerHTML = docLinkHtml;\n",
              "        element.appendChild(docLink);\n",
              "      }\n",
              "    </script>\n",
              "  </div>\n",
              "\n",
              "\n",
              "<div id=\"df-51f5bb5e-4fa8-42fa-a140-6e0dbf8c9b78\">\n",
              "  <button class=\"colab-df-quickchart\" onclick=\"quickchart('df-51f5bb5e-4fa8-42fa-a140-6e0dbf8c9b78')\"\n",
              "            title=\"Suggest charts\"\n",
              "            style=\"display:none;\">\n",
              "\n",
              "<svg xmlns=\"http://www.w3.org/2000/svg\" height=\"24px\"viewBox=\"0 0 24 24\"\n",
              "     width=\"24px\">\n",
              "    <g>\n",
              "        <path d=\"M19 3H5c-1.1 0-2 .9-2 2v14c0 1.1.9 2 2 2h14c1.1 0 2-.9 2-2V5c0-1.1-.9-2-2-2zM9 17H7v-7h2v7zm4 0h-2V7h2v10zm4 0h-2v-4h2v4z\"/>\n",
              "    </g>\n",
              "</svg>\n",
              "  </button>\n",
              "\n",
              "<style>\n",
              "  .colab-df-quickchart {\n",
              "      --bg-color: #E8F0FE;\n",
              "      --fill-color: #1967D2;\n",
              "      --hover-bg-color: #E2EBFA;\n",
              "      --hover-fill-color: #174EA6;\n",
              "      --disabled-fill-color: #AAA;\n",
              "      --disabled-bg-color: #DDD;\n",
              "  }\n",
              "\n",
              "  [theme=dark] .colab-df-quickchart {\n",
              "      --bg-color: #3B4455;\n",
              "      --fill-color: #D2E3FC;\n",
              "      --hover-bg-color: #434B5C;\n",
              "      --hover-fill-color: #FFFFFF;\n",
              "      --disabled-bg-color: #3B4455;\n",
              "      --disabled-fill-color: #666;\n",
              "  }\n",
              "\n",
              "  .colab-df-quickchart {\n",
              "    background-color: var(--bg-color);\n",
              "    border: none;\n",
              "    border-radius: 50%;\n",
              "    cursor: pointer;\n",
              "    display: none;\n",
              "    fill: var(--fill-color);\n",
              "    height: 32px;\n",
              "    padding: 0;\n",
              "    width: 32px;\n",
              "  }\n",
              "\n",
              "  .colab-df-quickchart:hover {\n",
              "    background-color: var(--hover-bg-color);\n",
              "    box-shadow: 0 1px 2px rgba(60, 64, 67, 0.3), 0 1px 3px 1px rgba(60, 64, 67, 0.15);\n",
              "    fill: var(--button-hover-fill-color);\n",
              "  }\n",
              "\n",
              "  .colab-df-quickchart-complete:disabled,\n",
              "  .colab-df-quickchart-complete:disabled:hover {\n",
              "    background-color: var(--disabled-bg-color);\n",
              "    fill: var(--disabled-fill-color);\n",
              "    box-shadow: none;\n",
              "  }\n",
              "\n",
              "  .colab-df-spinner {\n",
              "    border: 2px solid var(--fill-color);\n",
              "    border-color: transparent;\n",
              "    border-bottom-color: var(--fill-color);\n",
              "    animation:\n",
              "      spin 1s steps(1) infinite;\n",
              "  }\n",
              "\n",
              "  @keyframes spin {\n",
              "    0% {\n",
              "      border-color: transparent;\n",
              "      border-bottom-color: var(--fill-color);\n",
              "      border-left-color: var(--fill-color);\n",
              "    }\n",
              "    20% {\n",
              "      border-color: transparent;\n",
              "      border-left-color: var(--fill-color);\n",
              "      border-top-color: var(--fill-color);\n",
              "    }\n",
              "    30% {\n",
              "      border-color: transparent;\n",
              "      border-left-color: var(--fill-color);\n",
              "      border-top-color: var(--fill-color);\n",
              "      border-right-color: var(--fill-color);\n",
              "    }\n",
              "    40% {\n",
              "      border-color: transparent;\n",
              "      border-right-color: var(--fill-color);\n",
              "      border-top-color: var(--fill-color);\n",
              "    }\n",
              "    60% {\n",
              "      border-color: transparent;\n",
              "      border-right-color: var(--fill-color);\n",
              "    }\n",
              "    80% {\n",
              "      border-color: transparent;\n",
              "      border-right-color: var(--fill-color);\n",
              "      border-bottom-color: var(--fill-color);\n",
              "    }\n",
              "    90% {\n",
              "      border-color: transparent;\n",
              "      border-bottom-color: var(--fill-color);\n",
              "    }\n",
              "  }\n",
              "</style>\n",
              "\n",
              "  <script>\n",
              "    async function quickchart(key) {\n",
              "      const quickchartButtonEl =\n",
              "        document.querySelector('#' + key + ' button');\n",
              "      quickchartButtonEl.disabled = true;  // To prevent multiple clicks.\n",
              "      quickchartButtonEl.classList.add('colab-df-spinner');\n",
              "      try {\n",
              "        const charts = await google.colab.kernel.invokeFunction(\n",
              "            'suggestCharts', [key], {});\n",
              "      } catch (error) {\n",
              "        console.error('Error during call to suggestCharts:', error);\n",
              "      }\n",
              "      quickchartButtonEl.classList.remove('colab-df-spinner');\n",
              "      quickchartButtonEl.classList.add('colab-df-quickchart-complete');\n",
              "    }\n",
              "    (() => {\n",
              "      let quickchartButtonEl =\n",
              "        document.querySelector('#df-51f5bb5e-4fa8-42fa-a140-6e0dbf8c9b78 button');\n",
              "      quickchartButtonEl.style.display =\n",
              "        google.colab.kernel.accessAllowed ? 'block' : 'none';\n",
              "    })();\n",
              "  </script>\n",
              "</div>\n",
              "    </div>\n",
              "  </div>\n"
            ]
          },
          "metadata": {},
          "execution_count": 104
        }
      ]
    },
    {
      "cell_type": "markdown",
      "source": [
        "To remove any possible order effects in the data, it is good practice to first shuffle the rows of the data prior to splitting the data into features (X) and outcome (y).\n"
      ],
      "metadata": {
        "id": "IWDVvQDS1lbX"
      }
    },
    {
      "cell_type": "code",
      "source": [
        "from sklearn.utils import shuffle\n",
        "\n",
        "df_shuffled = shuffle(df_dummies, random_state=42)"
      ],
      "metadata": {
        "id": "7gWbNJle1m3s"
      },
      "execution_count": null,
      "outputs": []
    },
    {
      "cell_type": "markdown",
      "source": [
        "Now that the data has been shuffled, we will split the rows in our data into features (X) and the dependent variable (y).\n",
        "\n",
        "Split df_shuffled into X and y as follows:"
      ],
      "metadata": {
        "id": "DBNJS7bc2RDL"
      }
    },
    {
      "cell_type": "code",
      "source": [
        "DV = 'Item_Outlet_Sales'\n",
        "X = df_shuffled.drop(DV, axis=1)\n",
        "y = df_shuffled[DV]"
      ],
      "metadata": {
        "id": "6vfsKdN72Sqd"
      },
      "execution_count": null,
      "outputs": []
    },
    {
      "cell_type": "markdown",
      "source": [
        "Split X and y into testing and training data"
      ],
      "metadata": {
        "id": "96Iugu5a235w"
      }
    },
    {
      "cell_type": "code",
      "source": [
        "from sklearn.model_selection import train_test_split\n",
        "\n",
        "X_train, X_test, y_train, y_test = train_test_split(X, y, test_size=0.33, random_state=42)"
      ],
      "metadata": {
        "id": "z6MfLEvd2kj5"
      },
      "execution_count": null,
      "outputs": []
    },
    {
      "cell_type": "code",
      "source": [
        "X_train.head()"
      ],
      "metadata": {
        "colab": {
          "base_uri": "https://localhost:8080/",
          "height": 273
        },
        "id": "x31wL2Js2-u7",
        "outputId": "7644ed95-a698-47d7-c175-b5a65df21c1a"
      },
      "execution_count": null,
      "outputs": [
        {
          "output_type": "execute_result",
          "data": {
            "text/plain": [
              "       Item_Weight  Item_Visibility  Item_MRP  Outlet_Establishment_Year  \\\n",
              "11614    12.792854         0.061986   35.6532                       1985   \n",
              "13954    12.792854         0.083924  261.3910                       1985   \n",
              "8975     20.700000         0.169808  183.4266                       1997   \n",
              "4919      9.100000         0.055515  112.5518                       1999   \n",
              "7990      9.500000         0.041971   33.3900                       2002   \n",
              "\n",
              "       Item_Identifier_DRA24  Item_Identifier_DRA59  Item_Identifier_DRB01  \\\n",
              "11614                      0                      0                      0   \n",
              "13954                      0                      0                      0   \n",
              "8975                       0                      0                      0   \n",
              "4919                       0                      0                      0   \n",
              "7990                       0                      0                      0   \n",
              "\n",
              "       Item_Identifier_DRB13  Item_Identifier_DRB24  Item_Identifier_DRB25  \\\n",
              "11614                      0                      0                      0   \n",
              "13954                      0                      0                      0   \n",
              "8975                       0                      0                      0   \n",
              "4919                       0                      0                      0   \n",
              "7990                       0                      0                      0   \n",
              "\n",
              "       ...  Outlet_Identifier_OUT046  Outlet_Identifier_OUT049  \\\n",
              "11614  ...                         0                         0   \n",
              "13954  ...                         0                         0   \n",
              "8975   ...                         1                         0   \n",
              "4919   ...                         0                         1   \n",
              "7990   ...                         0                         0   \n",
              "\n",
              "       Outlet_Size_Medium  Outlet_Size_Small  Outlet_Location_Type_Tier 2  \\\n",
              "11614                   1                  0                            0   \n",
              "13954                   1                  0                            0   \n",
              "8975                    0                  1                            0   \n",
              "4919                    1                  0                            0   \n",
              "7990                    0                  0                            1   \n",
              "\n",
              "       Outlet_Location_Type_Tier 3  Outlet_Type_Supermarket Type1  \\\n",
              "11614                            1                              0   \n",
              "13954                            1                              0   \n",
              "8975                             0                              1   \n",
              "4919                             0                              1   \n",
              "7990                             0                              1   \n",
              "\n",
              "       Outlet_Type_Supermarket Type2  Outlet_Type_Supermarket Type3  \\\n",
              "11614                              0                              1   \n",
              "13954                              0                              1   \n",
              "8975                               0                              0   \n",
              "4919                               0                              0   \n",
              "7990                               0                              0   \n",
              "\n",
              "       source_train  \n",
              "11614             0  \n",
              "13954             0  \n",
              "8975              0  \n",
              "4919              1  \n",
              "7990              1  \n",
              "\n",
              "[5 rows x 1598 columns]"
            ],
            "text/html": [
              "\n",
              "  <div id=\"df-c6b3c5b3-176e-4606-a6e0-0ecb7120f048\" class=\"colab-df-container\">\n",
              "    <div>\n",
              "<style scoped>\n",
              "    .dataframe tbody tr th:only-of-type {\n",
              "        vertical-align: middle;\n",
              "    }\n",
              "\n",
              "    .dataframe tbody tr th {\n",
              "        vertical-align: top;\n",
              "    }\n",
              "\n",
              "    .dataframe thead th {\n",
              "        text-align: right;\n",
              "    }\n",
              "</style>\n",
              "<table border=\"1\" class=\"dataframe\">\n",
              "  <thead>\n",
              "    <tr style=\"text-align: right;\">\n",
              "      <th></th>\n",
              "      <th>Item_Weight</th>\n",
              "      <th>Item_Visibility</th>\n",
              "      <th>Item_MRP</th>\n",
              "      <th>Outlet_Establishment_Year</th>\n",
              "      <th>Item_Identifier_DRA24</th>\n",
              "      <th>Item_Identifier_DRA59</th>\n",
              "      <th>Item_Identifier_DRB01</th>\n",
              "      <th>Item_Identifier_DRB13</th>\n",
              "      <th>Item_Identifier_DRB24</th>\n",
              "      <th>Item_Identifier_DRB25</th>\n",
              "      <th>...</th>\n",
              "      <th>Outlet_Identifier_OUT046</th>\n",
              "      <th>Outlet_Identifier_OUT049</th>\n",
              "      <th>Outlet_Size_Medium</th>\n",
              "      <th>Outlet_Size_Small</th>\n",
              "      <th>Outlet_Location_Type_Tier 2</th>\n",
              "      <th>Outlet_Location_Type_Tier 3</th>\n",
              "      <th>Outlet_Type_Supermarket Type1</th>\n",
              "      <th>Outlet_Type_Supermarket Type2</th>\n",
              "      <th>Outlet_Type_Supermarket Type3</th>\n",
              "      <th>source_train</th>\n",
              "    </tr>\n",
              "  </thead>\n",
              "  <tbody>\n",
              "    <tr>\n",
              "      <th>11614</th>\n",
              "      <td>12.792854</td>\n",
              "      <td>0.061986</td>\n",
              "      <td>35.6532</td>\n",
              "      <td>1985</td>\n",
              "      <td>0</td>\n",
              "      <td>0</td>\n",
              "      <td>0</td>\n",
              "      <td>0</td>\n",
              "      <td>0</td>\n",
              "      <td>0</td>\n",
              "      <td>...</td>\n",
              "      <td>0</td>\n",
              "      <td>0</td>\n",
              "      <td>1</td>\n",
              "      <td>0</td>\n",
              "      <td>0</td>\n",
              "      <td>1</td>\n",
              "      <td>0</td>\n",
              "      <td>0</td>\n",
              "      <td>1</td>\n",
              "      <td>0</td>\n",
              "    </tr>\n",
              "    <tr>\n",
              "      <th>13954</th>\n",
              "      <td>12.792854</td>\n",
              "      <td>0.083924</td>\n",
              "      <td>261.3910</td>\n",
              "      <td>1985</td>\n",
              "      <td>0</td>\n",
              "      <td>0</td>\n",
              "      <td>0</td>\n",
              "      <td>0</td>\n",
              "      <td>0</td>\n",
              "      <td>0</td>\n",
              "      <td>...</td>\n",
              "      <td>0</td>\n",
              "      <td>0</td>\n",
              "      <td>1</td>\n",
              "      <td>0</td>\n",
              "      <td>0</td>\n",
              "      <td>1</td>\n",
              "      <td>0</td>\n",
              "      <td>0</td>\n",
              "      <td>1</td>\n",
              "      <td>0</td>\n",
              "    </tr>\n",
              "    <tr>\n",
              "      <th>8975</th>\n",
              "      <td>20.700000</td>\n",
              "      <td>0.169808</td>\n",
              "      <td>183.4266</td>\n",
              "      <td>1997</td>\n",
              "      <td>0</td>\n",
              "      <td>0</td>\n",
              "      <td>0</td>\n",
              "      <td>0</td>\n",
              "      <td>0</td>\n",
              "      <td>0</td>\n",
              "      <td>...</td>\n",
              "      <td>1</td>\n",
              "      <td>0</td>\n",
              "      <td>0</td>\n",
              "      <td>1</td>\n",
              "      <td>0</td>\n",
              "      <td>0</td>\n",
              "      <td>1</td>\n",
              "      <td>0</td>\n",
              "      <td>0</td>\n",
              "      <td>0</td>\n",
              "    </tr>\n",
              "    <tr>\n",
              "      <th>4919</th>\n",
              "      <td>9.100000</td>\n",
              "      <td>0.055515</td>\n",
              "      <td>112.5518</td>\n",
              "      <td>1999</td>\n",
              "      <td>0</td>\n",
              "      <td>0</td>\n",
              "      <td>0</td>\n",
              "      <td>0</td>\n",
              "      <td>0</td>\n",
              "      <td>0</td>\n",
              "      <td>...</td>\n",
              "      <td>0</td>\n",
              "      <td>1</td>\n",
              "      <td>1</td>\n",
              "      <td>0</td>\n",
              "      <td>0</td>\n",
              "      <td>0</td>\n",
              "      <td>1</td>\n",
              "      <td>0</td>\n",
              "      <td>0</td>\n",
              "      <td>1</td>\n",
              "    </tr>\n",
              "    <tr>\n",
              "      <th>7990</th>\n",
              "      <td>9.500000</td>\n",
              "      <td>0.041971</td>\n",
              "      <td>33.3900</td>\n",
              "      <td>2002</td>\n",
              "      <td>0</td>\n",
              "      <td>0</td>\n",
              "      <td>0</td>\n",
              "      <td>0</td>\n",
              "      <td>0</td>\n",
              "      <td>0</td>\n",
              "      <td>...</td>\n",
              "      <td>0</td>\n",
              "      <td>0</td>\n",
              "      <td>0</td>\n",
              "      <td>0</td>\n",
              "      <td>1</td>\n",
              "      <td>0</td>\n",
              "      <td>1</td>\n",
              "      <td>0</td>\n",
              "      <td>0</td>\n",
              "      <td>1</td>\n",
              "    </tr>\n",
              "  </tbody>\n",
              "</table>\n",
              "<p>5 rows × 1598 columns</p>\n",
              "</div>\n",
              "    <div class=\"colab-df-buttons\">\n",
              "\n",
              "  <div class=\"colab-df-container\">\n",
              "    <button class=\"colab-df-convert\" onclick=\"convertToInteractive('df-c6b3c5b3-176e-4606-a6e0-0ecb7120f048')\"\n",
              "            title=\"Convert this dataframe to an interactive table.\"\n",
              "            style=\"display:none;\">\n",
              "\n",
              "  <svg xmlns=\"http://www.w3.org/2000/svg\" height=\"24px\" viewBox=\"0 -960 960 960\">\n",
              "    <path d=\"M120-120v-720h720v720H120Zm60-500h600v-160H180v160Zm220 220h160v-160H400v160Zm0 220h160v-160H400v160ZM180-400h160v-160H180v160Zm440 0h160v-160H620v160ZM180-180h160v-160H180v160Zm440 0h160v-160H620v160Z\"/>\n",
              "  </svg>\n",
              "    </button>\n",
              "\n",
              "  <style>\n",
              "    .colab-df-container {\n",
              "      display:flex;\n",
              "      gap: 12px;\n",
              "    }\n",
              "\n",
              "    .colab-df-convert {\n",
              "      background-color: #E8F0FE;\n",
              "      border: none;\n",
              "      border-radius: 50%;\n",
              "      cursor: pointer;\n",
              "      display: none;\n",
              "      fill: #1967D2;\n",
              "      height: 32px;\n",
              "      padding: 0 0 0 0;\n",
              "      width: 32px;\n",
              "    }\n",
              "\n",
              "    .colab-df-convert:hover {\n",
              "      background-color: #E2EBFA;\n",
              "      box-shadow: 0px 1px 2px rgba(60, 64, 67, 0.3), 0px 1px 3px 1px rgba(60, 64, 67, 0.15);\n",
              "      fill: #174EA6;\n",
              "    }\n",
              "\n",
              "    .colab-df-buttons div {\n",
              "      margin-bottom: 4px;\n",
              "    }\n",
              "\n",
              "    [theme=dark] .colab-df-convert {\n",
              "      background-color: #3B4455;\n",
              "      fill: #D2E3FC;\n",
              "    }\n",
              "\n",
              "    [theme=dark] .colab-df-convert:hover {\n",
              "      background-color: #434B5C;\n",
              "      box-shadow: 0px 1px 3px 1px rgba(0, 0, 0, 0.15);\n",
              "      filter: drop-shadow(0px 1px 2px rgba(0, 0, 0, 0.3));\n",
              "      fill: #FFFFFF;\n",
              "    }\n",
              "  </style>\n",
              "\n",
              "    <script>\n",
              "      const buttonEl =\n",
              "        document.querySelector('#df-c6b3c5b3-176e-4606-a6e0-0ecb7120f048 button.colab-df-convert');\n",
              "      buttonEl.style.display =\n",
              "        google.colab.kernel.accessAllowed ? 'block' : 'none';\n",
              "\n",
              "      async function convertToInteractive(key) {\n",
              "        const element = document.querySelector('#df-c6b3c5b3-176e-4606-a6e0-0ecb7120f048');\n",
              "        const dataTable =\n",
              "          await google.colab.kernel.invokeFunction('convertToInteractive',\n",
              "                                                    [key], {});\n",
              "        if (!dataTable) return;\n",
              "\n",
              "        const docLinkHtml = 'Like what you see? Visit the ' +\n",
              "          '<a target=\"_blank\" href=https://colab.research.google.com/notebooks/data_table.ipynb>data table notebook</a>'\n",
              "          + ' to learn more about interactive tables.';\n",
              "        element.innerHTML = '';\n",
              "        dataTable['output_type'] = 'display_data';\n",
              "        await google.colab.output.renderOutput(dataTable, element);\n",
              "        const docLink = document.createElement('div');\n",
              "        docLink.innerHTML = docLinkHtml;\n",
              "        element.appendChild(docLink);\n",
              "      }\n",
              "    </script>\n",
              "  </div>\n",
              "\n",
              "\n",
              "<div id=\"df-1cd7f6d9-8e99-4a47-b4e3-3b205d957c79\">\n",
              "  <button class=\"colab-df-quickchart\" onclick=\"quickchart('df-1cd7f6d9-8e99-4a47-b4e3-3b205d957c79')\"\n",
              "            title=\"Suggest charts\"\n",
              "            style=\"display:none;\">\n",
              "\n",
              "<svg xmlns=\"http://www.w3.org/2000/svg\" height=\"24px\"viewBox=\"0 0 24 24\"\n",
              "     width=\"24px\">\n",
              "    <g>\n",
              "        <path d=\"M19 3H5c-1.1 0-2 .9-2 2v14c0 1.1.9 2 2 2h14c1.1 0 2-.9 2-2V5c0-1.1-.9-2-2-2zM9 17H7v-7h2v7zm4 0h-2V7h2v10zm4 0h-2v-4h2v4z\"/>\n",
              "    </g>\n",
              "</svg>\n",
              "  </button>\n",
              "\n",
              "<style>\n",
              "  .colab-df-quickchart {\n",
              "      --bg-color: #E8F0FE;\n",
              "      --fill-color: #1967D2;\n",
              "      --hover-bg-color: #E2EBFA;\n",
              "      --hover-fill-color: #174EA6;\n",
              "      --disabled-fill-color: #AAA;\n",
              "      --disabled-bg-color: #DDD;\n",
              "  }\n",
              "\n",
              "  [theme=dark] .colab-df-quickchart {\n",
              "      --bg-color: #3B4455;\n",
              "      --fill-color: #D2E3FC;\n",
              "      --hover-bg-color: #434B5C;\n",
              "      --hover-fill-color: #FFFFFF;\n",
              "      --disabled-bg-color: #3B4455;\n",
              "      --disabled-fill-color: #666;\n",
              "  }\n",
              "\n",
              "  .colab-df-quickchart {\n",
              "    background-color: var(--bg-color);\n",
              "    border: none;\n",
              "    border-radius: 50%;\n",
              "    cursor: pointer;\n",
              "    display: none;\n",
              "    fill: var(--fill-color);\n",
              "    height: 32px;\n",
              "    padding: 0;\n",
              "    width: 32px;\n",
              "  }\n",
              "\n",
              "  .colab-df-quickchart:hover {\n",
              "    background-color: var(--hover-bg-color);\n",
              "    box-shadow: 0 1px 2px rgba(60, 64, 67, 0.3), 0 1px 3px 1px rgba(60, 64, 67, 0.15);\n",
              "    fill: var(--button-hover-fill-color);\n",
              "  }\n",
              "\n",
              "  .colab-df-quickchart-complete:disabled,\n",
              "  .colab-df-quickchart-complete:disabled:hover {\n",
              "    background-color: var(--disabled-bg-color);\n",
              "    fill: var(--disabled-fill-color);\n",
              "    box-shadow: none;\n",
              "  }\n",
              "\n",
              "  .colab-df-spinner {\n",
              "    border: 2px solid var(--fill-color);\n",
              "    border-color: transparent;\n",
              "    border-bottom-color: var(--fill-color);\n",
              "    animation:\n",
              "      spin 1s steps(1) infinite;\n",
              "  }\n",
              "\n",
              "  @keyframes spin {\n",
              "    0% {\n",
              "      border-color: transparent;\n",
              "      border-bottom-color: var(--fill-color);\n",
              "      border-left-color: var(--fill-color);\n",
              "    }\n",
              "    20% {\n",
              "      border-color: transparent;\n",
              "      border-left-color: var(--fill-color);\n",
              "      border-top-color: var(--fill-color);\n",
              "    }\n",
              "    30% {\n",
              "      border-color: transparent;\n",
              "      border-left-color: var(--fill-color);\n",
              "      border-top-color: var(--fill-color);\n",
              "      border-right-color: var(--fill-color);\n",
              "    }\n",
              "    40% {\n",
              "      border-color: transparent;\n",
              "      border-right-color: var(--fill-color);\n",
              "      border-top-color: var(--fill-color);\n",
              "    }\n",
              "    60% {\n",
              "      border-color: transparent;\n",
              "      border-right-color: var(--fill-color);\n",
              "    }\n",
              "    80% {\n",
              "      border-color: transparent;\n",
              "      border-right-color: var(--fill-color);\n",
              "      border-bottom-color: var(--fill-color);\n",
              "    }\n",
              "    90% {\n",
              "      border-color: transparent;\n",
              "      border-bottom-color: var(--fill-color);\n",
              "    }\n",
              "  }\n",
              "</style>\n",
              "\n",
              "  <script>\n",
              "    async function quickchart(key) {\n",
              "      const quickchartButtonEl =\n",
              "        document.querySelector('#' + key + ' button');\n",
              "      quickchartButtonEl.disabled = true;  // To prevent multiple clicks.\n",
              "      quickchartButtonEl.classList.add('colab-df-spinner');\n",
              "      try {\n",
              "        const charts = await google.colab.kernel.invokeFunction(\n",
              "            'suggestCharts', [key], {});\n",
              "      } catch (error) {\n",
              "        console.error('Error during call to suggestCharts:', error);\n",
              "      }\n",
              "      quickchartButtonEl.classList.remove('colab-df-spinner');\n",
              "      quickchartButtonEl.classList.add('colab-df-quickchart-complete');\n",
              "    }\n",
              "    (() => {\n",
              "      let quickchartButtonEl =\n",
              "        document.querySelector('#df-1cd7f6d9-8e99-4a47-b4e3-3b205d957c79 button');\n",
              "      quickchartButtonEl.style.display =\n",
              "        google.colab.kernel.accessAllowed ? 'block' : 'none';\n",
              "    })();\n",
              "  </script>\n",
              "</div>\n",
              "    </div>\n",
              "  </div>\n"
            ]
          },
          "metadata": {},
          "execution_count": 108
        }
      ]
    },
    {
      "cell_type": "markdown",
      "source": [
        "### Fitting a Simple Linear Regression Model and Determining the Intercept and Coefficient"
      ],
      "metadata": {
        "id": "DdxW1sNx3Slu"
      }
    },
    {
      "cell_type": "markdown",
      "source": [
        "We instantiate a linear regression model"
      ],
      "metadata": {
        "id": "d7v80d-A3jr_"
      }
    },
    {
      "cell_type": "code",
      "source": [
        "from sklearn.linear_model import LinearRegression\n",
        "\n",
        "model = LinearRegression()"
      ],
      "metadata": {
        "id": "4B-IDuzV3kxb"
      },
      "execution_count": null,
      "outputs": []
    },
    {
      "cell_type": "markdown",
      "source": [
        "Fit the model to the Item_MRP column in the training data"
      ],
      "metadata": {
        "id": "pwZejjcI4Qfl"
      }
    },
    {
      "cell_type": "code",
      "source": [
        "model.fit(X_train[['Item_MRP']], y_train)"
      ],
      "metadata": {
        "colab": {
          "base_uri": "https://localhost:8080/",
          "height": 75
        },
        "id": "MfgiEyt-3Umg",
        "outputId": "7358d453-2919-48f4-d56e-98dacf8dba28"
      },
      "execution_count": null,
      "outputs": [
        {
          "output_type": "execute_result",
          "data": {
            "text/plain": [
              "LinearRegression()"
            ],
            "text/html": [
              "<style>#sk-container-id-1 {color: black;background-color: white;}#sk-container-id-1 pre{padding: 0;}#sk-container-id-1 div.sk-toggleable {background-color: white;}#sk-container-id-1 label.sk-toggleable__label {cursor: pointer;display: block;width: 100%;margin-bottom: 0;padding: 0.3em;box-sizing: border-box;text-align: center;}#sk-container-id-1 label.sk-toggleable__label-arrow:before {content: \"▸\";float: left;margin-right: 0.25em;color: #696969;}#sk-container-id-1 label.sk-toggleable__label-arrow:hover:before {color: black;}#sk-container-id-1 div.sk-estimator:hover label.sk-toggleable__label-arrow:before {color: black;}#sk-container-id-1 div.sk-toggleable__content {max-height: 0;max-width: 0;overflow: hidden;text-align: left;background-color: #f0f8ff;}#sk-container-id-1 div.sk-toggleable__content pre {margin: 0.2em;color: black;border-radius: 0.25em;background-color: #f0f8ff;}#sk-container-id-1 input.sk-toggleable__control:checked~div.sk-toggleable__content {max-height: 200px;max-width: 100%;overflow: auto;}#sk-container-id-1 input.sk-toggleable__control:checked~label.sk-toggleable__label-arrow:before {content: \"▾\";}#sk-container-id-1 div.sk-estimator input.sk-toggleable__control:checked~label.sk-toggleable__label {background-color: #d4ebff;}#sk-container-id-1 div.sk-label input.sk-toggleable__control:checked~label.sk-toggleable__label {background-color: #d4ebff;}#sk-container-id-1 input.sk-hidden--visually {border: 0;clip: rect(1px 1px 1px 1px);clip: rect(1px, 1px, 1px, 1px);height: 1px;margin: -1px;overflow: hidden;padding: 0;position: absolute;width: 1px;}#sk-container-id-1 div.sk-estimator {font-family: monospace;background-color: #f0f8ff;border: 1px dotted black;border-radius: 0.25em;box-sizing: border-box;margin-bottom: 0.5em;}#sk-container-id-1 div.sk-estimator:hover {background-color: #d4ebff;}#sk-container-id-1 div.sk-parallel-item::after {content: \"\";width: 100%;border-bottom: 1px solid gray;flex-grow: 1;}#sk-container-id-1 div.sk-label:hover label.sk-toggleable__label {background-color: #d4ebff;}#sk-container-id-1 div.sk-serial::before {content: \"\";position: absolute;border-left: 1px solid gray;box-sizing: border-box;top: 0;bottom: 0;left: 50%;z-index: 0;}#sk-container-id-1 div.sk-serial {display: flex;flex-direction: column;align-items: center;background-color: white;padding-right: 0.2em;padding-left: 0.2em;position: relative;}#sk-container-id-1 div.sk-item {position: relative;z-index: 1;}#sk-container-id-1 div.sk-parallel {display: flex;align-items: stretch;justify-content: center;background-color: white;position: relative;}#sk-container-id-1 div.sk-item::before, #sk-container-id-1 div.sk-parallel-item::before {content: \"\";position: absolute;border-left: 1px solid gray;box-sizing: border-box;top: 0;bottom: 0;left: 50%;z-index: -1;}#sk-container-id-1 div.sk-parallel-item {display: flex;flex-direction: column;z-index: 1;position: relative;background-color: white;}#sk-container-id-1 div.sk-parallel-item:first-child::after {align-self: flex-end;width: 50%;}#sk-container-id-1 div.sk-parallel-item:last-child::after {align-self: flex-start;width: 50%;}#sk-container-id-1 div.sk-parallel-item:only-child::after {width: 0;}#sk-container-id-1 div.sk-dashed-wrapped {border: 1px dashed gray;margin: 0 0.4em 0.5em 0.4em;box-sizing: border-box;padding-bottom: 0.4em;background-color: white;}#sk-container-id-1 div.sk-label label {font-family: monospace;font-weight: bold;display: inline-block;line-height: 1.2em;}#sk-container-id-1 div.sk-label-container {text-align: center;}#sk-container-id-1 div.sk-container {/* jupyter's `normalize.less` sets `[hidden] { display: none; }` but bootstrap.min.css set `[hidden] { display: none !important; }` so we also need the `!important` here to be able to override the default hidden behavior on the sphinx rendered scikit-learn.org. See: https://github.com/scikit-learn/scikit-learn/issues/21755 */display: inline-block !important;position: relative;}#sk-container-id-1 div.sk-text-repr-fallback {display: none;}</style><div id=\"sk-container-id-1\" class=\"sk-top-container\"><div class=\"sk-text-repr-fallback\"><pre>LinearRegression()</pre><b>In a Jupyter environment, please rerun this cell to show the HTML representation or trust the notebook. <br />On GitHub, the HTML representation is unable to render, please try loading this page with nbviewer.org.</b></div><div class=\"sk-container\" hidden><div class=\"sk-item\"><div class=\"sk-estimator sk-toggleable\"><input class=\"sk-toggleable__control sk-hidden--visually\" id=\"sk-estimator-id-1\" type=\"checkbox\" checked><label for=\"sk-estimator-id-1\" class=\"sk-toggleable__label sk-toggleable__label-arrow\">LinearRegression</label><div class=\"sk-toggleable__content\"><pre>LinearRegression()</pre></div></div></div></div></div>"
            ]
          },
          "metadata": {},
          "execution_count": 110
        }
      ]
    },
    {
      "cell_type": "markdown",
      "source": [
        "Extract the value for the intercept"
      ],
      "metadata": {
        "id": "DJLS2hLl4WLc"
      }
    },
    {
      "cell_type": "code",
      "source": [
        "intercept = model.intercept_"
      ],
      "metadata": {
        "id": "u2y7_Teo4eGt"
      },
      "execution_count": null,
      "outputs": []
    },
    {
      "cell_type": "markdown",
      "source": [
        "Extract the value for the coefficient"
      ],
      "metadata": {
        "id": "SkV3i_UP4Z__"
      }
    },
    {
      "cell_type": "code",
      "source": [
        "coefficient = model.coef_"
      ],
      "metadata": {
        "id": "VctLYAnn4kFK"
      },
      "execution_count": null,
      "outputs": []
    },
    {
      "cell_type": "markdown",
      "source": [
        "Now, we can print a message with the formula for predicting item outlet sales based on weights using the code here:"
      ],
      "metadata": {
        "id": "NI2hWtPj4nkL"
      }
    },
    {
      "cell_type": "code",
      "source": [
        "print(f'Item_Outlet_Sales = {round(intercept,2)} + ({round(coefficient[0],2)} x Item_MRP)')"
      ],
      "metadata": {
        "colab": {
          "base_uri": "https://localhost:8080/"
        },
        "id": "Dexfknbo4oj1",
        "outputId": "071474e0-28eb-498f-9480-f473668becaf"
      },
      "execution_count": null,
      "outputs": [
        {
          "output_type": "stream",
          "name": "stdout",
          "text": [
            "Item_Outlet_Sales = 851.1 + (9.4 x Item_MRP)\n"
          ]
        }
      ]
    },
    {
      "cell_type": "markdown",
      "source": [
        "### Generating Predictions and Evaluating the Performance of a Simple Linear Regression Model"
      ],
      "metadata": {
        "id": "bfKAkWjS8pp3"
      }
    },
    {
      "cell_type": "code",
      "source": [
        "predictions = model.predict(X_test[['Item_MRP']])"
      ],
      "metadata": {
        "id": "KEUbX37A8qye"
      },
      "execution_count": null,
      "outputs": []
    },
    {
      "cell_type": "markdown",
      "source": [
        "We will create a scatterplot of the predicted and actual values."
      ],
      "metadata": {
        "id": "SCEaI0T181BG"
      }
    },
    {
      "cell_type": "code",
      "source": [
        "import plotly.express as px\n",
        "from scipy.stats import pearsonr\n",
        "\n",
        "pear_val = pearsonr(y_test, predictions)[0]"
      ],
      "metadata": {
        "id": "UQn_w9Bn81sA"
      },
      "execution_count": null,
      "outputs": []
    },
    {
      "cell_type": "code",
      "source": [
        "px.scatter(x = y_test,\n",
        "           y = predictions,\n",
        "           title = f'Predicted vs. Actual Values (r = {round(pear_val,2)})',\n",
        "           labels = {'x':'Y Test (True Values)',\n",
        "                     'y':'Predicted Values'}\n",
        "          )"
      ],
      "metadata": {
        "colab": {
          "base_uri": "https://localhost:8080/",
          "height": 542
        },
        "id": "wdwhFZUW88VZ",
        "outputId": "a0fa64fb-92f9-4529-a68a-d8b5a327e7a9"
      },
      "execution_count": null,
      "outputs": [
        {
          "output_type": "display_data",
          "data": {
            "text/html": [
              "<html>\n",
              "<head><meta charset=\"utf-8\" /></head>\n",
              "<body>\n",
              "    <div>            <script src=\"https://cdnjs.cloudflare.com/ajax/libs/mathjax/2.7.5/MathJax.js?config=TeX-AMS-MML_SVG\"></script><script type=\"text/javascript\">if (window.MathJax && window.MathJax.Hub && window.MathJax.Hub.Config) {window.MathJax.Hub.Config({SVG: {font: \"STIX-Web\"}});}</script>                <script type=\"text/javascript\">window.PlotlyConfig = {MathJaxConfig: 'local'};</script>\n",
              "        <script charset=\"utf-8\" src=\"https://cdn.plot.ly/plotly-2.24.1.min.js\"></script>                <div id=\"8ff5c0bf-b784-4f09-906c-38153d41f85d\" class=\"plotly-graph-div\" style=\"height:525px; width:100%;\"></div>            <script type=\"text/javascript\">                                    window.PLOTLYENV=window.PLOTLYENV || {};                                    if (document.getElementById(\"8ff5c0bf-b784-4f09-906c-38153d41f85d\")) {                    Plotly.newPlot(                        \"8ff5c0bf-b784-4f09-906c-38153d41f85d\",                        [{\"hovertemplate\":\"Y Test (True Values)=%{x}\\u003cbr\\u003ePredicted Values=%{y}\\u003cextra\\u003e\\u003c\\u002fextra\\u003e\",\"legendgroup\":\"\",\"marker\":{\"color\":\"#636efa\",\"symbol\":\"circle\"},\"mode\":\"markers\",\"name\":\"\",\"showlegend\":false,\"x\":[2181.288913575032,2181.288913575032,1701.7848,231.6984,1272.3438,1078.596,4287.752,2181.288913575032,2181.288913575032,2181.288913575032,4482.1656,1549.3166,751.0224,2181.288913575032,659.142,3415.554,291.6204,296.9468,2759.0752,2181.288913575032,2181.288913575032,1631.8758,5704.5744,2181.288913575032,2181.288913575032,3910.9092,3516.7556,2181.288913575032,621.1914,442.757,2181.288913575032,572.588,2181.288913575032,374.1796,1010.6844,218.3824,2181.288913575032,1427.4752,2181.288913575032,2181.288913575032,3215.814,2181.288913575032,2181.288913575032,2181.288913575032,2181.288913575032,1374.2112,2181.288913575032,3427.5384,892.8378,1022.6688,5522.811,1749.7224,2181.288913575032,173.7738,73.238,3422.212,777.6544,2181.288913575032,2181.288913575032,2181.288913575032,1225.072,2181.288913575032,2181.288913575032,5865.0322,2330.9658,1777.686,2181.288913575032,7170.666,2181.288913575032,1619.2256,2181.288913575032,8413.0488,1030.6584,555.2772,768.999,3068.0064,2181.288913575032,2181.288913575032,2181.288913575032,371.5164,247.6776,2181.288913575032,2181.288913575032,2929.52,3285.723,2181.288913575032,3257.7594,319.584,509.337,2181.288913575032,1180.4634,1985.4156,503.3448,2181.288913575032,2181.288913575032,1230.3984,2181.288913575032,767.0016,2181.288913575032,5007.4818,1960.1152,3515.424,6331.758,2181.288913575032,2181.288913575032,2181.288913575032,1731.7458,2181.288913575032,2181.288913575032,2181.288913575032,2203.798,1821.6288,2535.3664,1992.0736,2181.288913575032,3528.74,2285.0256,2181.288913575032,918.804,1514.695,5688.5952,2181.288913575032,2181.288913575032,2181.288913575032,259.662,2181.288913575032,3678.545,1537.998,109.1912,2181.288913575032,2181.288913575032,2181.288913575032,2181.288913575032,473.3838,2181.288913575032,1677.1502,2181.288913575032,2181.288913575032,2181.288913575032,2181.288913575032,2181.288913575032,3705.8428,2181.288913575032,918.804,1653.8472,2181.288913575032,958.752,2181.288913575032,703.0848,483.3708,6704.606,2181.288913575032,2181.288913575032,628.5152,5626.01,1069.2748,2181.288913575032,1587.2672,804.9522,2181.288913575032,2181.288913575032,2490.092,2181.288913575032,2181.288913575032,2181.288913575032,2063.98,5946.9256,2181.288913575032,2181.288913575032,176.437,1482.0708,3006.087,3295.71,1707.777,2181.288913575032,2181.288913575032,75.9012,2181.288913575032,2181.288913575032,2956.152,2181.288913575032,2181.288913575032,4174.566,3008.0844,155.1314,1116.5466,203.7348,48.6034,2021.3688,2181.288913575032,2093.2752,175.1054,2748.4224,2460.7968,808.947,2181.288913575032,2181.288913575032,3387.5904,938.778,2181.288913575032,2460.7968,326.242,673.7896,1508.037,498.0184,4873.656,2181.288913575032,1516.0266,2181.288913575032,788.3072,1201.1032,2181.288913575032,1255.6988,2502.7422,552.614,2181.288913575032,809.6128,1239.7196,2868.9322,2407.5328,3723.1536,3435.528,351.5424,2181.288913575032,2181.288913575032,1471.418,2376.906,5624.6784,2181.288913575032,2181.288913575032,2336.958,2181.288913575032,2181.288913575032,4781.7756,1691.7978,2181.288913575032,2181.288913575032,2181.288913575032,4876.985,1607.907,3169.208,1901.5248,2181.288913575032,2181.288913575032,4137.2812,2014.7108,4933.578,1797.66,498.0184,1868.2348,2181.288913575032,2181.288913575032,2181.288913575032,179.766,2181.288913575032,2181.288913575032,2181.288913575032,2181.288913575032,3038.7112,2181.288913575032,2181.288913575032,2181.288913575032,759.012,193.082,2821.6604,2010.716,2181.288913575032,2332.9632,2181.288913575032,126.502,1281.665,3819.0288,3016.7398,308.9312,1573.9512,2181.288913575032,133.16,2181.288913575032,1304.968,361.5294,2181.288913575032,815.605,10993.6896,2181.288913575032,1651.184,2181.288913575032,2181.288913575032,1277.0044,2406.2012,611.2044,2181.288913575032,2181.288913575032,142.4812,679.116,2865.6032,3448.844,1813.6392,2516.724,2181.288913575032,2181.288913575032,2373.577,2181.288913575032,3677.2134,123.173,3848.324,2181.288913575032,3169.208,3163.8816,1099.9016,2181.288913575032,2181.288913575032,2181.288913575032,2181.288913575032,2181.288913575032,1911.5118,2181.288913575032,2181.288913575032,2181.288913575032,447.4176,591.2304,1625.8836,2181.288913575032,2181.288913575032,2181.288913575032,4194.54,1975.4286,2181.288913575032,564.5984,2181.288913575032,2931.5174,2181.288913575032,2181.288913575032,699.09,2380.235,449.415,5712.564,4933.578,123.8388,173.108,2181.288913575032,761.6752,323.5788,741.0354,1065.28,2181.288913575032,768.999,4157.2552,2181.288913575032,3003.4238,2181.288913575032,2181.288913575032,2181.288913575032,2181.288913575032,4781.7756,894.8352,3815.034,280.9676,2181.288913575032,2181.288913575032,2181.288913575032,2223.1062,5829.7448,2050.664,1071.938,1733.7432,2181.288913575032,1947.465,146.476,1989.4104,2181.288913575032,2181.288913575032,2181.288913575032,2181.288913575032,1277.0044,7084.112,2181.288913575032,2709.806,2181.288913575032,2181.288913575032,2181.288913575032,2181.1608,2181.288913575032,2181.288913575032,517.3266,3558.0352,1054.6272,1208.427,2181.288913575032,1480.0734,2181.288913575032,723.0588,2181.288913575032,2181.288913575032,2181.288913575032,3368.948,1956.1204,607.2096,1707.777,1411.496,2181.288913575032,2756.412,3137.2496,2181.288913575032,4042.7376,517.3266,3004.0896,2153.1972,3675.216,1065.28,2181.288913575032,1707.777,1960.781,189.0872,2181.288913575032,1058.622,2181.288913575032,1267.0174,2616.594,2181.288913575032,215.7192,3048.6982,2181.288913575032,3427.5384,2181.288913575032,1798.9916,2175.1686,2181.288913575032,1070.6064,2606.607,1794.331,1508.037,815.605,2181.288913575032,982.7208,3306.3628,1627.2152,2181.288913575032,3547.3824,3295.71,4516.7872,2181.288913575032,2510.066,418.1224,2181.288913575032,2247.075,3103.9596,4287.752,786.9756,2181.288913575032,2181.288913575032,2181.288913575032,1347.5792,2181.288913575032,2181.288913575032,2181.288913575032,143.8128,4819.7262,2181.288913575032,2821.6604,2181.288913575032,2181.288913575032,6291.81,2181.288913575032,2181.288913575032,1454.1072,1114.5492,2181.288913575032,2181.288913575032,5182.5872,4908.2776,522.653,2181.288913575032,2181.288913575032,2563.33,3797.7232,1384.864,848.895,2409.5302,1605.9096,2181.288913575032,2181.288913575032,2796.36,501.3474,1845.5976,7873.085,2181.288913575032,2181.288913575032,2181.288913575032,2659.871,2569.3222,2181.288913575032,2384.8956,1506.0396,1037.3164,1331.6,2181.288913575032,2886.9088,2181.288913575032,918.804,2181.288913575032,1491.392,2759.0752,3858.9768,755.0172,2181.288913575032,2992.771,399.48,587.2356,2181.288913575032,671.1264,5068.7354,565.2642,2181.288913575032,484.7024,345.5502,2181.288913575032,2181.288913575032,1386.1956,303.6048,5087.3778,3149.234,4923.591,2181.288913575032,2181.288913575032,1258.362,2181.288913575032,2181.288913575032,1555.9746,2181.288913575032,2036.6822,2433.499,2181.288913575032,1999.3974,441.4254,3690.5294,542.627,4637.9628,2181.288913575032,713.0718,3205.827,2181.288913575032,535.3032,5195.2374,710.4086,1749.7224,2181.288913575032,2181.288913575032,2181.288913575032,1006.6896,1695.7926,842.237,2181.288913575032,1284.994,2693.8268,2181.288913575032,2181.288913575032,2181.288913575032,2127.231,299.61,3828.35,2181.288913575032,2181.288913575032,3193.8426,2316.984,2181.288913575032,2181.288913575032,2181.288913575032,2181.288913575032,219.714,1989.4104,2181.288913575032,958.752,5369.0112,1418.154,2181.288913575032,3185.1872,2181.288913575032,2181.288913575032,2181.288913575032,2181.288913575032,631.8442,2181.288913575032,2181.288913575032,2181.288913575032,588.5672,1853.5872,1644.526,1118.544,713.0718,1603.9122,2181.288913575032,2181.288913575032,539.298,713.0718,2181.288913575032,1725.7536,2462.7942,780.3176,7190.64,2181.288913575032,127.8336,3486.1288,2181.288913575032,2759.0752,994.7052,2181.288913575032,2181.288913575032,2181.288913575032,2181.288913575032,1328.271,3928.22,2460.7968,2181.288913575032,973.3996,3103.9596,2181.288913575032,865.54,2609.936,2181.288913575032,785.644,4548.0798,1518.024,2181.288913575032,2181.288913575032,2181.288913575032,2181.288913575032,2940.1728,2492.0894,2181.288913575032,1151.1682,2775.7202,3621.952,1198.44,2181.288913575032,2181.288913575032,2181.288913575032,3592.6568,913.4776,3844.995,2805.0154,2181.288913575032,2050.664,3542.7218,2181.288913575032,405.4722,3675.216,2324.9736,2490.092,569.259,2181.288913575032,1596.5884,3435.528,2181.288913575032,2181.288913575032,3530.0716,419.454,2181.288913575032,2181.288913575032,2181.288913575032,1669.8264,1697.79,2886.243,2181.288913575032,563.2668,2181.288913575032,1488.063,3415.554,2181.288913575032,2181.288913575032,2181.288913575032,2181.288913575032,2250.404,2181.288913575032,3149.234,2181.288913575032,2115.9124,372.848,2181.288913575032,45.9402,2181.288913575032,2181.288913575032,5257.1568,2181.288913575032,36.619,1402.1748,2181.288913575032,5768.4912,2181.288913575032,612.536,2181.288913575032,2181.288913575032,1789.6704,2181.288913575032,1800.3232,335.5632,4119.9704,2181.288913575032,2181.288913575032,2181.288913575032,1846.9292,736.3748,1347.5792,2181.288913575032,2181.288913575032,2479.4392,547.2876,2181.288913575032,1188.453,2181.288913575032,1797.66,2181.288913575032,196.411,2181.288913575032,2181.288913575032,2020.0372,2356.932,3339.6528,2181.288913575032,2181.288913575032,2181.288913575032,567.2616,2181.288913575032,1697.79,1765.7016,1304.968,2181.288913575032,758.3462,3837.0054,2181.288913575032,3621.2862,2181.288913575032,2181.288913575032,2181.288913575032,2336.958,2181.288913575032,2181.288913575032,1108.557,2181.288913575032,966.7416,2181.288913575032,2181.288913575032,3412.8908,2181.288913575032,2181.288913575032,319.584,2181.288913575032,2181.288913575032,796.9626,2396.88,1640.5312,4777.7808,4697.8848,2181.288913575032,3169.208,2181.288913575032,2345.6134,2181.288913575032,1917.504,1350.2424,2181.288913575032,2387.5588,2181.288913575032,2181.288913575032,2503.408,447.4176,759.012,4124.631,2181.288913575032,644.4944,690.4346,2069.3064,2090.612,2181.288913575032,2181.288913575032,3292.381,4984.1788,1304.968,211.7244,2181.288913575032,2181.288913575032,2181.288913575032,2181.288913575032,2181.288913575032,1607.2412,1544.656,2181.288913575032,2181.288913575032,2181.288913575032,1884.214,2874.9244,2181.288913575032,517.3266,6515.5188,5841.0634,5294.4416,2182.4924,746.3618,1470.0864,2181.288913575032,2181.288913575032,2181.288913575032,2380.9008,2181.288913575032,1577.946,1229.0668,2181.288913575032,2181.288913575032,2181.288913575032,2181.288913575032,2181.288913575032,2181.288913575032,1034.6532,2181.288913575032,5650.6446,2181.288913575032,2181.288913575032,3705.177,2220.443,2181.288913575032,680.4476,1895.5326,4206.5244,2181.288913575032,759.6778,269.649,2181.288913575032,3374.2744,2181.288913575032,2181.288913575032,2181.288913575032,2181.288913575032,765.67,2181.288913575032,1867.569,2133.2232,2181.288913575032,5852.382,2181.288913575032,2181.288913575032,1178.466,2181.288913575032,2181.288913575032,2181.288913575032,641.8312,4170.5712,2181.288913575032,809.6128,2181.288913575032,2181.288913575032,2618.5914,2181.288913575032,2900.2248,316.9208,170.4448,2739.1012,2181.288913575032,4745.8224,999.3658,7136.7102,1150.5024,2181.288913575032,119.844,3062.0142,2181.288913575032,2181.288913575032,4695.2216,2181.288913575032,2181.288913575032,2181.288913575032,2181.288913575032,316.9208,2181.288913575032,2181.288913575032,2534.0348,2181.288913575032,2181.288913575032,2696.49,3563.3616,810.9444,1672.4896,1964.7758,6474.2392,5141.3076,2181.288913575032,2181.288913575032,4042.7376,2181.288913575032,3078.6592,2181.288913575032,355.5372,1403.5064,2181.288913575032,2460.7968,2181.288913575032,178.4344,319.584,2181.288913575032,1384.1982,329.571,2681.8424,1442.7886,1042.6428,96.541,126.502,4604.6728,539.298,383.5008,9467.676,2181.288913575032,1278.336,830.9184,5704.5744,2181.288913575032,2181.288913575032,2181.288913575032,2181.288913575032,2181.288913575032,2181.288913575032,1644.526,2181.288913575032,2181.288913575032,2181.288913575032,2181.288913575032,4040.7402,675.787,2181.288913575032,1797.66,2181.288913575032,3078.6592,2181.288913575032,199.74,866.8716,1139.1838,556.6088,2241.7486,2181.288913575032,2181.288913575032,2181.288913575032,2181.288913575032,2181.288913575032,925.462,985.384,2181.288913575032,1505.3738,2105.2596,2181.288913575032,395.4852,2181.288913575032,2181.288913575032,2181.288913575032,2181.288913575032,2886.243,2181.288913575032,2181.288913575032,3006.087,370.1848,2181.288913575032,1464.76,3426.2068,2192.4794,2181.288913575032,549.285,2404.8696,3900.9222,5778.4782,1869.5664,2181.288913575032,3648.584,2181.288913575032,2006.7212,782.9808,4326.3684,288.9572,517.3266,2181.288913575032,1944.136,761.6752,2181.288913575032,2181.288913575032,4725.8484,732.38,3251.7672,3112.615,2407.5328,126.502,2181.288913575032,4502.1396,2181.288913575032,2181.288913575032,2181.288913575032,2773.057,2181.288913575032,2936.178,2181.288913575032,7094.7648,2181.288913575032,2181.288913575032,4727.18,2181.288913575032,2181.288913575032,6170.6344,2181.288913575032,2181.288913575032,2950.8256,2181.288913575032,774.9912,2181.288913575032,743.0328,2181.288913575032,2181.288913575032,2181.288913575032,628.5152,2181.288913575032,2181.288913575032,2181.288913575032,1965.4416,2181.288913575032,1436.7964,1182.4608,2816.334,2181.288913575032,2181.288913575032,1869.5664,3038.7112,73.238,2181.288913575032,4853.682,1390.1904,858.882,2181.288913575032,1163.8184,2181.288913575032,1777.686,2181.288913575032,1342.2528,624.5204,263.6568,1794.331,2181.288913575032,3078.6592,343.5528,3146.5708,1258.362,367.5216,3506.7686,2181.288913575032,90.5488,2181.288913575032,2885.5772,2181.288913575032,2111.2518,4474.176,2763.07,2956.152,2181.288913575032,3617.9572,65.2484,2181.288913575032,1890.872,2181.288913575032,2181.288913575032,2614.5966,2181.288913575032,3038.0454,2181.288913575032,1146.5076,2181.288913575032,2181.288913575032,1953.4572,3142.576,2181.288913575032,5642.655,2181.288913575032,4022.7636,3057.3536,491.3604,4697.8848,2181.288913575032,2181.288913575032,705.748,2181.288913575032,2181.288913575032,2181.288913575032,986.7156,2181.288913575032,3749.7856,1488.7288,6964.9338,2181.288913575032,2181.288913575032,1808.9786,380.8376,2181.288913575032,1549.3166,2181.288913575032,2181.288913575032,2181.288913575032,2181.288913575032,2181.288913575032,2684.5056,2181.288913575032,2181.288913575032,2804.3496,292.952,223.7088,2181.288913575032,2181.288913575032,6636.6944,928.791,1018.674,2181.288913575032,5386.9878,447.4176,882.185,2181.288913575032,1258.362,2181.288913575032,2808.3444,679.116,3844.995,2181.288913575032,683.1108,2181.288913575032,1186.4556,2181.288913575032,2181.288913575032,2181.288913575032,2181.288913575032,47.2718,2181.288913575032,2181.288913575032,2181.288913575032,4247.804,2181.288913575032,7968.2944,2181.288913575032,1617.894,2181.288913575032,1151.1682,942.107,327.5736,442.0912,2181.288913575032,2181.288913575032,2181.288913575032,2181.288913575032,679.116,2181.288913575032,2181.288913575032,3983.4814,2852.2872,1937.478,2181.288913575032,1685.8056,2726.451,2087.9488,3974.826,6064.1064,3900.9222,2181.288913575032,889.5088,2181.288913575032,2181.288913575032,589.233,2181.288913575032,2181.288913575032,2181.288913575032,2181.288913575032,3251.7672,2181.288913575032,2006.7212,982.055,627.1836,2726.451,2181.288913575032,4950.8888,2181.288913575032,2181.288913575032,2181.288913575032,768.999,2181.288913575032,2181.288913575032,3453.5046,2326.971,2181.288913575032,2181.288913575032,2181.288913575032,2181.288913575032,2181.288913575032,886.8456,468.7232,2181.288913575032,2705.1454,2181.288913575032,2181.288913575032,152.4682,555.2772,1657.1762,2181.288913575032,2181.288913575032,331.5684,1022.6688,830.9184,5033.448,4857.6768,2181.288913575032,1102.5648,3874.956,3163.8816,882.8508,1364.89,575.2512,452.744,2181.288913575032,3848.324,1018.674,966.7416,1880.885,1822.2946,2181.288913575032,1677.816,2181.288913575032,2181.288913575032,2181.288913575032,4958.8784,782.9808,2181.288913575032,2862.94,4613.994,1768.3648,214.3876,3368.948,377.5086,4195.8716,2181.288913575032,1569.9564,1262.3568,2181.288913575032,3415.554,595.2252,508.6712,875.527,2376.906,123.173,1547.3192,1701.7848,3881.614,1416.8224,652.484,2181.288913575032,1444.786,2181.288913575032,2181.288913575032,3412.8908,7452.9652,2181.288913575032,588.5672,2181.288913575032,2181.288913575032,3605.307,2181.288913575032,2812.3392,97.2068,2181.288913575032,3775.086,2181.288913575032,2181.288913575032,2181.288913575032,3083.9856,2564.6616,2181.288913575032,3146.5708,2181.288913575032,175.7712,593.2278,751.0224,1215.7508,2181.288913575032,834.9132,2181.288913575032,1765.0358,1041.3112,2181.288913575032,2181.288913575032,2181.288913575032,2181.288913575032,2181.288913575032,1701.7848,642.497,2181.288913575032,3643.2576,2181.288913575032,2181.288913575032,1534.0032,1263.6884,447.4176,1071.938,721.0614,1004.0264,2090.612,6543.4824,4327.7,2371.5796,2330.3,2181.288913575032,51.9324,2375.5744,2181.288913575032,2181.288913575032,2616.594,802.9548,3563.3616,2181.288913575032,615.1992,970.7364,2181.288913575032,2087.283,1911.5118,2181.288913575032,2181.288913575032,747.0276,715.0692,2181.288913575032,2181.288913575032,2181.288913575032,2181.288913575032,2181.288913575032,2181.288913575032,898.83,2892.2352,2181.288913575032,2181.288913575032,2366.919,2181.288913575032,2181.288913575032,2181.288913575032,2181.288913575032,1904.188,3238.4512,2181.288913575032,1949.4624,2247.075,2646.555,2181.288913575032,3075.996,2181.288913575032,4633.968,2181.288913575032,2181.288913575032,1528.011,2181.288913575032,910.8144,2181.288913575032,3340.9844,2163.85,459.402,3511.4292,2181.288913575032,2181.288913575032,2181.288913575032,2466.789,101.2016,90.5488,2181.288913575032,2181.288913575032,2181.288913575032,2181.288913575032,433.4358,2609.936,1293.6494,2181.288913575032,2181.288913575032,3338.987,1300.3074,2181.288913575032,2181.288913575032,2181.288913575032,2181.288913575032,2181.288913575032,2181.288913575032,6867.0612,2181.288913575032,412.796,4466.1864,215.7192,107.8596,5452.902,1885.5456,254.3356,2876.256,2181.288913575032,4262.4516,1621.8888,2059.9852,2181.288913575032,2414.1908,2181.288913575032,2181.288913575032,1705.1138,699.09,1197.7742,2181.288913575032,2181.288913575032,2255.7304,2181.288913575032,2181.288913575032,2285.0256,2181.288913575032,2181.288913575032,2181.288913575032,2181.288913575032,2181.288913575032,3012.745,2181.288913575032,2181.288913575032,4255.7936,1661.8368,1685.8056,1358.232,2181.288913575032,4566.0564,2181.288913575032,2181.288913575032,2680.5108,2181.288913575032,1808.9786,978.726,3813.7024,1231.73,649.8208,1135.189,1989.4104,2181.288913575032,1504.0422,2181.288913575032,8217.3036,1821.6288,246.346,2181.288913575032,5704.5744,2036.6822,2181.288913575032,122.5072,1105.228,2281.6966,5099.3622,2518.7214,2181.288913575032,509.337,2181.288913575032,2181.288913575032,2181.288913575032,647.8234,2181.288913575032,4555.4036,2181.288913575032,2181.288913575032,1398.18,495.3552,2553.343,2181.288913575032,1675.1528,295.6152,2181.288913575032,3545.385,2171.8396,2181.288913575032,145.8102,1031.99,2181.288913575032,2181.288913575032,1151.834,121.1756,2181.288913575032,2181.288913575032,2181.288913575032,2181.288913575032,2181.288913575032,2181.288913575032,2181.288913575032,102.5332,7317.142,2181.288913575032,2181.288913575032,767.0016,6729.9064,5887.6694,1090.5804,1326.2736,247.0118,2181.288913575032,2181.288913575032,2181.288913575032,1012.016,1237.7222,2181.288913575032,857.5504,2181.288913575032,2181.288913575032,2181.288913575032,2181.288913575032,2181.288913575032,2181.288913575032,2181.288913575032,1036.6506,2741.0986,2474.7786,1677.1502,2181.288913575032,5645.984,1414.1592,2246.4092,2410.196,2181.288913575032,4685.9004,1278.336,1251.704,1426.1436,2181.288913575032,458.0704,2181.288913575032,2181.288913575032,2906.217,2181.288913575032,2181.288913575032,2956.152,2181.288913575032,2519.3872,2181.288913575032,201.0716,2181.288913575032,555.2772,2050.664,2181.288913575032,2181.288913575032,2181.288913575032,2920.1988,2181.288913575032,2181.288913575032,2181.288913575032,619.8598,5518.1504,4103.9912,7719.2852,2181.288913575032,2181.288913575032,2906.217,874.8612,656.4788,3195.84,2404.8696,1246.3776,2181.288913575032,2181.288913575032,600.5516,2428.8384,2181.288913575032,2181.288913575032,2181.288913575032,392.822,2117.244,3568.0222,2051.9956,2181.288913575032,1677.1502,2181.288913575032,2181.288913575032,2181.288913575032,2181.288913575032,619.194,2181.288913575032,1918.8356,7646.0472,1416.8224,3719.1588,1097.9042,3091.9752,2181.288913575032,2181.288913575032,308.9312,554.6114,2181.288913575032,2150.534,2181.288913575032,1331.6,2181.288913575032,2181.288913575032,2181.288913575032,3998.7948,2181.288913575032,5690.5926,2463.46,1418.154,2181.288913575032,5257.1568,2181.288913575032,591.2304,2181.288913575032,592.562,1215.7508,2181.288913575032,2181.288913575032,2181.288913575032,4740.496,2768.3964,2181.288913575032,1311.626,2181.288913575032,2181.288913575032,3339.6528,865.54,4777.7808,450.0808,5592.72,610.5386,1715.1008,3167.8764,445.4202,2181.288913575032,2926.191,1007.3554,427.4436,1246.3776,2181.288913575032,1108.557,2181.288913575032,3571.3512,1198.44,2181.288913575032,1347.5792,2181.288913575032,2181.288913575032,2181.288913575032,2181.288913575032,2181.288913575032,1661.8368,4106.6544,2181.288913575032,3338.3212,2181.288913575032,1348.245,2475.4444,837.5764,2181.288913575032,2181.288913575032,3755.112,3129.26,3547.3824,4578.0408,255.6672,2181.288913575032,2694.4926,2181.288913575032,211.7244,2181.288913575032,2181.288913575032,2181.288913575032,2247.075,2181.288913575032,2181.288913575032,837.5764,904.8222,2181.288913575032,2181.288913575032,1758.3778,2181.288913575032,1076.5986,2181.288913575032,2181.288913575032,3765.099,2181.288913575032,2181.288913575032,2181.288913575032,3313.6866,659.142,2181.288913575032,1649.8524,5367.6796,1805.6496,2181.288913575032,1904.188,407.4696,939.4438,663.1368,1869.5664,852.224,2190.482,2181.288913575032,960.7494,3628.61,1379.5376,2181.288913575032,308.9312,1569.9564,2181.288913575032,2181.288913575032,1787.673,2181.288913575032,857.5504,2069.3064,1917.504,2181.288913575032,2181.288913575032,1833.6132,2482.1024,3866.9664,2181.288913575032,2316.984,2181.288913575032,1398.8458,379.506,1281.665,1587.933,3010.7476,2181.288913575032,966.7416,2181.288913575032,2181.288913575032,1038.648,1366.2216,2181.288913575032,2220.443,1571.288,2644.5576,2181.288913575032,2181.288913575032,2181.288913575032,3567.3564,932.12,1791.6678,3150.5656,2181.288913575032,2181.288913575032,2181.288913575032,2181.288913575032,1522.0188,3677.2134,2181.288913575032,2090.612,123.8388,2181.288913575032,3600.6464,2181.288913575032,671.1264,2181.288913575032,747.0276,2181.288913575032,2181.288913575032,263.6568,605.878,2181.288913575032,2556.672,2181.288913575032,2181.288913575032,2181.288913575032,671.1264,2181.288913575032,2181.288913575032,2181.288913575032,2199.1374,2181.288913575032,2181.288913575032,2181.288913575032,2181.288913575032,5797.7864,2181.288913575032,2181.288913575032,788.973,2332.9632,387.4956,3593.3226,1366.2216,1561.9668,2181.288913575032,4354.9978,2181.288913575032,2553.343,2181.288913575032,2181.288913575032,864.2084,2181.288913575032,2181.288913575032,553.9456,2181.288913575032,2181.288913575032,2125.2336,1253.7014,2324.9736,2181.288913575032,2181.288913575032,539.298,5976.2208,3463.4916,176.437,2348.9424,3029.39,2181.288913575032,1808.9786,2181.288913575032,2587.9646,6831.108,2181.288913575032,164.4526,2181.288913575032,5652.642,2181.288913575032,2181.288913575032,2181.288913575032,1069.2748,5089.3752,2181.288913575032,2181.288913575032,1120.5414,2181.288913575032,1810.976,2181.288913575032,2681.8424,2181.288913575032,5416.9488,4602.0096,2181.288913575032,2181.288913575032,1800.3232,3428.2042,6002.8528,910.8144,1104.5622,2181.288913575032,2805.0154,2181.288913575032,2713.135,4153.9262,1518.024,3387.5904,2181.288913575032,358.2004,2181.288913575032,1897.53,2181.288913575032,424.7804,2181.288913575032,4836.3712,1118.544,2181.288913575032,2181.288913575032,772.328,2181.288913575032,796.9626,423.4488,466.06,2181.288913575032,2181.288913575032,974.0654,916.1408,264.9884,291.6204,353.5398,4811.7366,2181.288913575032,2181.288913575032,2181.288913575032,4094.67,2836.308,2181.288913575032,2094.6068,3207.8244,1618.5598,2626.581,2181.288913575032,2181.288913575032,2181.288913575032,2181.288913575032,3428.2042,2181.288913575032,4165.2448,2181.288913575032,10306.584,1693.7952,1641.197,1504.0422,2181.288913575032,1376.2086,1850.924,1957.452,287.6256,4244.475,2181.288913575032,1018.674,2181.288913575032,4687.232,1135.189,1342.2528,2181.288913575032,3355.632,1657.842,1211.756,6872.3876,999.3658,3451.5072,2181.288913575032,2181.288913575032,1754.383,2181.288913575032,2181.288913575032,2181.288913575032,2173.1712,848.895,2181.288913575032,2181.288913575032,2181.288913575032,3237.1196,761.0094,1566.6274,4832.3764,2181.288913575032,810.9444,2181.288913575032,2129.2284,2073.967,2988.1104,2988.1104,2181.288913575032,2181.288913575032,2050.664,4474.176,2181.288913575032,2181.288913575032,2181.288913575032,6275.165,1109.2228,824.9262,3364.9532,81.2276,1534.0032,2181.288913575032,2181.288913575032,1969.4364,701.7532,2181.288913575032,1422.1488,2181.288913575032,691.1004,1283.6624,2181.288913575032,2109.2544,1264.3542,2247.075,2181.288913575032,2181.288913575032,1298.31,1120.5414,2181.288913575032,2181.288913575032,4649.9472,2181.288913575032,6465.5838,974.7312,2181.288913575032,2181.288913575032,1707.777,7510.224,1935.4806,615.1992,484.7024,498.0184,143.8128,3844.995,6207.9192,2006.7212,2181.288913575032,2181.288913575032,2181.288913575032,2181.288913575032,2181.288913575032,1731.08,2181.288913575032,2181.288913575032,5424.9384,4940.236,798.96,1403.5064,2181.288913575032,2181.288913575032,1086.5856,1496.7184,2181.288913575032,2181.288913575032,2181.288913575032,2181.288913575032,2181.288913575032,2181.288913575032,2181.288913575032,2181.288913575032,1025.332,2892.2352,2648.5524,2181.288913575032,2181.288913575032,4653.2762,423.4488,2181.288913575032,2181.288913575032,2181.288913575032,2181.288913575032,1127.8652,2181.288913575032,2181.288913575032,127.8336,265.6542,111.1886,2181.288913575032,3696.5216,454.0756,2103.928,3600.6464,2181.288913575032,113.8518,2764.4016,2656.542,377.5086,2181.288913575032,1174.4712,937.4464,3056.022,459.402,4680.574,1123.2046,2181.288913575032,1537.998,2181.288913575032,3153.2288,2290.352,2181.288913575032,2181.288913575032,2181.288913575032,1166.4816,2181.288913575032,2181.288913575032,980.0576,3205.1612,2181.288913575032,153.134,2181.288913575032,1611.9018,5727.2116,2388.8904,2181.288913575032,2528.7084,2181.288913575032,1018.674,2330.3,639.168,2181.288913575032,2181.288913575032,2181.288913575032,2914.8724,1883.5482,2181.288913575032,3994.8,2181.288913575032,4379.6324,2181.288913575032,5359.69,1054.6272,2181.288913575032,4266.4464,4136.6154,890.8404,1442.1228,2693.8268,123.8388,341.5554,2181.288913575032,1178.466,3998.7948,2181.288913575032,3567.3564,2181.288913575032,722.393,2181.288913575032,2181.288913575032,2530.7058,2596.62,567.2616,181.0976,2237.088,1219.7456,2181.288913575032,745.696,2181.288913575032,2181.288913575032,2181.288913575032,2181.288913575032,1162.4868,2181.288913575032,2181.288913575032,101.2016,2181.288913575032,2181.288913575032,527.3136,2451.4756,2181.288913575032,2439.4912,1267.6832,9371.8008,2181.288913575032,1805.6496,2848.9582,749.025,2181.288913575032,2572.6512,6306.4576,2181.288913575032,1368.219,1761.7068,2181.288913575032,2181.288913575032,3782.4098,2181.288913575032,1787.0072,1342.2528,2181.288913575032,2181.288913575032,3707.1744,1767.699,3744.4592,908.817,2181.288913575032,605.878,1898.8616,825.592,669.129,942.7728,988.713,2181.288913575032,314.2576,1635.8706,2181.288913575032,2181.288913575032,2181.288913575032,2181.288913575032,3174.5344,2181.288913575032,719.064,873.5296,2181.288913575032,4026.7584,2181.288913575032,2181.288913575032,4074.696,2181.288913575032,2181.288913575032,1560.6352,229.701,3418.883,2181.288913575032,529.311,2181.288913575032,2181.288913575032,2181.288913575032,253.004,2181.288913575032,2404.8696,61.9194,164.4526,2181.288913575032,2181.288913575032,988.0472,1332.9316,3175.866,2181.288913575032,2013.3792,2799.689,7240.575,2358.2636,809.6128,316.9208,743.0328,2386.2272,2972.1312,1288.9888,2181.288913575032,1090.5804,2181.288913575032,2844.2976,2181.288913575032,3523.4136,1216.4166,402.809,5752.512,5592.72,1303.6364,194.4136,785.644,2181.288913575032,2181.288913575032,33.9558,2488.7604,9779.9362,2181.288913575032,5351.0346,1362.2268,3415.554,5880.3456,2181.288913575032,490.0288,2181.288913575032,575.2512,2181.288913575032,2648.5524,2390.8878,645.1602,2181.288913575032,673.7896,3630.6074,3739.1328,2181.288913575032,2181.288913575032,1159.8236,2181.288913575032,2181.288913575032,3704.5112,2181.288913575032,3020.0688,2181.288913575032,5383.6588,406.138,2586.633,2181.288913575032,2181.288913575032,417.4566,2181.288913575032,5773.1518,2181.288913575032,5546.114,2181.288913575032,1054.6272,4570.0512,2181.288913575032,3151.8972,2181.288913575032,460.7336,2233.0932,1171.808,2181.288913575032,3846.9924,3020.0688,607.2096,2706.477,2181.288913575032,2181.288913575032,1362.2268,2181.288913575032,3086.6488,1381.535,1090.5804,1065.28,2205.1296,3335.658,2181.288913575032,2181.288913575032,343.5528,2181.288913575032,6040.1376,735.0432,2181.288913575032,1704.448,3558.0352,2181.288913575032,2181.288913575032,1789.6704,74.5696,2181.288913575032,2181.288913575032,2603.278,38.6164,1342.2528,1379.5376,3956.8494,5033.448,524.6504,2181.288913575032,2181.288913575032,2181.288913575032,5896.3248,2475.4444,689.103,2496.75,7064.8038,3325.0052,3392.9168,2181.288913575032,2181.288913575032,63.251,2181.288913575032,2181.288913575032,2896.23,850.8924,2181.288913575032,2181.288913575032,2181.288913575032,1158.492,2749.754,3066.6748,2181.288913575032,419.454,2181.288913575032,2181.288913575032,193.082,4563.3932,2181.288913575032,2181.288913575032,2181.288913575032,2181.288913575032,2181.288913575032,2181.288913575032,296.9468,1380.8692,1072.6038,1031.99,2109.2544,509.337,419.454,2543.356,256.333,394.1536,3645.255,1061.951,282.2992,2181.288913575032,3354.3004,1787.0072,2181.288913575032,2181.288913575032,1336.9264,3293.7126,171.1106,1511.366,1151.1682,111.8544,5113.344,370.1848,210.3928,2181.288913575032,2181.288913575032,3542.056,4952.8862,2181.288913575032,2181.288913575032,2181.288913575032,2181.288913575032,2795.6942,1777.686,1039.9796,4207.856,1366.2216,2181.288913575032,2181.288913575032,2181.288913575032,167.7816,3285.723,844.2344,628.5152,2181.288913575032,3523.4136,2181.288913575032,2181.288913575032,2181.288913575032,2181.288913575032,2181.288913575032,495.3552,108.5254,4567.388,3231.1274,3563.3616,3900.9222,2143.876,1761.7068,2871.5954,2181.288913575032,2364.9216,4111.9808,2702.4822,2181.288913575032,6242.5408,2908.2144,2181.288913575032,6796.4864,2181.288913575032,2181.288913575032,99.87,223.7088,1295.6468,2063.98,2181.288913575032,792.302,1805.6496,2181.288913575032,832.9158,2410.8618,2181.288913575032,2432.8332,2343.616,2181.288913575032,773.6596,2181.288913575032,2181.288913575032,619.194,3835.008,2181.288913575032,2181.288913575032,886.8456,2181.288913575032,2181.288913575032,2607.2728,2668.5264,2181.288913575032,2422.1804,2181.288913575032,2181.288913575032,2181.288913575032,1701.7848,2181.288913575032,2572.6512,107.8596,2181.288913575032,2181.288913575032,527.3136,3930.8832,2181.288913575032,1318.284,331.5684,2181.288913575032,101.2016,2181.288913575032,2181.288913575032,3202.498,2181.288913575032,2181.288913575032,2181.288913575032,1843.6002,946.7676,2181.288913575032,2556.672,2181.288913575032,1025.9978,1807.647,1102.5648,871.5322,2181.288913575032,2181.288913575032,2181.288913575032,2181.288913575032,1086.5856,1657.1762,1910.1802,2167.8448,2181.288913575032,5896.3248,2181.288913575032,2624.5836,2181.288913575032,4580.704,2954.8204,2181.288913575032,2181.288913575032,1406.1696,1342.2528,3214.4824,1406.1696,145.8102,2181.288913575032,265.6542,2636.568,4138.6128,2181.288913575032,639.168,2181.288913575032,262.3252,293.6178,2181.288913575032,3327.6684,815.605,8209.314,2586.633,2375.5744,3954.852,5512.824,1165.15,539.298,2596.62,2181.288913575032,317.5866,2403.538,3420.8804,151.1366,2163.1842,1640.5312,5287.7836,2181.288913575032,2181.288913575032,1810.976,2181.288913575032,1223.0746,191.7504,2181.288913575032,2181.288913575032,2181.288913575032,1480.0734,2181.288913575032,755.0172,639.168,2270.378,2181.288913575032,4111.315,2181.288913575032,2181.288913575032,3616.6256,2181.288913575032,2181.288913575032,365.5242,2181.288913575032,2181.288913575032,1358.232,2181.288913575032,1416.8224,2181.288913575032,2181.288913575032,2167.8448,1006.6896,2181.288913575032,2125.2336,2181.288913575032,2693.8268,1448.7808,2181.288913575032,2181.288913575032,2181.288913575032,829.5868,3095.97,2227.101,111.8544,2514.0608,629.181,1384.1982,2749.754,2311.6576,181.0976,3048.6982,2181.288913575032,1416.8224,2181.288913575032,2181.288913575032,309.597,2181.288913575032,1970.768,2181.288913575032,2181.288913575032,2181.288913575032,1985.4156,466.06,2181.288913575032,2267.7148,2181.288913575032,455.4072,822.263,2181.288913575032,1757.712,2181.288913575032,2181.288913575032,2181.288913575032,2181.288913575032,905.488,2181.288913575032,2181.288913575032,4965.5364,2181.288913575032,2181.288913575032,1298.31,2181.288913575032,2181.288913575032,2181.288913575032,79.896,2181.288913575032,162.4552,1522.0188,1492.0578,3560.6984,2277.036,5344.3766,1929.4884,2892.901,1238.388,2600.6148,2181.288913575032,2181.288913575032,2946.165,2181.288913575032,3199.8348,886.8456,331.5684,498.0184,129.831,4807.7418,5303.097,585.904,2181.288913575032,2931.5174,1977.426,2181.288913575032,2181.288913575032,3728.48,2181.288913575032,1230.3984,4027.4242,2181.288913575032,2816.334,1201.769,2181.288913575032,680.4476,1061.951,3173.8686,2255.7304,2858.2794,2580.6408,2181.288913575032,2479.4392,2181.288913575032,2181.288913575032,1436.7964,88.5514,2922.1962,3645.255,215.7192,2833.6448,1976.0944,503.3448,2596.62,2181.288913575032,2616.594,632.51,2972.1312,2101.2648,5275.7992,2181.288913575032,2181.288913575032,392.822,2181.288913575032,4380.2982,2656.542,3277.0676,2181.288913575032,2566.659,894.8352,1193.1136,2181.288913575032,1166.4816,3731.809,2320.9788,1540.6612,2181.288913575032,427.4436,327.5736,2181.288913575032,3169.208,452.744,4327.7,467.3916,2181.288913575032,2181.288913575032,2181.288913575032,2365.5874,2181.288913575032,2103.2622,2181.288913575032,1556.6404,2940.1728,2181.288913575032,159.792,2181.288913575032,2181.288913575032,2181.288913575032,2181.288913575032,221.0456,2181.288913575032,2181.288913575032,2181.288913575032,2181.288913575032,2181.288913575032,143.8128,115.8492,2181.288913575032,2181.288913575032,2541.3586,2684.5056,2181.288913575032,1895.5326,2181.288913575032,2181.288913575032,2181.288913575032,2181.288913575032,1488.7288,5077.3908,2181.288913575032,4086.0146,2181.288913575032,6088.0752,2181.288913575032,1378.206,2181.288913575032,2181.288913575032,3121.2704,2181.288913575032,2181.288913575032,1571.288,549.285,385.4982,1552.6456,2181.288913575032,2181.288913575032,2181.288913575032,1480.0734,2181.288913575032,6852.4136,2181.288913575032,3739.1328,4821.7236,711.0744,2181.288913575032,3155.892,2181.288913575032,1225.7378,1454.773,1544.656,784.3124,2181.288913575032,2181.288913575032,2181.288913575032,6972.2576,1017.3424,978.726,2181.288913575032,166.45,2181.288913575032,2181.288913575032,992.7078,690.4346,1733.0774,2463.46,2181.288913575032,2181.288913575032,1384.1982,3016.7398,2055.3246,2277.036,2181.288913575032,2025.3636,4073.3644,639.168,5466.8838,539.298,2418.1856,1861.5768,882.8508,716.4008,3338.987,2181.288913575032,3271.7412,1281.665,2572.6512,2181.288913575032,2181.288913575032,4138.6128,120.5098,6018.1662,309.597,2181.288913575032,3984.813,2181.288913575032,2181.288913575032,605.878,360.8636,95.2094,432.77,2181.288913575032,2181.288913575032,2181.288913575032,2181.288913575032,2450.144,2181.288913575032,2181.288913575032,6431.628,2181.288913575032,3243.7776,2103.2622,3928.8858,2181.288913575032,2181.288913575032,2181.288913575032,703.0848,1890.872,1024.6662,2181.288913575032,2748.4224,163.7868,2181.288913575032,1467.4232,2181.288913575032,2181.288913575032,2181.288913575032,2181.288913575032,535.969,3390.2536,995.371,1468.089,2181.288913575032,2181.288913575032,2181.288913575032,1151.1682,3098.6332,4979.5182,3297.7074,2181.288913575032,3946.8624,1138.518,2181.288913575032,3101.2964,1428.141,1605.9096,3283.7256,2181.288913575032,133.8258,2181.288913575032,2816.334,2181.288913575032,2181.288913575032,3263.7516,1607.907,2181.288913575032,2181.288913575032,948.0992,1864.24,1603.2464,743.0328,3355.632,379.506,1607.907,2045.3376,1384.864,463.3968,3207.8244,4466.1864,4477.505,2181.288913575032,2999.429,2181.288913575032,1118.544,5863.0348,4440.886,345.5502,2127.8968,703.0848,1965.4416,2577.9776,177.7686,1314.2892,2181.288913575032,2826.9868,5937.6044,750.3566,2336.958,2181.288913575032,2874.9244,6033.4796,2181.288913575032,1644.526,826.9236,2297.01,2181.288913575032,2181.288913575032,2865.6032,2631.2416,2181.288913575032,959.4178,6851.082,2181.288913575032,2181.288913575032,838.908,2181.288913575032,2181.288913575032,438.0964,1565.9616,2109.2544,1054.6272,2181.288913575032,5020.132,283.6308,6029.4848,8114.7704,731.0484,2181.288913575032,314.2576,2181.288913575032,2181.288913575032,2609.936,2181.288913575032,858.882,4006.7844,2181.288913575032,2181.288913575032,2181.288913575032,2049.3324,1584.604,165.1184,982.7208,4795.0916,8028.8822,2181.288913575032,2181.288913575032,2625.9152,2181.288913575032,1644.526,185.0924,296.9468,2181.288913575032,1158.492,5564.7564,2181.288913575032,2181.288913575032,1390.1904,1084.5882,2181.288913575032,2181.288913575032,2181.288913575032,6611.394,3332.329,649.155,2181.288913575032,4514.124,188.4214,500.6816,3419.5488,1981.4208,1296.3126,2600.6148,2181.288913575032,463.3968,4063.3774,1459.4336,2181.288913575032,2181.288913575032,588.5672,2684.5056,2181.288913575032,1788.3388,2285.0256,171.7764,2181.288913575032,2181.288913575032,2181.288913575032,2181.288913575032,3795.06,149.1392,4729.8432,2113.2492,3755.112,3520.0846,4414.254,2529.3742,2181.288913575032,4022.7636,2570.6538,2181.288913575032,1556.6404,227.7036,992.7078,223.7088,2181.288913575032,6076.0908,2181.288913575032,583.2408,2181.288913575032,860.2136,1150.5024,2181.288913575032,2181.288913575032,2631.2416,2181.288913575032,2181.288913575032,2181.288913575032,4396.9432,2181.288913575032,4681.9056,3279.065,2181.288913575032,6976.2524,2181.288913575032,491.3604,2181.288913575032,4492.8184,2181.288913575032,131.8284,2181.288913575032,2181.288913575032,2162.5184,649.8208,2233.0932,308.9312,2181.288913575032,165.7842,2181.288913575032,1025.332,1274.3412,2181.288913575032,2181.288913575032,923.4646,6893.0274,1923.4962,2181.288913575032,1201.769,3675.216,697.0926,2181.288913575032,5901.6512,2181.288913575032,2087.283,196.411,4098.6648,713.7376,3410.2276,2181.288913575032,2181.288913575032,2181.288913575032,3078.6592,2458.1336,2348.9424,2181.288913575032,131.1626,2181.288913575032,2395.5484,2087.9488,284.9624,89.883,858.882,2449.4782,2181.288913575032,3542.056,2741.7644,2181.288913575032,2181.288913575032,743.0328,2181.288913575032,2181.288913575032,175.7712,2181.288913575032,175.7712,759.012,2181.288913575032,2181.288913575032,3403.5696,1904.188,4146.6024,388.1614,2181.288913575032,4447.544,700.4216,3265.749,6008.1792,1571.288,643.1628,1713.1034,2181.288913575032,2181.288913575032,3946.8624,2181.288913575032,2181.288913575032,2181.288913575032,3352.303,2181.288913575032,2187.153,4311.055,1874.8928,2181.288913575032,2181.288913575032,2181.288913575032,6474.2392,1022.6688,2780.3808,5070.7328,2181.288913575032,2181.288913575032,2181.288913575032,3643.2576,633.8416,2181.288913575032,3520.0846,2181.288913575032,2484.7656,2261.0568,2588.6304,3568.688,2181.288913575032,1012.6818,2181.288913575032,2181.288913575032,2269.0464,1516.6924,534.6374,830.9184,209.0612,2181.288913575032,2181.288913575032,2181.288913575032,2117.244,2181.288913575032,2181.288913575032,2780.3808,772.328,2181.288913575032,451.4124,2181.288913575032,759.012,2181.288913575032,191.7504,2181.288913575032,697.7584,2181.288913575032,2181.288913575032,2181.288913575032,3327.6684,2181.288913575032,2181.288913575032,3338.987,2181.288913575032,1278.336,2181.288913575032,2181.288913575032,2181.288913575032,83.8908,2181.288913575032,2181.288913575032,2181.288913575032,344.8844,2684.5056,3155.892,2980.1208,1406.1696,279.636,331.5684,545.2902,3419.5488,2181.288913575032,4211.185,2181.288913575032,996.0368,1547.3192,1062.6168,2246.4092,2181.288913575032,1174.4712,2181.288913575032,1039.9796,1981.4208,77.2328,2181.288913575032,2181.288913575032,2181.288913575032,6391.68,2181.288913575032,769.6648,1382.2008,5523.4768,4065.3748,2181.288913575032,1438.128,2181.288913575032,2181.288913575032,2181.288913575032,503.3448,2181.288913575032,2181.288913575032,2181.288913575032,2181.288913575032,307.5996,3523.4136,2828.3184,2181.288913575032,4029.4216,2181.288913575032,3251.1014,183.7608,2181.288913575032,2181.288913575032,1148.505,2181.288913575032,2181.288913575032,270.3148,5400.9696,2181.288913575032,2181.288913575032,2181.288913575032,2181.288913575032,2181.288913575032,2209.1244,1725.7536,2181.288913575032,2181.288913575032,1966.7732,5976.2208,2471.4496,2181.288913575032,2181.288913575032,1830.95,4202.5296,2181.288913575032,3185.853,2181.288913575032,2912.875,3663.2316,2181.288913575032,2181.288913575032,1225.072,230.3668,1342.2528,2181.288913575032,2181.288913575032,1897.53,2181.288913575032,466.06,2181.288913575032,2181.288913575032,343.5528,3044.7034,948.765,2181.288913575032,3463.4916,1482.0708,2181.288913575032,35.2874,3560.6984,2181.288913575032,2181.288913575032,2181.288913575032,2181.288913575032,2181.288913575032,2181.288913575032,3254.4304,1867.569,4610.665,2181.288913575032,1583.9382,2807.0128,1177.1344,2181.288913575032,263.6568,1346.9134,210.3928,5642.655,194.4136,651.8182,265.6542,926.7936,2181.288913575032,117.1808,2181.288913575032,2181.288913575032,2536.698,1264.3542,2181.288913575032,2181.288913575032,1765.7016,1597.92,2181.288913575032,2181.288913575032,180.4318,3904.917,2181.288913575032,2181.288913575032,2181.288913575032,792.302,6426.3016,568.5932,2181.288913575032,2181.288913575032,2181.288913575032,882.8508,153.134,1821.6288,6942.9624,1314.2892,2181.288913575032,3271.7412,652.484,3235.788,3307.6944,711.0744,1506.0396,234.3616,1948.1308,3271.7412,1342.2528,2181.288913575032,6157.3184,3165.879,2181.288913575032,2181.288913575032,3842.9976,2181.288913575032,2181.288913575032,1390.1904,5816.4288,5206.556,1768.3648,3110.6176,4904.2828,778.986,2848.2924,1813.6392,2181.288913575032,2181.288913575032,2181.288913575032,1298.31,4579.3724,3579.3408,2181.288913575032,2563.33,2181.288913575032,1787.0072,3942.8676,2181.288913575032,1869.5664,2181.288913575032,898.83,3635.268,2181.288913575032,40.6138,2656.542,2181.288913575032,2181.288913575032,4402.9354,423.4488,1062.6168,2181.288913575032,2181.288913575032,2181.288913575032,2181.288913575032,4026.7584,2181.288913575032,1192.4478,1669.8264,2175.8344,639.168,1478.076,2181.288913575032,790.9704,2181.288913575032,926.7936,1545.9876,2181.288913575032,3551.3772,2702.4822,239.688,2181.288913575032,1543.3244,1779.0176,3691.1952,1685.8056,196.411,2181.288913575032,663.1368,2181.288913575032,7504.2318,2181.288913575032,2181.288913575032,958.752,2181.288913575032,2456.802,4567.388,2181.288913575032,4447.544,1325.6078,1593.9252,4567.388,6474.2392,2181.288913575032,2406.2012,2181.288913575032,1470.0864,39.948,2181.288913575032,143.147,1318.284,703.0848,1230.3984,2181.288913575032,2181.288913575032,2181.288913575032,3281.0624,2942.836,2181.288913575032,2181.288913575032,2181.288913575032,4211.185,527.3136,2181.288913575032,2181.288913575032,102.5332,2181.288913575032,2181.288913575032,2181.288913575032,2181.288913575032,1725.7536,2181.288913575032,2181.288913575032,2181.288913575032,480.7076,3115.944,2181.288913575032,127.1678,2181.288913575032,2181.288913575032,856.8846,5353.6978,57.2588,2181.288913575032,774.9912,422.1172,2181.288913575032,5438.9202,2181.288913575032,2111.9176,763.0068,8323.8316,2181.288913575032,2181.288913575032,2181.288913575032,221.0456,1261.691,1470.0864,1830.95,2181.288913575032,1030.6584,2181.288913575032,1657.842,2181.288913575032,2708.4744,2181.288913575032,428.7752,2181.288913575032,2181.288913575032,89.2172,3823.0236,2181.288913575032,5153.292,1001.3632,2181.288913575032,761.0094,2181.288913575032,2181.288913575032,2181.288913575032,1657.842,2956.152,1547.985,1444.1202,2181.288913575032,2816.334,4495.4816,2181.288913575032,3523.4136,7148.0288,2181.288913575032,2181.288913575032,849.5608,2181.288913575032,3588.662,2181.288913575032,1258.362,4394.28,2181.288913575032,2372.9112,2181.288913575032,2181.288913575032,2181.288913575032,2181.288913575032,3219.8088,1198.44,661.8052,2109.2544,2993.4368,885.514,2181.288913575032,4527.44,458.0704,2181.288913575032,515.3292,718.3982,1146.5076,1187.7872,2181.288913575032,802.9548,2181.288913575032,2181.288913575032,2181.288913575032,1230.3984,2181.288913575032,2181.288913575032,1257.0304,2181.288913575032,2181.288913575032,2181.288913575032,2492.7552,1024.6662,579.246,2303.668,2181.288913575032,764.3384,2366.919,5221.8694,2181.288913575032,4643.955,2885.5772,2181.288913575032,334.2316,2181.288913575032,2181.288913575032,2181.288913575032,2181.288913575032,2181.288913575032,2181.288913575032,2181.288913575032,4138.6128,5038.1086,1655.1788,2181.288913575032,4422.2436,4655.9394,4625.9784,2181.288913575032,2181.288913575032,1597.92,6768.5228,2181.288913575032,1454.773,2394.8826,2181.288913575032,2181.288913575032,1581.9408,3691.1952,2181.288913575032,6042.135,2181.288913575032,2854.9504,2181.288913575032,2181.288913575032,2460.7968,1081.925,828.921,2530.7058,2181.288913575032,1557.972,5241.1776,1901.5248,5470.8786,2181.288913575032,1657.842,2181.288913575032,1593.9252,1182.4608,2181.288913575032,1757.712,2181.288913575032,2013.3792,539.298,1438.128,2181.288913575032,772.328,94.5436,2181.288913575032,1838.2738,2181.288913575032,2559.3352,1948.1308,1537.998,213.056,2173.1712,2181.288913575032,2181.288913575032,307.5996,693.0978,2181.288913575032,4594.02,6353.0636,703.0848,1482.0708,633.8416,2181.288913575032,1752.3856,5912.304,2181.288913575032,2181.288913575032,1733.0774,1065.28,2181.288913575032,2181.288913575032,1834.9448,2181.288913575032,2181.288913575032,245.6802,4102.6596,489.363,1340.2554,2181.288913575032,2293.0152,3735.138,1154.4972,461.3994,1929.4884,2181.288913575032,9158.079,2659.871,621.1914,1844.266,2181.288913575032,5779.144,2181.288913575032,288.9572,2147.205,368.8532,123.8388,2181.288913575032,1685.8056,1641.197,2181.288913575032,3056.022,2181.288913575032,2181.288913575032,1238.388,2181.288913575032,2181.288913575032,1653.8472,930.1226,1211.756,2181.288913575032,1612.5676,2181.288913575032,1382.2008,767.0016,161.7894,5375.0034,2181.288913575032,2181.288913575032,5390.3168,2277.036,2181.288913575032,624.5204,2181.288913575032,3560.6984,2181.288913575032,7717.9536,1360.2294,905.488,312.926,2207.127,1512.6976,2181.288913575032,1098.57,1214.4192,1283.6624,1288.9888,2181.288913575032,303.6048,1342.2528,2181.288913575032,2181.288913575032,3050.6956,2181.288913575032,1884.8798,1544.656,2787.0388,131.8284,1043.9744,2181.288913575032,4508.1318,2976.7918,1789.6704,2181.288913575032,1270.3464,2553.343,2181.288913575032,8417.7094,850.8924,2119.9072,1230.3984,7425.0016,531.3084,229.0352,2181.288913575032,4761.8016,2181.288913575032,2181.288913575032,487.3656,2181.288913575032,2181.288913575032,2406.867,2181.288913575032,2181.288913575032,2181.288913575032,2181.288913575032,2181.288913575032,2181.288913575032,2181.288913575032,1569.9564,229.701,1411.496,5339.0502,830.9184,2106.5912,2224.4378,3354.3004,2181.288913575032,1665.8316,2181.288913575032,2181.288913575032,2181.288913575032,4187.2162,2181.288913575032,2181.288913575032,3554.7062,2181.288913575032,2181.288913575032,780.9834,1070.6064,2167.179,2251.0698,2181.288913575032,2380.9008,2181.288913575032,392.822,3292.381,3057.3536,1857.582,2181.288913575032,2181.288913575032,2614.5966,2181.288913575032,2181.288913575032,3225.1352,2181.288913575032,468.7232,5105.3544,5559.43,2181.288913575032,2181.288913575032,2103.928,3020.0688,2181.288913575032,945.436,2181.288913575032,2181.288913575032,834.9132,2884.2456,2181.288913575032,607.8754,862.8768,2181.288913575032,2181.288913575032,2181.288913575032,2181.288913575032,5834.4054,2181.288913575032,2181.288913575032,165.7842,644.4944,1162.4868,3339.6528,897.4984,3209.156,2181.288913575032,2181.288913575032,695.0952,1997.4,2663.2,4458.1968,2181.288913575032,4090.6752,2181.288913575032,2181.288913575032,972.068,711.0744,118.5124,1557.972,2181.288913575032,2181.288913575032,424.7804,1177.1344,1940.807,2181.288913575032,2181.288913575032,2181.288913575032,2181.288913575032,494.0236,1398.18,1310.2944,2181.288913575032,4729.8432,2181.288913575032,1665.8316,2181.288913575032,998.7,2181.288913575032,2181.288913575032,2181.288913575032,2181.288913575032,2181.288913575032,952.094,1160.4894,2181.288913575032,2181.288913575032,2181.288913575032,611.2044,2181.288913575032,1354.903,2181.288913575032,3717.8272,1744.396,4815.0656,298.2784,2181.288913575032,9275.9256,4180.5582,80.5618,1379.5376,13086.9648,2826.321,3894.93,2181.288913575032,3929.5516,42.6112,181.0976,1687.1372,3338.3212,2181.288913575032,7488.9184,2896.8958,2181.288913575032,412.796,9267.936,2181.288913575032,2181.288913575032,2181.288913575032,487.3656,2181.288913575032,228.3694,1872.2296,3435.528,2181.288913575032,2181.288913575032,852.224,394.1536,2181.288913575032,2181.288913575032,2181.288913575032,2181.288913575032,2181.288913575032,770.3306,2181.288913575032,401.4774,1973.4312,2181.288913575032,677.1186,2181.288913575032,599.22,2465.4574,2048.6666,2181.288913575032,755.0172,1491.392,2181.288913575032,2302.3364,2181.288913575032,5193.9058,1132.5258,2013.3792,808.947,3825.6868,2181.288913575032,2181.288913575032,2181.288913575032,2181.288913575032,1057.9562,5772.486,736.3748,2181.288913575032,2181.288913575032,2181.288913575032,108.5254,2181.288913575032,2181.288913575032,2181.288913575032,958.752,2025.3636,2181.288913575032,1724.422,2181.288913575032,822.263,2852.2872,2181.288913575032,2181.288913575032,2181.288913575032,1120.5414,467.3916,2181.288913575032,2181.288913575032,644.4944,2181.288913575032,2181.288913575032,2181.288913575032,2024.032,958.752,913.4776,3984.1472,2371.5796,988.713,2181.288913575032,2181.288913575032,3877.6192,2181.288913575032,2302.3364,2181.288913575032,319.584,2181.288913575032,7168.6686,3835.008,159.792,525.982,778.986,2591.2936,2181.288913575032,2181.288913575032,2181.288913575032,2336.958,2181.288913575032,167.7816,2181.288913575032,5400.9696,2063.98,2181.288913575032,2404.2038,2181.288913575032,792.302,2181.288913575032,2181.288913575032,1612.5676,2181.288913575032,759.012,5243.8408,9390.4432,2181.288913575032,3254.4304,2363.59,6207.9192,2181.288913575032,778.986,497.3526,3225.801,583.2408,1571.288,2181.288913575032,2976.126,1225.072,2181.288913575032,2897.5616,2181.288913575032,2181.288913575032,1095.241,2181.288913575032,2181.288913575032,2181.288913575032,4960.21,2439.4912,2181.288913575032,95.8752,1860.2452,1677.816,2316.984,3282.394,2735.1064,2181.288913575032,2936.178,2181.288913575032,2181.288913575032,3101.2964,149.805,2554.0088,2181.288913575032,1637.868,592.562,4349.0056,2181.288913575032,2181.288913575032,2181.288913575032,2087.9488,2181.288913575032,2181.288913575032,3255.762,1571.288,2181.288913575032,303.6048,599.22,2181.288913575032,4264.449,1549.9824,2181.288913575032,2181.288913575032,2181.288913575032,369.519,1296.3126,755.0172,4344.345,2181.288913575032,2181.288913575032,2181.288913575032,1808.9786,2181.288913575032,2181.288913575032,2328.3026,1071.938,5382.993,2181.288913575032,2181.288913575032,2916.204,3964.839,1949.4624,2972.1312,1270.3464,3440.8544,2326.971,3467.4864,1737.738,2085.9514,9251.9568,215.7192,1845.5976,793.6336,2181.288913575032,2181.288913575032,1262.3568,3281.0624,2181.288913575032,6048.793,4514.124,1496.0526,1312.9576,2181.288913575032,2181.288913575032,4843.695,3418.883,958.752,567.2616,2120.573,2181.288913575032,2380.9008,1341.587,2181.288913575032,2181.288913575032,958.752,2546.685,2181.288913575032,1765.7016,3094.6384,2181.288913575032,2181.288913575032,2181.288913575032,2181.288913575032,2741.7644,2181.288913575032,185.7582,5487.5236,3775.086,2181.288913575032,2181.288913575032,1168.479,2181.288913575032,1444.1202,165.1184,2181.288913575032,2181.288913575032,1885.5456,6897.688,4012.1108,2181.288913575032,2181.288913575032,722.393,2961.4784,1960.781,2181.288913575032,1621.8888,2181.288913575032,1561.9668,4504.137,226.372,2181.288913575032,2181.288913575032,3673.8844,5283.123,103.199,2328.3026,2181.288913575032,3440.8544,1725.7536,2181.288913575032,2181.288913575032,1133.1916,1669.8264,1263.0226,2181.288913575032,2181.288913575032,2181.288913575032,2181.288913575032,2408.8644,2290.352,3221.1404,5536.7928,2181.288913575032,5299.768,2181.288913575032,2181.288913575032,690.4346,2181.288913575032,2181.288913575032,2181.288913575032,2181.288913575032,681.7792,5785.802,4436.8912,2181.288913575032,1662.5026,218.3824,2181.288913575032,259.662,2181.288913575032,519.324,1966.7732,1120.5414,3545.385,4649.9472,4374.306,197.0768,316.9208,1609.9044,2181.288913575032,2684.5056,2181.288913575032,6615.3888,1078.596,1611.236,2181.288913575032,2181.288913575032,340.2238,657.8104,2145.2076,2181.288913575032,2784.3756,2181.288913575032,2181.288913575032,834.9132,2181.288913575032,355.5372,1691.7978,2181.288913575032,2181.288913575032,2181.288913575032,2181.288913575032,207.7296,6157.3184,2181.288913575032,2181.288913575032,7158.6816,2181.288913575032,1032.6558,1201.1032,2181.288913575032,2181.288913575032,1182.4608,1619.2256,5163.9448,4592.0226,1418.154,3635.268,1842.9344,2181.288913575032,3401.5722,2804.3496,1211.756,2181.288913575032,4733.838,2181.288913575032,447.4176,2181.288913575032,1717.764,255.6672,3340.3186,2269.0464,2181.288913575032,1225.072,2181.288913575032,2181.288913575032,3475.476,6817.792,2181.288913575032,2675.1844,6021.4952,2588.6304,3124.5994,1228.401,2181.288913575032,2181.288913575032,2181.288913575032,2181.288913575032,1046.6376,2181.288913575032,2181.288913575032,1669.8264,303.6048,5552.1062,3062.0142,202.4032,2181.288913575032,4234.488,2966.139,1158.492,1295.6468,2181.288913575032,2181.288913575032,2181.288913575032,2181.288913575032,4751.8146,2181.288913575032,524.6504,1416.8224,3145.905,2664.5316,2181.288913575032,2181.288913575032,1617.894,6471.576,1629.8784,2181.288913575032,2181.288913575032,3339.6528,3046.7008,2542.0244,147.8076,6093.4016,2037.348,367.5216,2181.288913575032,2181.288913575032,474.0496,3010.7476,503.3448,2001.3948,2181.288913575032,185.0924,719.064,2181.288913575032,4346.3424,3338.987,2181.288913575032,3067.3406,4673.916,5772.486,1749.7224,2181.288913575032,2181.288913575032,2181.288913575032,1155.8288,3693.8584,2868.2664,4377.635,1288.323,2290.352,3787.0704,7100.757,2181.288913575032,2181.288913575032,6630.0364,2181.288913575032,2181.288913575032,1985.4156,2181.288913575032,2181.288913575032,1001.3632,2181.288913575032,2181.288913575032,2181.288913575032,41.9454,3075.996,2181.288913575032,2181.288913575032,1833.6132,2181.288913575032,2181.288913575032,539.298,2181.288913575032,1573.9512,162.4552,3515.424,1038.648,2181.288913575032,2181.288913575032,2181.288913575032,2181.288913575032,3131.9232,441.4254,559.272,2181.288913575032,2982.784,585.904,1168.479,516.6608,2348.9424,2181.288913575032,2181.288913575032,1471.418,3273.7386,4673.916,5976.2208,1713.7692,2181.288913575032,838.908,2181.288913575032,2181.288913575032,508.6712,4943.565,2873.5928,2181.288913575032,2428.8384,2181.288913575032,2181.288913575032,2181.288913575032,2181.288913575032,2145.2076,2181.288913575032,89.883,5193.24,2181.288913575032,2181.288913575032,2181.288913575032,293.6178,2181.288913575032,4035.4138,2181.288913575032,918.804,247.6776,2181.288913575032,3415.554,1278.336,306.268,229.701,3751.1172,2466.789,2181.288913575032,2181.288913575032,2181.288913575032,2181.288913575032,2181.288913575032,2181.288913575032,1973.4312,2181.288913575032,359.532,2181.288913575032,2181.288913575032,3048.6982,965.41,2696.49,7433.657,1165.15,1198.44,1589.2646,2153.1972,316.9208,2181.288913575032,2287.023,3440.8544,1366.2216,262.991,2181.288913575032,3483.4656,2181.288913575032,3271.0754,6897.688,2181.288913575032,1281.665,2184.4898,3073.9986,1856.2504,1238.388,1125.202,513.3318,2181.288913575032,2181.288913575032,2181.288913575032,6410.3224,3605.307,5404.9644,4889.6352,2181.288913575032,4364.319,2181.288913575032,2181.288913575032,1965.4416,2181.288913575032,363.5268,4504.8028,2181.288913575032,2181.288913575032,1133.8574,265.6542,1549.3166,4769.1254,2181.288913575032,2306.997,1969.4364,2563.33,2181.288913575032,2181.288913575032,215.7192,2181.288913575032,916.1408,4026.7584,591.8962,2181.288913575032,47.9376,1747.725,190.4188,2181.288913575032,517.3266,2181.288913575032,1711.106,1312.9576,2181.288913575032,2181.288913575032,219.0482,894.8352,3124.5994,2181.288913575032,651.8182,2181.288913575032,2364.9216,3528.74,1923.4962,2181.288913575032,1448.115,2181.288913575032,934.7832,3056.022,2181.288913575032,375.5112,2181.288913575032,1948.1308,579.246,2776.386,3193.1768,3115.944,2181.288913575032,2195.8084,6042.135,592.562,2181.288913575032,1265.02,3225.1352,2181.288913575032,1047.3034,2034.019,2181.288913575032,1970.768,2181.288913575032,2181.288913575032,2181.288913575032,3658.571,3137.2496,721.0614,1737.738,2181.288913575032,2181.288913575032,1765.0358,3038.7112,980.0576,2285.0256,2181.288913575032,1761.041,2181.288913575032,11445.102,2181.288913575032,2181.288913575032,2181.288913575032,2181.288913575032,2181.288913575032,1058.622,2181.288913575032,2181.288913575032,2181.288913575032,69.2432,978.726,169.1132,2097.27,2181.288913575032,1629.8784,2181.288913575032,4165.2448,2410.196,2181.288913575032,2984.1156,2181.288913575032,2181.288913575032,2410.196,2181.288913575032,2181.288913575032,992.042,2181.288913575032,4074.696,1921.4988,3966.1706,2181.288913575032,2181.288913575032,2334.9606,2181.288913575032,892.172,1657.842,426.112,2942.836,2181.288913575032,2181.288913575032,2181.288913575032,2181.288913575032,2348.9424,2181.288913575032,2103.928,3430.2016,2181.288913575032,2181.288913575032,2181.288913575032,3515.424,2181.288913575032,2181.288913575032,1091.2462,299.61,2181.288913575032,1166.4816,2463.46,2181.288913575032,759.012,2263.72,181.0976,2181.288913575032,2181.288913575032,1114.5492,1668.4948,484.7024,2181.288913575032,2181.288913575032,2885.5772,2181.288913575032,2181.288913575032,1182.4608,2181.288913575032,2181.288913575032,3757.1094,2181.288913575032,1860.2452,2181.288913575032,2570.6538,453.4098,666.4658,1396.1826,4566.7222,2181.288913575032,2181.288913575032,2181.288913575032,205.0664,5313.084,2181.288913575032,2579.975,1300.3074,4233.1564,6040.1376,3615.294,347.5476,3225.1352,1105.228,2024.032,3175.866,2181.288913575032,2181.288913575032,2181.288913575032,1006.6896,1605.9096,4483.4972,3048.6982,2181.288913575032,1134.5232,3952.1888,1713.7692,2181.288913575032,1342.2528,3020.0688,2241.0828,2181.288913575032,2886.243,2181.288913575032,886.8456,810.9444,1289.6546,2181.288913575032,2181.288913575032,2181.288913575032,447.4176,3747.1224,1973.4312,2181.288913575032,1454.773,1330.2684,3229.7958,2181.288913575032,2181.288913575032,1208.427,2181.288913575032,1314.2892,2181.288913575032,1065.28,2181.288913575032,4042.7376,2181.288913575032,3237.1196,2181.288913575032,2181.288913575032,2181.288913575032,171.7764,2636.568,1570.6222,2181.288913575032,2766.399,980.0576,1845.5976,3111.9492,1230.3984,2181.288913575032,2181.288913575032,2181.288913575032,2105.2596,2804.3496,2181.288913575032,78.5644,1384.1982,2181.288913575032,2181.288913575032,2181.288913575032,2181.288913575032,2181.288913575032,2181.288913575032,2181.288913575032,2181.288913575032,2181.288913575032,660.4736,2181.288913575032,822.263,2181.288913575032,1454.1072,4242.4776,2181.288913575032,5580.0698,2512.7292,5635.3312,732.38,3276.4018,3749.7856,1279.0018,2181.288913575032,2181.288913575032,2251.7356,1624.552,2181.288913575032,2181.288913575032,2181.288913575032,4165.2448,2181.288913575032,617.8624],\"xaxis\":\"x\",\"y\":[3184.3555479993665,1427.0299937234668,2169.5119113674054,1941.3430819970645,1427.3760146464308,1207.966780162863,2305.0862939719827,2167.334236210925,1316.8919100537307,1915.0642973367455,3348.0648166282053,1969.82398894429,3188.067750727252,2456.5475502569934,1398.5490867762414,2983.678457068213,1316.5703362611935,2265.02496939643,2699.4636409201794,3053.8285575536765,2496.930448625083,1664.3288860339715,2332.6024795415965,1956.981723276241,1854.6385131156662,1956.981723276241,2599.000979253974,1451.1555503577326,2785.8466360090406,1698.7730122568423,1348.466319274194,1935.4043098518457,2609.319548842579,2592.394612393254,1722.5525479681442,1896.604833316015,1808.9599901874321,1703.1528097002288,1540.6564948502582,2076.5714436786775,3006.2205918702193,3076.9649456799043,1907.8392300213782,3035.0230726099826,1358.8337831236527,1911.8974536722274,3139.8655317195744,2325.426306487083,1792.3566275306441,3261.6573744089183,3307.9545977917996,2206.133712746756,1861.8146861701803,1391.9916141763752,1189.7799956738158,2452.4893266061435,1309.9884165309004,1585.7407644542718,1278.3895601800104,1652.10532082057,3137.984983225205,2721.3870752675384,2382.0665465889965,3248.8151087408687,3270.3925221652635,2518.853882972442,2544.216840516003,3084.462692526956,2548.2750641668526,1647.7255233771834,1978.6080309614897,3031.559102283354,2473.7940604988553,1735.3948136361932,1197.3021896512937,3264.4781971504717,1910.362926100822,2566.4618486558993,2034.0108701541083,1235.482965732477,1639.6090760754848,2975.562009766514,3045.3660893290144,2579.279667193521,2897.5925886414625,2155.110670997524,2323.867331785251,2344.1828971699238,1827.7410280006998,2440.6117823157065,2078.749118835158,2198.660413030132,1237.9822146814938,2708.5448095994893,1223.2838476495021,1692.5126663190865,1571.3639712148172,1268.6896910460528,2033.0705959069235,2883.191348271581,2000.185444385885,2223.6773496507285,2829.0503571186846,1577.624317152573,2524.19840179344,2239.637564722442,2652.8203966143337,1360.071184032948,1967.0031662027357,2834.3948759396826,2908.232732022605,1336.291648321646,2541.693144436559,2006.7429169857512,1905.339981072361,2193.340341339561,2816.5541123735993,1948.8652759745423,1295.2900494989087,1957.0061704066677,2534.8385451745826,1977.0246091292306,3157.409168623547,2322.9270575380656,1677.1711517020203,1220.1658982458375,2885.7150443510245,3273.559365829782,1896.604833316015,2288.458484184768,2314.1674626512927,3296.1015006317884,2522.2934061686437,2316.939391131993,2346.7065932493674,2280.020463090532,2460.654668168696,2786.1682098015776,2428.709790894842,2430.2687655966743,1991.401402368685,2442.492330810076,2525.138676040625,1241.7677588006595,1699.9859660357106,2417.7480737211627,1762.9354463362338,3219.393927546458,1411.4157995747173,3120.7873672441956,2523.2581275462553,2364.844483477561,3191.23459439177,1217.6422021663939,2961.4578960587432,1751.0090077849427,1792.3321804002173,2733.6106404809398,1438.0161580275733,1669.3273839320054,2636.217033957546,2240.602286100054,2814.0548634245824,2213.0372062695865,1765.4346952852509,1815.8145894494087,2861.3168081850754,1794.2371760250135,1244.588581542214,2524.19840179344,2835.3107030564406,2215.882476141567,1788.2739567493682,1705.6520586492456,1180.698826994506,1366.0099561781667,1196.6590420662194,2034.3079968162187,1372.2703021159225,2691.9414469427015,2332.3053528794862,2511.9748365800388,2640.002578076711,2423.389719204271,2297.539652864078,1660.5677890452325,1167.5594346643463,1310.9286907780852,2594.0024813559403,2941.415010205754,2498.8354442498794,2493.8124992214184,2449.3469300720526,1908.4823776064527,1684.0257509639969,1990.4855752519272,1393.2290150856702,2179.23622763179,2322.283909952991,2394.587238464508,1901.9004578761594,1283.685184740155,2447.1937020459995,1795.4745769343085,3181.188704334849,3123.583742855323,2283.459986286734,1466.1754911822613,1781.7164841495019,1318.1293109630258,1873.0979771363968,3264.7753238125824,1370.0926269594427,1967.0031662027357,1370.7113274140902,1707.2110333510782,1343.813842299124,1694.0716410209186,1740.0961848721167,2275.3435389850356,2297.539652864078,1912.8377279194121,1956.6845966141304,1689.0486959924579,2237.459889565963,1371.9487283233852,2443.7297317193706,3265.4184713976565,2012.4090095992863,2799.9507497168115,2541.3960177744484,1366.9502304253515,3073.203848691166,2523.876828000903,3140.5331264350752,1604.5218022675394,2681.325750691986,1975.4411872969715,2673.160409129434,1849.6155680872052,2350.467690238106,2338.2441250247048,2839.3689267072896,3166.514784433284,2337.922551232168,1975.7872082199353,2065.288152712461,2249.3374338564,1260.8214761456109,1632.7300296830813,2565.818701070825,2252.504277520918,1668.0655358922834,2556.4404057294046,2283.4844334171607,2383.006820836181,2639.6810042841744,2082.831789616434,2889.1545675472266,2373.6285254947607,1840.5343994078953,1245.5044086589717,2049.0308109786374,1765.4346952852509,2905.1392297493667,1780.430188979353,3010.9219631061433,2236.2224886566673,1395.1095635800398,1459.9395923749325,3244.4108641670555,2342.623922468091,2071.2269248576795,1218.9040502061157,2093.7935067901135,1245.1828348664344,1161.2990887265905,2581.7789161425385,1734.1329655964714,1986.1057778085408,2556.4404057294046,1929.7382172383107,3241.9116152180386,1601.4282999943016,2405.548955638188,1286.506007481709,1979.5483052086745,2557.9749333008103,1719.4101514340528,1175.0816286418242,1319.7127327952849,2928.2756178755944,2174.8319830579767,1367.2473570874618,2536.0759460838776,3181.534725257812,2281.603884922791,1737.8940625852101,2257.4783282885255,2005.505516076456,1807.352121224746,2572.400620801118,2515.438806906667,2007.3860645708255,2657.521767850257,3012.4809378079763,2977.7396849229945,2705.7239868579354,2316.3206906773457,2053.732182214561,2415.5703985646824,3229.3909233425265,1257.3819529494092,1998.3293430219421,2472.829339121244,1431.7558120898173,1818.635412190963,1422.9717700726176,1438.931985144331,1306.846019996809,2228.6758475487627,1674.3258818300394,2022.7031320574647,2860.698107730428,2832.514327445313,1667.1497087755256,1621.743865378975,1197.9453372363682,1284.3038851948024,2455.6072760098086,2563.616578783918,1841.7962474476171,1290.267104470448,2554.8325367667185,2257.7999020810626,2466.5689931834877,2639.0623038295266,1258.0495476649103,1172.8795063549176,2601.2031015408807,1743.5112609378918,2378.948597185332,1857.7809096497576,2860.9952343925384,1182.2822488267648,1207.6452063703257,2228.3542737562257,1619.8877640150322,3032.8453974535023,2532.017722433028,1152.5150467093906,1667.1252616450988,1314.0710873121766,2996.842296528799,2258.1214758735996,3236.913117320005,2156.0509452447086,2033.367722569034,1453.036098852102,1254.9071511308189,3181.2131514652756,3334.257829582545,1744.4759823155032,2282.519712039549,1417.330124589509,2282.544159169976,1580.7422665562376,1211.4063033590646,2414.630124317498,1341.9332938047544,3271.0356697503385,2218.654404622268,1884.3812681026136,2583.362337974798,3215.9299572198297,1651.4866203659221,1997.983322098978,2456.8935711799572,2413.392723408203,2718.269125863874,1991.4258494991118,2564.8539796932137,2261.239425277264,2453.726727515439,2958.983094240153,1673.7071813753919,1871.836129096675,2058.7062329821683,2403.9899809363556,2692.5601473973493,3101.3631818458543,2872.278525358755,1285.8873070270615,2386.1492173702727,2237.7814633584994,1545.357866086182,1335.3513740744613,1931.0245124084593,2513.8553850744083,2342.648369598518,2287.2210832754727,2388.624019188863,1605.808097437688,2561.0928827044745,1558.2245788846576,3205.932961423762,1753.5082567339598,3158.6710166632683,1848.0565933853732,1210.7387086435635,1678.3841054808886,1808.2923954719308,1291.8260791722803,2708.2232358069523,2526.0789502878097,1364.7481081384449,1935.0827360593084,2491.3132502724015,1849.6155680872052,1852.1148170362223,2352.323791602049,2475.9717356553356,2332.9485004645603,1756.650653268051,2045.2452668594715,3135.8317551991513,1775.4561382117458,1676.8251307790565,1715.054801121093,2388.6484663192896,1807.69814214771,2389.5887405664744,2506.03606443482,1864.6355089117342,2048.7092371861,2036.5101191031254,1193.2439660004445,2938.618634594626,2100.9941269750543,2178.295953384605,2012.4090095992863,2670.3640335183063,2828.1345300019266,2644.3579283896706,2253.098530845139,2250.3021552340115,1987.0216049252986,3315.7983655618145,1860.8988590534223,2243.3986617111814,2525.114228910198,1445.8599257975882,2918.2541749490993,2916.1009469230466,2475.353035200688,1312.190538817807,3252.279079067497,1488.742073114695,2900.4378585134436,2683.1818520559286,2642.8234008182653,2830.6337789509435,2179.854928086437,1953.566647210466,1973.5606388026022,2027.7505242163525,2115.7169411374725,2192.0784932998386,2585.837139793388,3297.982049126158,1822.6936358418122,3282.318960716555,1939.486980633122,3029.0598533343373,2398.9670359078946,1844.295496396634,1385.1125677839716,2904.174508371755,2535.45724562923,1985.165503561356,1169.7371098208262,3039.402870053369,2413.0467024852387,3342.4231711450975,2585.8615869238147,1968.2405671120307,2182.378624165881,2525.4358027027356,2337.3282979079468,2288.1858046530842,2171.0953331996643,2109.135021407179,1959.2082926935743,1375.7342724425512,1616.720920350514,1197.0050629891834,2546.7160894650196,1858.993863428626,1412.9503271461226,2224.6176238979133,1851.8176903741119,2722.9704970997973,1713.149805496297,1642.7270254791492,2240.8749656317377,1819.5756864381476,1592.9413846392122,1235.1613919399397,1642.0838778940752,2412.725128692702,2921.396571483191,2622.780514965276,2169.2147847052947,1211.0847295665276,1941.6646557896017,1617.982768390236,2235.2577672790558,3016.8607352513627,1554.4390347654921,2636.884628673047,2193.315894209134,2460.654668168696,2203.9560375902765,1886.5833903895202,1634.2645572544868,1198.8856114835528,3261.3358006163808,1636.169552879283,1247.3849571533412,1702.5341092455812,2188.61452297321,2537.6593679161365,2301.9438974378913,1176.021902889009,2361.7265340738963,1854.6140659852394,3267.2745727615993,2996.8178493983723,1592.3226841845649,2873.8375000605874,1658.9843672129732,2515.711486438351,2671.625881558028,1442.3715083405327,2204.2531642523863,1975.7872082199353,1568.5187013428363,1251.7647545967275,1258.668248119558,2614.318046740613,1203.8841093815868,1815.220336125188,2043.364718365102,2666.9245103221047,2069.692397286274,2622.4833883031656,1430.791090712206,2201.481235771686,1786.3934082549986,2282.519712039549,2988.6769549662467,1197.9453372363682,3146.1258776573295,2681.647324484523,2528.2321783138627,2895.414913484982,2233.6987925772237,3135.5101814066147,1894.4027110291083,2922.955546185023,1298.3835517721466,1858.3996101044052,3262.597648656102,2180.795202333622,1321.5443870288009,3154.90991967453,3211.27748024476,1906.8989557741934,1816.7548636965935,1381.994618380307,1296.8245770703143,2174.8319830579767,2207.741581709442,2852.5327661678757,1160.655941141516,1406.095727884146,1461.8201408693017,1282.7449104929701,1160.0372406868687,2215.5364552186034,2009.5637397273053,3128.928261676321,1417.3545717199358,1164.7386119227922,2322.283909952991,2867.231133199867,1713.4713792888342,2702.3089107921605,3088.8424899703423,3034.1072454932246,1466.1999383126881,3175.54705885174,1267.4033958759042,2700.403915167364,2403.346833351281,2593.3593337708653,2012.7305833918235,2035.5698448559406,3004.04291671374,2650.3455947957436,2323.842884654824,1947.2818541422832,1858.078036311868,1381.9701712498802,2233.377218784686,1215.464527009914,1649.9031985336633,3293.8749312144555,2874.1346267226977,1232.6865901213496,2434.029862585413,1807.3765683551728,2904.174508371755,1254.561130207855,1751.0090077849427,1214.8213794248395,2593.0622071087555,2103.1962492619605,2008.3507859484369,2405.8705294307247,3206.8487885405193,2843.1300236960287,1970.4426893989375,2823.7302854281133,1916.6232720385779,2100.672553182517,2627.1603124086623,2085.652612357988,2586.8018611709995,3230.9498980443586,2420.866023124827,1810.4945177588374,2805.88952186203,1840.5343994078953,1376.9472262214194,2362.988382113618,3278.2362899352793,3193.41226954825,2634.360932593603,1763.257020128771,2232.7829654604657,2451.227478566422,2424.9731410365303,1363.1891334366123,2373.0098250401134,2811.8282940072486,1806.7334207700987,3232.211746084081,1908.4579304760257,2279.4017626358846,1779.8114885247055,2428.6853437644154,2944.5818538702724,2627.803459993737,1405.1554536369613,1781.0733365644273,2548.9182117519267,1351.9547367312493,1827.4194542081627,3279.201011312891,1997.983322098978,2469.389815925042,2096.935903324205,2186.7339744788405,2935.4762380605353,2283.4844334171607,1288.3865559760784,1980.7857061179695,1275.5442903080295,3169.014033382301,1709.4131556379848,2615.579894780335,2578.0178191538,1176.6161562132297,1850.234268541853,1675.266156077224,3125.1916118180097,2004.5896889596982,1578.5645913997578,2432.149314091044,1674.6474556225767,1633.6214096694125,1707.5326071436152,1921.3246432745016,1900.9601836289746,2240.2807123075168,1820.8375344778697,2255.597779794156,1837.713576666341,1763.2325729983443,1821.4317878020902,1998.3048958915153,1286.8031341438195,1335.6485007365718,2527.6379249896418,2582.422063727613,2231.199543628207,3086.9863886063995,2031.1900474125541,1693.4284934358443,1795.4990240647355,2681.920004016207,1323.7709564461343,2614.318046740613,1369.152352712258,1949.7811030913,1803.6154713664341,2660.3425905918116,3121.406067698844,1982.0475541576914,1742.8925604832443,2475.0559085385776,1902.19758453827,2248.7431805321794,1738.834336832395,1739.1559106249322,1255.5014044550398,2957.3752252774675,3013.445659185587,2454.667001762624,2275.665112777572,2994.9373009040028,2664.400814242661,1601.4282999943016,3334.257829582545,2059.052253905132,2917.9326011565627,2224.939197690451,1596.3809078354138,2984.6431784458246,2696.667265309052,2311.643766571849,2468.4495416778577,2205.8365860846457,2335.720428945261,2017.0859337047832,1601.4038528638748,1230.460020704016,3110.4687976555906,1816.136163241946,2722.9460499693705,3303.2776736863025,2620.281266016259,2608.7008483879317,2394.884365126619,2546.7160894650196,1916.277251115614,2640.9184051934694,2975.562009766514,2812.174314930213,1864.9570827042714,2572.7221945936553,2019.6096297842269,2014.8838114178764,1359.1064626553364,1222.962273856965,1941.3186348666377,1289.3268302232632,1605.7836503072613,1229.222619794721,2487.5766004140896,1849.9615890101693,2306.323694881278,2278.1399145961627,1588.9076081187898,3313.917817067445,1277.1032650098618,1858.7211838969424,2404.9302551835403,1371.330027868738,2915.160672675862,3083.8439920723076,2988.0582545115994,1721.2662527979955,1759.7930498021426,2219.0004255452322,2568.639523812379,1966.0873390859779,2605.8555785159506,2435.588837287246,2382.363673251107,2469.7113897175796,2305.061846841556,2635.004080178677,2629.9811351502167,2723.267623761908,1227.044944638241,2593.0622071087555,2948.937204183232,2584.3026122219826,2256.8840749643045,2709.163510054137,2707.6289824827318,2330.1032305925796,1743.832834730429,1869.361327278085,1961.064394057517,1308.107868036531,1976.405908674583,2030.2253260349426,2363.6070825682655,2466.890566976025,2212.0969320224017,3156.468894376362,2978.0368115851043,3105.470299757557,2527.0192245349945,1748.5097588359258,1811.1132182134852,1309.0481422837156,2239.9835856454065,2324.486032239898,2442.492330810076,1866.8376311986408,1343.1462475836229,1833.3582263533813,1987.0460520557253,2282.865732962513,2961.4578960587432,1696.892463762473,2316.0480111456623,1560.699380703248,2273.1169695677017,2037.7719671428472,1977.667756714305,1688.4055484073835,2698.5478138034214,2000.4825710479952,2399.288609700432,1946.0200061025614,2394.2901118023983,1795.7961507268458,2058.730680112595,2353.2640658492337,2290.3390326791373,2969.2772166983314,1238.6009151361413,2347.9684412890892,3120.1686667895483,1925.382866925351,1415.176896563456,3120.7873672441956,2344.8260447549983,1644.904700635629,2012.3845624688595,2036.8316928956626,3336.781525661989,1360.7143316180222,3320.475289667311,2048.387663393563,1809.2326697191156,1972.323237893307,2204.2531642523863,2968.0398157890368,1848.6752938400207,1914.7182764137817,2873.8375000605874,1722.8496746302544,1295.8843028231295,3294.493631669103,2333.5427537887813,1983.6065288595237,1216.0832274645616,2999.317098347389,2413.0467024852387,1683.7286243018866,2266.262370305725,2247.1597586999205,1951.6860987160965,1849.0213147629847,2288.1858046530842,3185.890075570772,2702.903164116381,1984.5468031067085,2559.2612284709585,2017.11038083521,2692.8817211898863,2661.282864838996,1332.5305513329072,1952.2803520403172,1618.9230426374206,2473.448039575892,2487.8492799457727,1875.5972260854137,1673.0640337903174,1366.9746775557783,2439.6715080685217,2717.9475520713368,1893.4624367819238,2179.23622763179,2101.3157007675914,1217.963775958931,1776.7179862514677,2034.9266972708663,2529.5184734840113,1428.6378626861526,1284.92258564945,3333.342002465787,2891.653816496244,1649.6060718715528,1181.3419745795802,2424.0084196589187,1790.773205698385,2452.835347529108,1371.6271545308482,2516.0330602308877,2034.9266972708663,2373.306951702223,2406.8108036779095,2101.934401222239,2598.0607050067892,3335.5196776222674,1837.713576666341,2655.641219355888,1772.9568892627287,2599.000979253974,1982.666254612339,1390.1110656820056,2547.334789919668,1212.0005566832854,1339.4340448557375,2227.4628937698944,1229.8657673797952,1334.4110998272765,2463.1294699872865,2576.434397321541,2531.0530010554166,1863.7196817949762,2245.8979106601982,1725.0517969171613,1738.2156363777474,2027.1318237617047,1279.6269610893055,1671.5050590884853,1442.717529263497,1337.231922568831,2725.4697460488146,2453.726727515439,1397.6332596594834,3081.987890708365,2507.8921657987626,2429.6256180115997,2620.602839808796,1801.116222417417,2182.032603242917,2594.2996080180505,2527.6379249896418,1394.490863125392,1880.9172977759852,1412.0345000293646,1815.8145894494087,2559.5339080026424,1914.7182764137817,2023.024705850002,2484.409756749571,2184.5318521919344,2304.7402730490185,1699.3672655810633,1214.4998056323025,2574.8998697501347,1208.2639068249732,3128.012434559563,2222.761522533971,2483.8155034253505,2483.8155034253505,2696.0485648544045,1411.4157995747173,2634.0638059314924,1614.246118531924,2958.63707331719,2563.295004991381,1678.4085526113154,1367.2473570874618,2269.701893501927,1427.0299937234668,2237.7814633584994,2688.823497539037,2625.5768905764035,1628.0286584471578,2566.7345281875832,2394.2901118023983,1214.202678970192,2162.9544387675387,1252.3834550513752,2702.2844636617338,1336.9103487762936,1911.8974536722274,2640.3241518692485,2987.736680719062,2244.0418092962555,2927.9784912134837,2319.784661003974,3235.6757164107094,2600.2628272936963,3117.6449707101046,1468.6991872617052,1352.2274162629328,1632.086882098007,2038.0690938049574,2638.443603374879,1240.481463630511,1229.8657673797952,1960.1241198103323,2181.735476580807,1869.0153063551206,1886.261816596983,1991.1287228370015,1381.994618380307,2253.122977975566,2326.985281188915,1999.5667439312374,1720.3748728116643,2331.0679519701907,1856.4946144796088,1179.4369789547839,2328.841382552858,2526.351629819493,3039.1057433912583,2484.1370772178875,1952.6263729632813,1417.6516983820463,2527.613477859215,1419.5566940068425,2234.9606406169455,1636.1451057488562,1258.322227196594,1673.7071813753919,2394.2901118023983,1221.4032991551326,2651.880122367149,1384.7909939914343,2585.837139793388,1631.4437345129327,2563.913705446029,2276.259366101793,2069.6679501558474,1267.4033958759042,1366.9746775557783,3322.380285292107,3254.1596275618667,1796.4148511814933,2606.820299893562,1888.4394917534628,2028.0720980088895,2420.2473226701795,2412.452449161018,1449.5721285254735,3215.63283055772,2629.9811351502167,1647.7255233771834,2963.041317891003,3104.8515993029087,1837.713576666341,3061.6478781932656,1199.8258857307376,2658.1649154353317,3330.496732593806,2003.6494147125134,1880.941744906412,2696.9643919711625,2923.9202675626348,2986.523726940194,2587.7421354181843,2860.698107730428,2654.4038184465926,1370.0926269594427,2961.1607693966334,2341.064947766259,2549.5124650761472,1201.706434225107,1342.205973336438,2027.7505242163525,2816.208091450635,1580.7667136866644,2726.0884465034624,1937.8791116704358,1923.1807446384441,2826.22953437713,1743.8083876000023,3068.8484983782064,2391.7664157229538,1753.8542776569238,1919.0980738571682,1967.0031662027357,2513.8553850744083,1772.9568892627287,1910.338478970395,1235.1858390703665,2694.143569229608,2965.8621406325574,2239.0433113982217,2302.562597892539,2868.1714074470524,1211.4063033590646,1551.3210853618275,3112.0277723574227,2681.920004016207,3070.3830259496117,1441.7772550163122,1371.9487283233852,2563.913705446029,2580.8141947649274,1199.8014386003108,2495.9901743778983,2583.6594646369076,3223.1550245351973,3052.863836176065,2237.1383157734253,1276.8061383477514,1890.6416140403694,1995.8056469424982,1932.9050609028286,1451.1799974881594,1875.6216732158405,2475.9717356553356,1818.635412190963,2441.5276094324645,1733.489818011397,1303.109370138497,3004.018469583313,2256.8840749643045,2267.4997712150202,2669.4237592711215,3011.5406635607906,2549.215338414037,2309.1445176228317,1701.890961660507,1188.518147634094,2389.8858672285846,2635.944354425862,1874.9785256307664,1368.8307789197208,2563.913705446029,3242.8518894652234,1375.412698650014,1866.8376311986408,1292.7908005498919,2013.6464105085815,2607.117426555673,2057.468832072873,2351.407964485291,2657.8188945123675,1407.6547025859782,2172.035607446849,2578.0422662842266,2246.838184907383,3350.2424917846856,2583.6594646369076,2219.9406997924166,3085.4029667741397,2939.2373350492744,2718.8878263185215,2302.587045022966,1231.7463158741648,1643.667299726334,1215.464527009914,1843.3552221494494,1631.4437345129327,2239.018864267795,2640.645725661786,2574.8998697501347,2708.247682937379,1844.319943527061,2548.8937646215,3206.254535216299,2956.75652482282,2853.4974875454873,2047.7689629389151,2413.9869767324235,1351.0144624840646,2527.3163511971047,2650.618274327427,1687.4897212906258,2291.89800738097,1309.6668427383634,1916.9448458311151,2560.1770555877165,2002.7091404653286,2668.4834850239367,1766.3505224020087,3066.027675636652,2642.204700363618,2350.1461164455695,2378.6025762623676,2179.211780501363,2303.5273192701507,2605.582898984267,1670.2676581791902,1589.2047347809003,1720.3504256812375,1352.8461167175806,1467.140212559873,1469.9610353014273,3236.3188639957834,2269.9990201640376,1434.2550610388344,2016.1701065880252,2689.7882189166485,2188.2929491806726,1326.2457582647244,1353.1676905101176,2651.2614219125016,1922.8836179763339,2325.426306487083,2676.3272527939516,1152.5150467093906,1619.8877640150322,1550.0592373221057,1862.7794075477916,2659.1051896825165,1308.429441829068,1191.363417506075,3128.952708806748,2268.761619254742,3323.023432877182,1778.8956614079475,2177.9743795920676,2188.61452297321,3273.559365829782,1880.9172977759852,1858.078036311868,2237.7814633584994,2019.263608861263,2555.154110559256,2807.7700703563996,1684.3717718869611,1834.5956272626765,3197.1733665369893,2524.471081325124,1790.4760790362748,3236.913117320005,2481.5889340080166,1925.704440717888,1992.3416766158698,1889.3797660006476,2176.0938310976985,2526.0789502878097,1668.6842363469311,1273.3421680211227,1322.211981744302,1839.321445629027,2272.522716243481,2653.439097068981,2300.360475605632,3262.894775318213,1649.6060718715528,1267.4033958759042,2066.5255536217564,1387.6362638634155,2624.9581901217557,3312.061715703502,2046.5071148991933,1783.9186064364085,2915.433352207546,2557.3806799765894,2530.7558743933064,1666.184987397914,1988.9021534196681,2044.3049926122867,2863.4944833415557,2531.399021978381,2596.1801565124197,2865.350584705498,1693.452940566271,2701.9628898691963,3186.1872022328826,1905.3644282027878,1981.7015332347273,1556.3195832598615,1809.5542435116527,2358.9057113323424,1278.6866868421207,2047.4718362768049,1797.3306782982513,2310.381918532127,3316.763086939426,2024.9297014747983,2197.7201387829473,2048.066089601026,3278.533416597389,2645.619776429393,1263.0480455629445,2927.3353436284096,3267.299019892026,1751.9492820321275,2968.682963374111,1295.9087499535563,1226.7478179761308,1590.466582820622,1841.4991207855069,3198.7078941083946,2469.389815925042,2558.9152075479947,1958.886718901037,1903.7565592401022,1348.812340197158,2229.2945480034105,2564.2597263689927,2393.0038166322493,2500.715992744249,1675.8848565318717,2228.3542737562257,2711.0685056789334,1260.5243494835006,1874.681398968656,2210.5135101901424,2629.659561357679,2483.1723558402764,2321.640762367917,2195.1964427035036,2034.0108701541083,1963.2420692139967,1297.764851317499,2651.2858690429284,2326.960834058488,1234.8398181474026,1219.5227506607632,2434.6730101704875,1396.6685382818719,1993.6279717860184,1829.300002702532,1347.550492157436,3316.417066016462,3157.0875948310095,2600.559953955806,3286.0556105748674,1905.339981072361,2638.7407300369896,2462.213642870528,1888.7366184155733,1988.2834529650206,1624.2431143279919,2525.138676040625,1865.575783158919,2308.5258171681844,1439.8967065219426,3023.121081189118,3214.717003440962,2199.2791134847794,2443.7297317193706,2684.122126303113,1922.5620441837968,1700.3075398282479,2067.811848791905,1657.4253925111411,2293.803003005766,2688.2047970843896,2292.8627287585814,1832.739525898734,2441.206035639927,2087.854734644895,1328.7694543441683,1294.6713490442612,2177.034105344883,3102.946603678113,3104.184004587408,1949.459529298763,2226.5226195227096,1715.3274806527768,1262.083324185333,2040.5683427539745,2485.69605191972,2696.9643919711625,2219.0004255452322,1450.8339765651954,1822.718082972239,2701.641316076659,2438.70678669091,2600.2383801632695,2329.1874034758216,3251.017231027776,2713.8648812900606,1623.6244138733446,2454.9885755551613,1850.234268541853,1365.7128295160562,2810.888019760064,1946.960280349746,2054.350882669208,2558.3209542237737,1567.9244480186153,2689.7882189166485,1959.2082926935743,2000.8285919709592,1254.5855773382818,2486.636326166905,1600.1664519545798,1670.292105309617,2066.5255536217564,1286.506007481709,2458.1309720892523,1398.5735339066682,2359.227285124879,1808.613969264468,1615.8050932337562,1536.2766974068718,1752.914003409739,1342.8735680519392,2579.6012409860587,2323.224184200176,1687.8112950831628,2624.017915874571,2002.090440010681,1388.5765381106003,2023.024705850002,2038.3906675974947,1466.1999383126881,2184.2591726602504,1718.4943243172947,1625.1833885751767,3242.87633659565,1396.0742849576511,2541.3960177744484,1988.2834529650206,2488.195300868737,2385.184495992661,1758.2096279698835,3086.664814813862,2021.4901782785964,1596.0593340428768,1808.2923954719308,1871.5145553041377,2350.467690238106,2434.6730101704875,2218.3572779601577,3210.3372059975754,2259.6560034450054,1992.3416766158698,1661.8051899545276,3067.24062941552,1841.1530998625428,2403.9899809363556,2001.1257186330695,1875.2756522928767,1784.8344335531663,2932.9769891115184,1457.4158962954884,3183.093699959645,1382.2917450424175,2549.5124650761472,2001.1501657634963,2472.853786251671,1733.5142651418237,3353.063314526239,2802.7715724583654,2087.830287514468,2418.6883479683474,3034.701498817445,1999.5422968008104,2715.769876914857,1845.8544710984665,1796.43929831192,1312.4876654799175,1316.867462923304,2199.600687277317,2294.7188301225237,2071.5729457806437,2208.0142612411255,1833.6798001459185,1182.603822619302,2009.5881868577321,3000.257372594574,2000.8285919709592,2155.110670997524,1155.657443243482,1757.9125013077733,3188.735345442753,2297.218079071541,1340.0282981799583,1652.7484684056444,1812.375066253207,2813.090142046971,1845.5817915667828,2521.353131921459,1294.3253281212972,2500.3699718212847,2346.3850194568304,1974.5009130497867,2416.510672811867,1200.7661599779221,1357.5719350839308,1367.9149518029628,2660.639717253922,1817.719585074205,1749.1529064210001,2467.5337145610993,1851.4961165815748,1240.803037423048,2002.9818199970123,2244.9820835434402,2653.1664175372975,1241.4461850081225,1690.286096901753,2712.008779926118,1940.724381542417,1959.480972225258,1940.378360619453,2283.781560079271,2658.486489227869,2519.4970305575166,1958.2435713159628,2343.8613233773867,1994.5682460332034,1275.247163645919,3312.061715703502,1583.5386421673652,2036.5101191031254,1640.8464769847799,2293.5058763436555,1912.8377279194121,2167.334236210925,2847.509821139415,2676.6243794560623,2361.7020869434696,2210.216383528032,2025.2512752673354,3302.9805470241927,1944.807052323693,2640.621278531359,1790.773205698385,2075.334042769383,2578.31494581591,3264.156623357934,2512.617984165113,2939.2373350492744,2613.080645831318,2474.73433474604,1797.3306782982513,1813.3397876308186,1952.6263729632813,1699.713286504027,2694.7622696842554,2539.218342617969,3199.053915031359,2495.0499001307135,2701.344189414549,2661.5799915011066,1307.1675937893463,1209.5013077342685,2038.0446466745307,1929.7626643687374,1577.9214438146832,3297.982049126158,1924.4425926781662,1353.1676905101176,1813.9584880854661,1848.0810405158,2293.4814292132287,1556.022456597751,2706.3671344430095,1849.318441425095,2312.5840408190334,1682.4667762621648,1943.8667780765084,2296.0051252926723,2246.541058245273,2386.743470694493,1741.309138650985,3005.2803176230354,1433.3147867916496,2721.708649060076,1663.685738448897,3331.13988017888,1668.6842363469311,2499.4296975741,1459.296444789858,3282.318960716555,1754.1758514494609,2247.8029062849946,1196.3374682736821,1586.6810387014564,2421.8062973720116,1437.373010442499,2452.835347529108,1366.0344033085935,2320.081787666085,2318.8199396263626,2504.4526426025604,2650.964295250391,1242.7080330478443,2471.591938211949,1791.7379270759966,1736.3106407529513,2521.3775790518857,1884.9755214268343,2292.2440283039336,1324.711230693319,2322.902610407639,1421.437242501212,1904.4241539556033,1408.273403040626,1902.519158330807,2038.6877942596052,3065.6816547136877,1818.0167117363153,2562.3791778746236,2066.5255536217564,1564.4604776919869,2175.1535568505137,2269.058745916853,1269.3083915007003,2578.9580934009846,2949.234330845342,3042.2236927949234,1656.1635444714193,1850.55584233439,3133.926759574356,2230.2348222505952,1567.5784270956515,2695.726991061867,1390.4081923441158,2172.951434563607,1750.7118811228324,3102.6494770160025,2010.2068873123796,2964.9218663853717,2728.9092692450167,2249.3374338564,2363.928656360803,1997.3646216443306,2184.5318521919344,3295.4339059162876,2718.8878263185215,1654.0103164453662,1711.887957456575,1454.9166473464716,2459.071246336437,2187.055548271378,2200.8136410561847,2984.618731315398,1360.071184032948,2652.8448437447605,1320.95013370458,2568.0208233577314,3251.017231027776,2303.4784250092966,2315.7019902226984,2239.018864267795,3230.3311975897113,1242.3620121248803,1953.220626287502,2183.6160250751764,1859.3398843515897,1854.9600869082035,2216.155155673251,1869.6584539401952,2207.0739869939407,1695.3090419302139,3201.528716849949,1695.3334890606407,1319.0695852102106,1794.534302687124,1875.2756522928767,3210.6343326596852,1736.3350878833778,2480.0544064366113,1752.5679824867752,2183.6160250751764,2025.5484019294458,1758.8527755549578,1255.2287249233561,1262.7020246399804,2204.2531642523863,2336.6851503228727,1180.3772532019686,3141.1518268897225,1960.1241198103323,2603.702350489898,2976.1807102211624,1568.2215746807258,2633.099084553881,1261.7617503927956,1369.7710531669054,1884.6783947647239,1829.5971293646426,2466.915014106452,2333.5672009192085,2199.57624014689,1547.8815621656258,2209.276109280848,2489.4571489084587,2652.2261432901128,1204.7999364983448,1668.3871096848206,3049.1027391873267,1439.278006067295,1954.7796009893343,2654.7009451087033,1220.4874720383748,1771.0518936379324,1851.8176903741119,1836.5006228874727,3107.6235277836095,1794.8314293492344,2293.778555875339,1934.118014681697,1779.8359356551323,1946.0444532329882,3355.265436813146,2058.111979657947,2049.9710852258218,3258.5149778748264,2524.19840179344,2343.8857705078135,2918.5757487416367,1685.9307465887932,1195.1245144948139,1672.766907128207,2481.6133811384434,2278.4614883886998,1183.51964973606,1758.8527755549578,2322.902610407639,2917.635474494452,3194.352543795435,3294.493631669103,1927.8821158743679,2603.3563295669337,1726.6107716189936,1589.2047347809003,1895.9372386005139,1930.4058119538117,2801.806851080754,1422.0559429558596,1374.4724244028293,2427.126369062583,2486.2903052439406,2384.565795538014,2817.7915132828944,1249.5870794402479,1898.1638080178473,2955.8162505756354,1850.55584233439,1262.4293451082967,2273.462990490666,2038.712241390032,2687.240075706778,3100.1502280669856,2093.471932997576,1295.9087499535563,2587.4205616256468,2858.174411650984,2350.4432431076793,2379.5428505095524,1901.9004578761594,1920.705942819854,3325.819808488309,2333.888774711745,2455.9532969327724,3132.6649115346336,3155.20704633664,1554.463481895919,2616.8172956896306,1307.7862942439938,2800.8910239639963,1344.0865218308074,1434.2550610388344,3330.5211797242328,1750.0687335377581,2658.7591687595523,2461.8920690779914,1932.9050609028286,1727.2539192040679,2095.9711819465933,2186.13972115462,1323.4249355231702,2709.187957184564,3224.392425444493,1843.9983697345237,1596.4053549658408,2225.855024807209,1377.911947599031,1234.8398181474026,2035.2482710634033,1729.4315943605477,1792.3321804002173,2530.4343006007693,2677.564653703247,3064.1471271422824,2326.985281188915,1875.6216732158405,3190.591446806696,2673.5064300523977,2514.795659321593,2082.831789616434,3025.298756345598,2556.1188319368675,2395.527512711693,1356.9532346292833,2704.140565025676,2981.7979085738434,2592.740633316218,2393.646964217324,1232.3650163288123,2641.5859999089707,1855.2816607007408,1758.8772226853846,1711.5908307944646,1291.182931587206,2679.42075506719,2679.7667759901533,2284.721834326456,2016.1456594575984,3155.2314934670667,1848.0565933853732,2255.597779794156,2172.6543079014964,1182.257801696338,2975.2404359739776,2672.88772959775,1592.0255575224542,2203.337337135629,2978.3828325080685,2546.7160894650196,3310.79986766378,1207.9423330324362,2338.5656988172423,1593.881658886397,3264.799770943009,3285.43691012022,1875.3000994233034,3149.589847983959,1579.8264394394796,1841.7962474476171,2437.147811989078,2525.7329293648454,1941.640208659175,2025.5239547990188,2040.5927898844013,2846.2724202301197,1673.0640337903174,2277.8427879340525,1359.4524835783004,1879.0367492816156,3210.3372059975754,1767.3152437796205,1649.92764566409,1214.5242527627292,2854.116188000135,1278.9838135042312,2232.7829654604657,1720.053299019127,1335.029800281924,2990.5575034606163,3335.19810382973,2203.312890005202,1975.1685077652878,2203.312890005202,1552.2369124785853,2581.4817894804282,2680.979729769022,2373.2825045717964,2646.906071599542,1934.7856093971982,2652.8448437447605,1752.8895562793123,2032.130321659739,2516.379081153852,2944.5818538702724,3030.940401828707,2611.4972239990593,1228.5794722096466,2531.6717015100644,2318.8443867567894,3164.312662146377,3196.5302189519143,2995.2588746965403,1847.4378929307254,1741.9278391056328,2426.2105419458253,1201.3604133021431,1857.7809096497576,1735.3948136361932,2378.3054496002574,1310.3099903234377,3217.5378261825163,1679.3488268585002,1905.9586815270088,3354.3251625659614,3053.8041104232498,1827.0978804156257,2643.7392279350233,2303.205745477613,1915.0642973367455,1892.2005887422017,1268.3681172535157,3330.8183063863435,1340.0282981799583,2071.8945195731812,2366.7250319719305,1307.1675937893463,1394.5153102558188,2322.2594628225643,2688.180349953963,1425.1738923595242,2539.8125959421895,1164.7386119227922,1893.1408629893865,1838.6538509135257,2262.7983999790968,2009.5637397273053,3227.8319486406945,1994.5682460332034,2032.7245749839597,2049.352384771174,1954.5069214576506,2822.468437388391,1354.1079647573024,1389.4679180969313,3203.755286267282,2501.0131194063592,3106.4105740047416,2403.049706689171,1713.4469321584074,2963.041317891003,1323.1278088610597,2233.6987925772237,2590.241384367201,2890.4164155869485,2340.1246735190743,1956.3630228215934,1693.131366773734,1229.222619794721,1438.931985144331,3210.931459321796,3230.009623797174,1950.745824468912,1220.4385777775212,1907.863677151805,2539.5399164105065,2542.3362920216337,3014.361486302345,2375.8306477816677,2538.2780683707842,1934.118014681697,2190.841092390544,2241.8152398789225,1328.7450072137415,1769.4929189361003,1680.9322486907595,2008.6234654801206,1570.7208236297429,2676.9459532485994,2678.504927950432,2168.27451045811,2422.152318294976,1220.7601515700585,2039.6525156372168,1742.5954338211338,1906.5773819816563,2613.6993462859655,2857.209690273373,1663.3641646563597,1415.1524494330292,1273.9853156061972,2214.6206281018453,3257.5747036276416,2938.618634594626,1722.8741217606814,1746.9507841340935,1350.3713148989902,2671.2798606350643,1846.4731715531138,1786.3934082549986,1650.843472780848,1700.9262402828954,1667.4712825680626,3298.922323373343,2512.9151108272235,1311.2258174401954,1638.6688018283003,1715.3274806527768,2685.6811010049455,1442.6930821330702,2620.602839808796,1795.1774502721983,2476.6148832404097,1916.277251115614,1761.352024503975,2428.734238025269,2173.273008356144,2489.4571489084587,1409.510803949921,1736.9537883380253,1980.4641323254323,1797.6522520907884,1373.235023493534,1967.6218666573832,2370.189002298559,1191.363417506075,1610.4605744127584,1932.8806137724018,1876.5375003325985,3315.476791769277,2383.9715422137924,2669.745333063659,1438.3377318201105,1455.8569215936564,1207.0020587852514,1915.3858711292828,2370.164555168132,3039.427317183796,1246.7662566986937,3340.8641964432645,2965.2189930474824,1304.0496443856816,1936.6661578915678,1933.202187564939,2047.1502624842676,1226.698923715277,2042.7460179104544,1762.910999205807,3050.0430134345115,2535.7543722913406,2993.056752409633,3155.20704633664,2368.3084538041894,3240.3526405162065,1803.9125980285444,3009.660115066422,2710.746931886396,1345.3483698705295,2735.4911889753093,1687.465274160199,2868.4929812395894,1323.1522559914868,2276.28381323222,1232.3405691983855,1412.9503271461226,1885.6186690119087,2383.6255212908286,2298.504374241689,1878.0964750344308,2522.912106623291,3202.815012020097,2719.1849529806323,1858.078036311868,2171.0953331996643,1427.6731413085413,1790.1300581133107,2423.711292996808,1853.6982388684814,1849.9371418797425,2364.5473568154503,3071.942000651444,3354.9438630206096,1634.2890043849138,2385.827643577735,2334.7801546980763,2964.9218663853717,2417.1049261360886,2285.340534781103,3038.4625958061843,1934.118014681697,2552.3577349481284,3068.502477455242,2887.892719507505,2265.9652436436145,1562.9015029901545,2645.298202636856,1415.4495760951397,1202.300687549328,3185.890075570772,1604.8678231905035,2292.541154966044,2409.631626419464,2632.5048312296603,2197.7201387829473,1821.456234932517,2639.3838776220637,2383.006820836181,1986.1057778085408,1788.2739567493682,1748.5342059663526,1287.1491550667834,2153.5516962956917,2293.1843025511184,3272.5946444521705,1834.892753924787,3324.8550871106972,1851.5205637120016,2606.523173231452,1817.9922646058885,1463.057541778597,1633.6458567998393,3116.432016931236,1311.8445178948432,1322.1875346138752,2947.9969299360473,1304.6683448403292,2501.3346931988963,1352.54899005547,2273.4385433602392,1688.4055484073835,3301.7186989844704,2080.30809353699,2271.5824419962964,3292.0188298505127,1626.1236628223614,1591.4068570678069,2579.8983676481694,2698.5233666729946,3282.6160873786657,1706.889459558541,2686.0026747974825,2337.6254245700575,1261.4890708611122,2416.213546149757,1668.0899830227104,2388.970040111827,2437.172259119505,2948.961651313659,1936.6417107611408,3014.6586129644556,2712.008779926118,2711.6872061335807,2078.451992173047,2578.660966738874,1651.7837470280326,1425.1738923595242,1828.9784289099948,1275.247163645919,3069.145625040316,1694.368767683029,2897.6170357718893,2324.7831589020084,3056.006232710157,2684.7408267577607,3230.0340709276006,1798.2953996758629,2594.942755603125,2733.6106404809398,1731.9308433095648,3099.185506689374,1884.3812681026136,1947.30630127271,2939.534461711384,2566.4374015254725,1838.3811713818423,1601.4038528638748,2462.807896194749,1387.6118167329887,2703.2491850393453,1288.7081297686157,3306.07404929743,2241.1965394242748,2496.930448625083,2698.5233666729946,2269.9990201640376,1987.664752510373,2046.209988237083,2424.3299934514557,2468.1524150157475,1441.7772550163122,2403.9899809363556,1637.085379996041,2827.515829547279,2185.818147362083,1802.032049534175,2526.0789502878097,1380.4356436784747,2416.4862256814404,1764.4944210380663,3186.50877602542,2434.9701368325977,1783.8697121755547,2329.7816568000426,1644.3104473114086,1564.4849248224136,2411.190601121296,1611.4252957903698,2908.875879607679,1338.469323478126,3031.8806760758907,1969.2052884896425,2599.2981059160848,2078.1304183805105,2483.1723558402764,1591.6795365994903,2647.5003249237625,2352.6453653945864,1971.0858369840118,1320.3314332499324,2704.48658594864,1598.6074772527475,1884.6783947647239,1180.7232741249327,1949.459529298763,3319.535015420127,2239.340438060332,1939.486980633122,1266.165994966609,1915.9801244535035,2563.913705446029,2531.6717015100644,2006.767364116178,1854.6385131156662,1171.2960845226585,2570.495625176322,1573.2200725787598,1936.6661578915678,1202.300687549328,2262.4768261865593,1427.0544408538935,2630.8969622669747,3054.1256842157873,2566.1402748633623,2076.2743170165677,1694.6903414755664,2667.221636984215,1785.750260669924,2173.891708810792,2215.2148814260663,2887.9171666379316,2483.469482502386,2799.9507497168115,1232.9837167834598,1990.4611281215005,3261.3602477468075,2434.945689702171,1207.0020587852514,1820.813087347443,2721.0655014750014,2852.5572132983025,2396.1706602967674,2627.1603124086623,1692.5126663190865,2630.2782618123265,1851.1989899194646,2516.379081153852,1794.8314293492344,1948.2465755198948,2457.809398296715,1188.839721426631,1374.1752977407189,2853.151466622523,2886.036618143562,1195.7187678190346,2542.9549924762814,1596.7024816279513,1635.847979086746,1450.2397232409749,2592.740633316218,2388.970040111827,1369.7710531669054,2301.9194503074646,1248.9439318551736,2591.181658614386,1915.3858711292828,1752.8895562793123,3334.282276712972,2453.1080270607913,2293.1598554206917,2944.235832947308,1408.2489559101991,1673.3856075828548,1665.5907340736933,1893.759563444034,2212.4185058149387,3074.4412496004607,1887.7963441683885,1554.1419081033816,2655.9627931484247,1438.931985144331,1917.2419724932254,1201.9791137567906,1449.2750018633633,2717.3288516166895,2630.3027089427537,3223.1550245351973,2100.375426520406,1982.9878284048762,2253.741678430213,1739.1559106249322,3142.3647806685913,2950.1746050925267,3013.7427858476976,1777.930940030336,3321.76158483746,2268.440045462205,1981.0828327800798,2693.500421644534,2997.4609969834464,1435.4924619481294,2370.8077027532063,1303.7036234627176,1944.1639047386186,1295.5871761610192,1694.6903414755664,1785.750260669924,2342.9454962606287,1565.0791781466344,2697.9046662183473,2921.0994448210804,2702.5815903238436,2166.715535756278,2608.3792745953947,1957.9464446538525,1748.5097588359258,2715.74542978443,2166.715535756278,2034.6295706087558,1980.7857061179695,1989.2237272122052,3144.5669029554974,2428.734238025269,2236.8167419808883,1235.8045395250142,1986.748925393615,1804.5312984831921,1689.6918435775322,2455.013022685588,1253.0266026364495,3226.570100600972,1206.7049321231411,1330.3528761764273,3120.1442196591215,1740.0472906112632,1189.4828690117056,2985.5590055625826,2301.646770775781,2390.850588606196,2672.88772959775,1914.7182764137817,2430.911913181749,2675.6841052088776,2447.7879553702205,2275.021965192498,2383.3039474982916,1886.8560699212037,3246.6129864539616,2598.0607050067892,2835.01357639433,1998.9235963461629,1611.1281691282593,1811.137665343912,1949.1868497670794,2591.800359069033,1973.906659725566,1781.0733365644273,2176.736978682773,2248.7431805321794,1983.3094021974134,1722.2065270451803,3315.476791769277,2295.386424838025,1843.6767959419867,1690.0134173700694,1937.6064321387523,1233.2808434455703,2317.5825387170676,2835.6322768489777,1235.5074128629037,1304.0496443856816,2701.987336999623,2288.1858046530842,3254.13518043144,2886.036618143562,3103.5653041327605,1720.3748728116643,1437.0758837803885,1855.5543402324242,3016.2664819271413,2183.3188984130657,2262.204146654876,2600.559953955806,1859.9585848062375,1773.2540159248392,2288.1858046530842,2040.5438956235478,2229.6161217959475,3281.7002602619077,3165.871636848209,1625.1833885751767,2701.3686365449757,1917.8851200783,2667.518763646325,3056.624933164804,1359.7496102404107,2036.8316928956626,1169.7615569512532,1904.7212806177135,2578.31494581591,1814.874315202224,2264.0846951492454,1599.8448781620427,1570.7452707601697,2268.440045462205,1736.3350878833778,2196.7798645357625,2822.1713107262813,2485.99317858183,1970.7887103219014,2273.7601171527763,1381.994618380307,1406.0712807537193,2339.8030997265373,1434.2550610388344,3272.00039112795,1979.5483052086745,1545.3823132166085,1307.7862942439938,2714.8296026676726,3126.4290127273043,1968.2650142424577,2953.3414487570453,2610.5569497518745,2172.0111603164223,1261.4890708611122,1701.2478140754324,2246.2194844527357,2172.3327341089594,2677.564653703247,2002.0659928802543,1877.50222171021,1881.5604453610595,2689.442197993684,1283.9823114022652,1751.6521553700172,3050.6861610195856,2097.233029986315,1882.7978462703545,1203.5625355890497,1814.8987623326507,1825.8604795063304,3319.8810363430903,1994.2222251102392,1744.748661847187,2620.602839808796,3043.7826674967555,2196.7798645357625,1828.0137075323833,1664.3044389035445,2057.7904058654103,2619.0438651069635,1279.9485348818428,1976.7030353366933,2565.7942539403984,1329.3881547988158,3238.1749653597262,1561.6396549504325,1212.619257137933,2439.9930818610587,1286.2088808195986,1665.5662869432663,1789.8329314512002,1762.58942541327,2994.3186004493555,3173.3938308256875,1270.5213452795688,1757.590927515236,2465.0100184816556,3018.765730876158,2818.7073403996524,2653.439097068981,1305.608619087514,1662.423890409175,1738.488315909431,2620.5783926783693,1938.8193859176206,1308.107868036531,2482.5292082552014,1686.549447043441,2224.6176238979133,2252.182703728381,2305.061846841556,1618.3287893132,1283.3636109476176,2097.5546037788527,1763.8512734529918,1236.1261133175512,2337.30385077752,2380.1859980946274,2572.0790470085813,2460.308647245732,2259.383323913322,2221.7968011563594,3119.8715401274385,1630.825034058285,1408.8921034952734,1792.0350537381069,2514.4740855290556,1177.259303798304,3104.5055783799453,3134.545460029003,2259.0373029903576,1931.0245124084593,1411.4157995747173,3129.8929830539328,3092.949607882045,1731.312142854917,2540.7528701893743,1954.7796009893343,1891.8790149496645,1315.9516358065462,1728.491320113363,2604.915304268766,1728.1941934512524,2386.124770239846,2005.5299632068827,1197.623763443831,1468.0804868070577,1813.934040955039,1921.597322806185,2400.228883947617,1362.5948801123918,2866.3153060831096,3293.280677890234,2724.52947180163,2623.1020887578134,1984.5223559762815,3212.8120078161655,2465.9502927288404,1929.465537706627,3072.2635744439804,1547.5599883730883,2398.645462115358,1370.7113274140902,1760.7088769189004,1647.428396715073,2390.529014813659,1900.9601836289746,1932.5590399798648,2341.064947766259,1635.5019581637819,2107.25447291281,1289.3268302232632,1719.7317252265898,1410.1539515349955,2007.0644907782882,2257.5027754189523,1391.0757870596171,2335.1261756210406,1246.4446829061565,2045.5912877824353,2684.7408267577607,2389.5642934360476,2543.5736929309287,2350.4432431076793,1971.3829636461223,1690.3105440321797,1445.538352005051,2943.9142591547707,1829.9187031571796,1889.7013397931846,1778.5740876154105,3192.4719953010654,3064.741380466503,1951.6616515856697,2190.1979448054694,1708.7455609224835,1338.1477496855887,1673.0884809207441,2648.11902537841,1195.7187678190346,2383.3039474982916,2315.4048635605877,1684.9904723416084,1264.5825731343498,1728.466872982936,1886.5589432590934,2389.8858672285846,1291.850526302707,2876.6338756717146,2341.0405006358324,2958.3154995246523,1400.751209063148,1618.6259159753104,1323.4249355231702,1216.9990545813193,1381.0298970026956,1946.0444532329882,1241.7677588006595,1795.7961507268458,2364.5229096850235,3254.1596275618667,1383.8751668746763,2046.8286886917306,2048.0905367314526,3030.3217013740586,1708.4484342603732,3307.9545977917996,2002.3631195423648,2616.5446161579466,2576.434397321541,2216.798303258325,2714.8296026676726,2487.5766004140896,1969.2052884896425,2226.7952990543936,1372.5918759084598,3191.5317210538806,1258.9653747816683,2414.630124317498,2685.6811010049455,1188.839721426631,1364.4509814763342,2460.308647245732,2714.1864550825976,3024.0858025667294,1460.2367190370428,2593.656460432976,2403.6439600133917,1798.270952545436,2506.9763386820046,2948.021377066474,2319.4630872114376,3117.6694178405314,2298.1828004491526,1297.764851317499,2864.1376309266298,2291.0066273946386,2364.225783022913,1863.422555132866,2266.2379231752984,1551.3210853618275,2515.4143597762404,3107.9695487065737,2518.5567563103314,1356.6072137063193,1695.0119152681036,2298.1828004491526,2226.8197461848204,2887.9171666379316,2500.3699718212847,2182.057050373344,1393.8966098011715,1784.512859760629,3074.4412496004607,3325.522681826199,2032.1058745293121,2401.787858649449,2487.2305794911254,2604.915304268766,2350.764816900217,2013.9679843011186,2702.606037454271,1354.7511123423767,3287.020331952478,2174.2377297337557,2198.3388392375946,1975.7627610895088,2469.414263055469,1547.5599883730883,1669.3518310624322,1824.2526105436446,2238.103037151037,2704.48658594864,2403.346833351281,1951.3400777931324,2993.3783262021707,2182.354177035454,2392.0879895154912,1843.973922604097,2971.157765192701,2968.3369424511466,2866.90955940733,3051.304861474233,2481.5889340080166,2570.5200723067487,1996.7703683201098,2003.922094244197,3076.9649456799043,3050.364587227048,2515.438806906667,1901.2817574215119,2578.9580934009846,1352.8461167175806,1613.6274180772764,1472.7574109125544,1722.2065270451803,1956.981723276241,1840.8559732004323,1386.6959896162307,3097.3294053254313,2330.1032305925796,2086.91446039771,2199.57624014689,2690.382472240869,2204.2776113828136,1941.3430819970645,1968.562140904568,2851.8896185828016,3035.6662201950567,1910.362926100822,3256.9560031729943,2214.5961809714186,2578.9580934009846,3284.793762535145,2707.2829615597675,1421.437242501212,1933.5237613574761,2373.2825045717964,1328.7450072137415,3097.9236586496518,2938.9402083871637,3230.652771382248,2361.7265340738963,1727.2539192040679,2975.562009766514,3192.793569093603,2697.6075395562366,1272.1047671118276,2913.8988246361396,1573.8387730334075,1205.7646578759563,2071.5729457806437,2168.8932109127577,2643.144974610803,1686.5249999130142,2954.2572758738033,2412.452449161018,2871.016677319033,2934.2388371512397,2477.2335836950574,2308.5013700377576,2202.421510018871,3092.00933363486,2389.5887405664744,3307.014323544615,1346.9073445723616,2507.9166129291893,1566.3410261863564,1558.4972584163413,1243.0051597099546,1799.532800585158,1787.9768300872577,1915.9801244535035,3177.4276073461097,2047.7689629389151,2701.0470627524383,1966.3844657480881,2430.293212727101,2548.9182117519267,2613.080645831318,2194.899316041393,1237.6850880193836,1700.3075398282479,3170.2514342915956,2524.1739546630133,2672.5417086747866,2028.6663513331102,2075.9282960936034,3008.744287949664,1995.8300940729252,3303.59924747884,2316.96383826242,1849.6155680872052,1461.4985670767646,3283.8534882879603,1680.2646539752582,2282.544159169976,2293.778555875339,2221.4752273638223,2547.3592370500946,2703.546311701455,1280.5672353364903,1973.5606388026022,1948.543702182005,1885.9157956740191,2853.7946142075975,2019.9312035767641,2486.636326166905,1969.1808413592155,3296.3741801634724,1834.6200743931033,1934.7856093971982,2822.1713107262813,2950.8421998080275,1554.785055688456,1274.9500369838088,2542.9549924762814,1749.1529064210001,1152.8366205019279,1564.757604354097,2369.2242809209474,1807.352121224746,2548.9182117519267,1835.8330281719716,1743.5357080683186,1824.2770576740713,2581.7789161425385,2502.8936679007284,2314.7861631059404,3044.7229417439403,2615.9014685728725,3330.496732593806,2383.6499684212554,2001.768866218144,1952.9234996253917,2643.144974610803,1357.2503612913938,2202.6941895505543,2469.0926892629323,1365.391255723519,2838.1559729284213,1588.5860343262525,2458.774119674327,1629.241612226026,1182.603822619302,2085.3310385654504,1869.361327278085,2529.815600146122,2712.6030332503387,2378.3054496002574,2952.0551535868963,1561.0209544957852,2582.0760428046488,1417.9732721745836,3101.7092027688177,2596.501730304957,3238.1749653597262,2569.5553509291367,2395.527512711693,1443.0146559256073,2230.8779698356693,2549.5124650761472,2063.407604218092,2518.5323091799046,2580.5415152332434,2429.971638934564,1251.740307466301,1990.8071490444643,2305.358973503666,1901.9004578761594,1439.2535589368683,2459.6899467910844,3009.0414146117737,2637.503329127694,2238.3757166827204,1391.3484665913006,3038.4625958061843,1373.5077030252178,1449.29944899379,2588.9550891970525,2633.4206583464183,1867.4807787837153,1651.4866203659221,1833.9524796776022,2293.1598554206917,2237.162762903852,2469.0926892629323,2531.374574847954,3053.50698376114,2521.3775790518857,1826.4547328305512,1717.2080291471461,2484.7557776725353,2683.5278729788924,1934.1424618121239,2025.2268281369086,1455.8569215936564,1896.604833316015,2375.5090739891302,2540.480190657691,1729.1100205680104,1534.099022250392,2077.2145912637525,3008.744287949664,1865.6002302893457,1660.2462152526953,2484.409756749571,2422.4249978266594,3332.72330201114,2598.65495833101,2398.3483354532473,1726.313644956883,1721.6122737209594,3297.6604753336205,2509.4511405005946,2537.016220331062,2411.5121749138334,2697.929113348774,1670.2676581791902,2985.237431770045,2644.3579283896706,1621.7683125094018,1282.7449104929701,2552.679308740666,1669.0058101394684,1455.5597949315459,1890.6171669099426,2661.6044386315334,1692.5126663190865,1685.312046134146,2651.5585485746115,1730.6689952698428,2624.6610634596454,2588.0392620802945,3147.090599034941,1344.7541165463085,1221.4032991551326,1729.407147230121,2600.559953955806,1723.7899488774392,1347.2533654953256,2198.9575396922423,1977.0490562596574,2495.9901743778983,1968.5865880349947,1864.6355089117342,1920.6814956894273,2326.960834058488,1640.5493503226694,1353.1676905101176,2591.800359069033,3293.8993783448823,1677.4438312337038,3152.3862235950864,1721.315147058849,1304.3467710477921,2384.2442217454764,1725.9920711643458,2255.6222269245827,1639.930649868022,1924.4181455477392,3331.4370068409908,1583.2659626356815,1885.9157956740191,1956.3874699520202,2003.0307142578658,1242.386459255307,2472.532212459134,1334.4110998272765,2927.038216966299,3275.4399143241517,1254.2640035457448,1738.834336832395,2962.0765965133915,2616.1985952349823,3205.932961423762,2874.7777743077722,2027.7505242163525,1958.2435713159628,2212.4185058149387,1281.507509583675,1925.358419794924,3106.089000212204,1705.9491853113561,3087.9266628535843,1790.7976528288118,2224.2960501053763,2668.186358361827,2458.4525458817893,1829.8942560267528,2634.0393588010656,2469.0926892629323,2535.432798498803,1551.9642329469018,1299.9914207348324,3297.314454410657,3230.0340709276006,1556.9627308449358,2722.0302228526125,1726.313644956883,3192.769121963176,2816.8756861661363,2229.9376955884845,1670.2676581791902,1759.4959231400321,1864.3628293800507,2694.4406958917184,1883.416546725002,1890.93874070248,1215.464527009914,1303.109370138497,1884.0352471796496,3305.4797959732095,3036.260473519277,1461.8201408693017,1301.5259483062378,1965.4197443704766,1311.8445178948432,2195.815143158151,2939.261782179701,2802.7715724583654,2387.0650444870307,2663.460539995476,1247.3605100229142,3119.8715401274385,2459.095693466864,2696.667265309052,2704.1894592865297,2101.3157007675914,1978.9051576236,2961.4578960587432,1381.0298970026956,1376.674546689736,2937.999934139979,2357.9654370851576,1450.2397232409749,2083.1289162785442,3060.3860301535433,1369.7710531669054,2322.308357083418,1250.8489274799697,1651.165046573385,1233.0081639138866,1302.4906696838493,2392.0635423850645,1191.9576708302957,1553.8447814412712,1928.1792425364783,3178.0707549311837,1571.0179502918531,1291.182931587206,3070.061452157074,2879.4791455436957,1874.0626985140084,1459.9395923749325,3166.1932106407467,3043.485540834645,1750.0931806681847,2592.740633316218,2480.0544064366113,1867.1347578607513,2705.4268601958247,1854.9356397777765,1269.6055181628108,3308.276171584336,1827.0978804156257,2895.439360615409,1430.791090712206,2549.215338414037,2628.100586655847,2699.1665142580687,1542.5370433446278,2078.749118835158,2189.554797220395,2454.3698751005136,3292.9346569672707,2187.055548271378,1682.1452024696275,1403.596478935129,2637.8249029202316,2359.8215384491,3217.8105057141993,1757.9369484382,1419.853820668953,1709.388708507558,1428.613415555726,1961.980221174275,3005.2803176230354,2485.0284572042183,1225.461522805982,1273.6881889440867,1341.9332938047544,2676.5999323256356,1626.1236628223614,2633.7422321389554,1738.8098897019681,3035.0475197404094,1174.4384810567499,1791.0703323604953,1896.5803861855882,2483.469482502386,2897.295461979352,3217.2162523899788,2313.4998679357914,1299.9914207348324,1364.1294076837971,2564.5813001615297,2930.799313955038,2385.184495992661,1680.9322486907595,2620.281266016259,1696.546442839509,2515.735933568778,1550.9995115692905,1296.8245770703143,2489.4571489084587,3069.7887726253903,2901.3781327606284,2619.9596922237215,2025.2512752673354,3197.1733665369893,1254.5855773382818,1952.6263729632813,2568.0208233577314,1553.4987605183073,2046.209988237083,3277.914716142742,2975.215988843551,1280.5672353364903,1997.6861954368678,2781.1452647731167,3121.4305148292706,2814.995137671767,2605.8555785159506,2882.2755211548233,2526.054503157383,1162.2393629737753,1577.9214438146832,2490.0514022326797,1438.0161580275733,1738.1911892473204,1696.5708899699357,1309.0481422837156,1170.0586836133634,1847.1407662686152,2221.499674494249,1692.1910925265493,1924.121018885629,2833.430154562071,2495.9901743778983,1399.8109348159633,1950.745824468912,1197.277742520867,1623.327287211234,2975.2404359739776,2704.7837126107506,1242.7080330478443,1780.1330623172425,1465.2596640655036,2301.9438974378913,1669.3273839320054,2893.8314916527233,1815.1958889947612,1741.6551595739493,2701.987336999623,2024.9052543443713,1877.8237955027473,2701.665763207086,1259.2869485742056,1604.2246756054292,1889.676892662758,3002.1623682193704,2243.7202355037184,1629.563186018563,1964.801043915829,3193.7338433407876,2558.3209542237737,2474.412760953503,2954.57884966634,3310.775420533354,3177.749181138647,1442.6930821330702,1712.5066579112224,1374.4724244028293,1237.0419404343093,2856.912563611262,1874.0382513835816,2450.014524787554,2722.327349514723,1720.3748728116643,1389.5168123577848,2527.6379249896418,2354.2043400964185,2251.2424294811963,1389.1952385652476,2920.4562972360063,1279.6025139588787,2395.205938919156,1216.0832274645616,1178.4967047075993,2964.897419254945,1981.7259803651543,2369.5703018439112,1396.0498378272243,1269.2839443702735,1940.724381542417,2393.6714113477506,1741.0120119888747,2574.2567221650606,2559.2612284709585,2655.3196455633506,1191.9821179607225,3305.1337750502453,2444.694453096982,1290.267104470448,1314.689787766824,2651.5585485746115,1237.6850880193836,2280.3175897526426,2440.933356108244,2319.1415134189,2317.2609649245305,1977.667756714305,2402.7525800270605,2471.2948115498384,2593.0622071087555,3281.675813131481,1812.6721929153173,1585.1465111300508,2013.9679843011186,1192.279244622833,1203.85966225116,2814.6735638792297,2814.0548634245824,2643.76367506545,1589.798988105121,1899.0796351346053,1695.3334890606407,2328.2226820982105,1762.9354463362338,2321.0220619132697,1685.5847256658294,2167.334236210925,3198.113640784173,2304.443146386908,2293.5058763436555,3166.1932106407467,2423.711292996808,2514.4985326594824,2249.683454779364,1888.761065546,2341.6836482209064,1932.5590399798648,2507.2979124745416,1882.7978462703545,2201.456788641259,1443.9793773032188,3031.28642275167,1744.1299613925394,1614.567692324461,2031.7843007367749,1788.2739567493682,3326.438508942957,1732.2524171021018,1288.4110031065052,2716.3885773695047,1397.9548334520205,2518.210735387368,1460.879866622117,1199.4798648077735,2652.8203966143337,1853.079538413834,1852.1392641666491,1169.7371098208262,2064.6938993882404,1756.3535266059407,2254.657505546971,2511.6532627875013,2483.493929632813,1869.0397534855474,1746.3076365490192,3198.410767446284,1886.8805170516305,2599.3225530465115,3245.6727122067778,2002.3875666727915,2384.8629222001236,2253.444551768103,1698.7730122568423,2106.635772458162,2649.9995738727794,1844.9386439817085,2955.494676783098,1312.8092392724548,1392.2887408384854,1208.882607279621,1405.1554536369613,1823.3123362964598,1417.9977193050104,2443.432605057261,1444.5980777578663,3248.517982078758,2165.453687716556,1203.538088458623,1855.2572135703138,2245.922357790625,1364.153854814224,2023.9649800971865,2388.005318734215,2533.552250004434,3315.8228126922413,1880.595723983448,2393.944090879434,1677.1467045715935,1274.2824422683075,2437.469385781615,1246.147556244046,2467.83084122321,2443.432605057261,1996.1272207350355,1335.6485007365718,2281.5794377923644,1905.6371077344716,2338.5656988172423,1420.769647785711,3201.2315901878383,3219.393927546458,1740.7148853267645,1971.3829636461223,2567.6748024347676,1395.1095635800398,3210.3127588671487,1945.4013056479137,1820.8375344778697,3056.006232710157,2971.503786115665,2285.018960988566,2563.319452121808,2818.7073403996524,1741.9278391056328,1731.312142854917,2230.5563960431323,2496.6577690933996,2718.269125863874,2307.2639691284626,2969.6232376212956,2992.78407287795,1899.7227827196796,2674.4222571691557,2456.2748707253095,2077.5117179258627,2032.451895452276,2287.2455304058994,1948.8408288441155,1589.2047347809003,2618.697844184,1794.8558764796612,3113.586747059255,2046.5071148991933,3060.0889034914326,2559.5339080026424,1784.8344335531663,2370.164555168132,2597.714684083825,1334.0650789043125,2304.7402730490185,1208.882607279621,2242.755514126107,2085.9741861505254,2909.816153854864,1248.0281047384155,1685.6091727962562,2466.915014106452,1387.6362638634155,3276.034167648372,1858.7211838969424,1203.2409617965125,1350.049741106453,1257.406400079836,2251.2179823507695,1815.1958889947612,2945.176107194493,2961.1607693966334,2113.836392643103,1687.8112950831628,1925.0612931328137,1439.8722593915159,2012.0874358067492,2824.0518592206504,1253.0021555060227,1969.8484360747168,1405.1554536369613,1399.83538194639,1450.2397232409749,3219.3694804160314,3170.573008084133,1604.2246756054292,1915.0642973367455,1234.8642652778294,1910.684499893359,2514.176958866945,2180.4980756715117,2681.920004016207,1743.5357080683186,1895.9616857309406,1992.984824200944,2649.0592996255946,2545.4542414252983,3291.054108472901,1846.1760448910036,2694.786716814682,3156.468894376362,3013.445659185587,1695.9277423848612,2923.252672847134,1987.0460520557253,1917.8606729478731,2379.245723847442,3187.7706240651414,2722.6489233072602,1703.4254892319123,1176.021902889009,1998.3048958915153,1230.484467834443,2342.9454962606287,2213.0616534000133,1691.5723920719015,1684.0501980944239,1830.2402769497169,1231.4247420816275,2959.280220902264,2230.5563960431323,1820.8375344778697,1910.6600527629325,1568.5187013428363,1885.6186690119087,1475.899807446646,2568.9366504744894,3328.3190574373266,2509.1540138384844,3004.04291671374,1810.4945177588374,2296.945399539857,2830.955352743481,2093.471932997576,1422.674643410507,2897.3199091097786,1319.7127327952849,2852.2111923753387,2263.7631213567083,3118.609692087716,2793.987530441166,1194.184240247629,2030.84402648959,3221.5716027029384,1418.5919726292311,1763.257020128771,2039.6525156372168,1394.1937364632818,1706.5678857660037,1448.0131538236412,2852.5572132983025,1683.4314976397764,3292.9591040976975,2489.7298284401422,2373.925652156871,2028.9634779952205,2913.577250843603,2559.8554817951795,1583.8602159599022,2285.9836823661776,1878.0964750344308,3239.758387191985,1293.4095010045394,2410.547453536222,1868.0750321079358,1371.6271545308482,3095.1028359080974,2391.1232681378797,2902.2939598773864,2271.5824419962964,2598.0607050067892,1868.4210530308999,1720.0288518887005,1839.5941251607105,1256.4416787022246,1935.701436513956,2024.3110010201506,3272.916218244707,3210.6343326596852,3029.381427126874,1644.2860001809818,2527.0192245349945,1379.1737956387528,1904.6968334872868,1892.2005887422017,2709.806657639211,1447.4189004994205,2341.0405006358324,1365.7128295160562,2336.388023660762,2163.5731392221865,2099.1135784806847,3220.334201793643,2368.2840066737626,3200.9344635257276,2213.3587800621235,1196.3374682736821,2824.0518592206504,2371.7235298699643,2419.3070484229947,2542.3362920216337,2571.7574732160438,2511.9748365800388,1479.3393306428477,2490.991676479864,2626.8387386161253,2241.8396870093493,2979.620233417364,1996.7214740592563,1616.4482408188305,1750.4147544607222,1286.8031341438195,2611.2000973369486,1278.9838135042312,1316.2487624686564,2998.425718361059,2995.2588746965403,1378.5550951841053,1676.5524512473728,1370.7113274140902,2399.610183492969,2265.9652436436145,3047.5682116159214,1671.1834852959482,2502.274967446081,2626.5171648235882,1236.1016661871245,2508.535313383837,1431.43423829728,2247.481332492457,1227.9852188854259,2292.8382816281546,1300.9072478515905,2445.3131535516304,2653.1419704068708,1223.9269952345765,2675.0654047542303,1949.1868497670794,1796.117724519383,1365.391255723519,3306.07404929743,2434.029862585413,1378.5550951841053,2253.098530845139,2099.435152273222,2894.771765899908,2434.6730101704875,2016.4672332501357,1942.9265038293236,1964.5283643841456,1877.156200787246,1858.078036311868,1346.9073445723616,1795.1530031417715,1901.9004578761594,2913.577250843603,1546.2981403333665,3311.715694780538,2378.924150054905,2050.292659018359,3252.551758599181,3017.1823090438993,2448.728229617405,1452.0958246049172,3295.136779254177,2979.5957862869373,1432.671639206575,2909.519027192753,2025.2268281369086,2680.6826031069113,2107.576046705347,2309.466091415369,2690.0853455787587,3123.60818998575,1228.3067926779631,2529.815600146122,1652.4024474826801,1997.3646216443306,2970.5635118684804,1652.4513417435337,1382.9348926274918,1988.926600550095,1573.5660935017238,1433.3392339220763,2887.5711457149673,2357.9898842155844,2413.6898500703132,3281.675813131481,1880.9172977759852,1282.7449104929701,1656.8311391869202,1308.7265684911786,1816.4332899040564,1612.6871438300916,2829.371930911221,1899.0796351346053,2526.351629819493,1983.6065288595237,2484.4342038799978,1777.6582604986525,1744.7731089776137,2055.885410240614,2424.3299934514557,1675.8848565318717,1646.190995805778,2506.951891551578,1799.211226792621,1868.7426268234371,2061.551502854149,1832.739525898734,2278.7586150508105,1283.090931415934,3015.920461004177,2831.2524794055907,2561.0928827044745,3149.589847983959,1267.1062692137937,2830.6093318205167,1212.965278060897,1310.607116985548,2043.0920388334184,2701.344189414549,2662.544712878718,1349.728167313916,1727.5754929966051,1867.8023525762524,3309.8351462861683,1251.740307466301,2192.400067092376,2702.606037454271,1955.1011747818716,3162.110539859471,2347.028167041905,1774.194290172024,1977.9404362459884,3287.6145852766995,1869.336880147658,2442.7894574721863,2644.3579283896706,1348.1936397425104,1656.8311391869202,1905.6615548648983,3301.0755513993954,2334.507475166393,2804.652120952735,2577.6962453612623,1254.5855773382818,2219.0004255452322,2402.431006234523,2197.374117859983,2187.6742487260253,2594.6211818105876,1433.3147867916496,1185.7217720229667,2159.8120422334478,1752.2708558246645,1464.2949426878922,2541.3960177744484,1292.7908005498919,2302.859724554649,1642.429898817039,2636.2414810879727,1306.846019996809,2562.0331569516593,1655.5692911471983,1647.082375792109,2213.0372062695865,1952.0076725086337,3131.1303839632283,1921.9188965987223,2655.9627931484247,1342.205973336438,3030.6188280361694,2867.231133199867,1803.9125980285444,2416.1646518889033,1575.125068203556,2432.446440753154,1261.1430499381481,1412.9747742765494,2034.605123478329,2474.7098876156133,2562.973431198844,2275.021965192498,1377.5903738064937,2327.9255554361,2247.8029062849946,1736.3106407529513,2507.2979124745416,1190.7202699210006,2287.864230860547,2351.383517354864,2369.8674285060215,2513.2366846197606,1319.366711872321,1625.8020890298244,1730.6934424002695,2969.9203642834063,1823.3123362964598,2513.5582584122976,1779.1927880700578,2291.2793069263225,1848.6752938400207,1264.2854464722395,1471.1984362107223,2003.6249675820866,2012.7305833918235,2492.8722249742336,2944.235832947308,2046.53156202962,2166.072388171204,2692.2630207352386,1374.7695510649396,2521.031558128922,2186.4368478167303,2115.7169411374725,1687.8112950831628,2547.334789919668,2521.0560052593487,1373.5077030252178,2045.9128615749726,2721.3870752675384,2313.202741273681,2998.0796974380946,2377.6867491456096,1782.3351846041492,1547.2384145805513,2365.487631062635,2269.0831930472796,1979.2267314161372,2371.7235298699643,2599.5952325781946,1686.2278732509037,1359.1064626553364,1317.5106105083782,1675.9093036622985,2998.698397892742,2167.952936665573,2702.903164116381,1354.4539856802662,2265.9407965131877,2443.0865841342966,2280.020463090532,1405.1554536369613,1710.94768320939,2898.557310019074,2569.5553509291367,2034.605123478329,2934.5604109437772,1810.791644420948,2012.0874358067492,2628.125033786274,2464.069744234471,2100.672553182517,1292.4692267573546,1260.2027756909633,1818.635412190963,1759.1499022170683,1401.6914833103328,2730.789817739386,1395.1340107104666,2708.247682937379,2179.211780501363,2653.463544199408,1803.5910242360073,1637.7040804506885,1967.6463137878102,2038.712241390032,2167.334236210925,1227.3665184307783,3032.226696998855,2097.5546037788527,1400.1325086085003,2639.3838776220637,2940.177609296459,1208.2394596945464,2203.0402104735185,3331.4614539714175,2203.337337135629,2234.9361934865183,1279.6025139588787,1167.5594346643463,3082.606591163013,1223.9269952345765,2265.2976489281136,1255.5258515854666,1383.8751668746763,2870.0519559414215,1943.5207571535443,2527.0192245349945,2598.9765321235473,1947.2818541422832,3246.6374335843893,2617.7575699368153,2492.229077389159,2428.734238025269,2366.1063315172833,1441.4312340933482,2497.2520224176205,2957.078098615357,2350.4432431076793,2635.944354425862,1693.7256200979546,1377.8875004686042,1583.5386421673652,1651.5110674963491,2203.337337135629,2269.0831930472796,3263.537922903287,1710.3289827547426,1443.9793773032188,1292.1232058343905,1402.6317575575174,1978.6080309614897,1813.612467162502,2841.8681756563064,1652.10532082057,2863.197356679445,1719.4345985644795,2500.691545613822,2272.176695320517,2593.680907563403,2179.5333542939,2662.8418395408285,1175.3787553039347,2165.775261509093,1873.0979771363968,2360.4646860341745,2699.4636409201794,1934.1424618121239,2589.598236782127,2447.5152758385366,1793.9156022324764,1706.2707591038934,2610.5569497518745,1869.361327278085,1544.4175918389972,2677.8617803653574,1251.4431808041904,1359.4280364478736,2316.0235640152355,2198.660413030132,2307.2395219980353,1187.3051938552258,1277.7464125949361,2002.6846933349018,3329.556458346621,3053.8285575536765,1679.6704006510374,2275.3435389850356,1541.91834288998,1826.1576061684407,3288.9008804468476,2541.3715706440216,1590.7392623523056,2455.6072760098086,3060.707603946081,2634.0638059314924,2265.3220960585404,2382.0909937194233,2284.424707664345,1236.720366641772,1272.1047671118276,1987.9863263029101,2215.8580290111404,1317.8321843009155,2706.9858348976572,2299.7662222814115,2401.4662848569114,1829.9187031571796,3023.121081189118,1185.7217720229667,1664.0073122414342,2338.5412516868155,2015.5514061333777,1808.2923954719308,3007.804013702479,1777.6338133682257,3019.706005123343,2278.7586150508105,2199.600687277317,1250.824480349543,2691.0011726955163,3025.6203301381347,1200.4201390549583,1765.1375686231406,2804.9492476148453,2700.428362297791,1401.6914833103328,1386.9686691479142,1259.2625014437785,2407.7510779250947,2511.9748365800388,1546.2981403333665,1779.1927880700578,1329.0910281367055,1852.4363908287596,1998.3293430219421,3224.7139992370294,2030.5468998274798,2244.9576364130135,2648.7621729634843,2384.2442217454764,2245.8979106601982,2545.478688555725,2022.0844316028172,2964.9218663853717,1345.967070325177,2220.5349531166376,2677.5402065728204,2516.6762078159622,3023.467102112082,2631.5401098520488,2274.0816909453133,2668.8050588164742,1821.4317878020902,2403.371280481708,3176.214653567242,2622.4833883031656,1884.7028418951506,2422.4738920875134,2674.4467042995825,3312.6559690277227,1464.319389818319,2297.218079071541,1672.1482066735596,1279.924087751416,2290.3390326791373,1437.373010442499,1826.800753753515,1243.6238601646023,2186.7339744788405,2892.6185378738555,1462.4143941935226,3058.827055451711,2391.7664157229538,3272.940665375135,1410.4755253275325,1852.1148170362223,3228.796670018306,1417.330124589509,1864.0412555875134,1451.1555503577326,2981.476334781307,2545.4542414252983,1714.4116535360188,1471.8171366653698,1207.0265059156782,1266.8091425516832,1988.6050267575577,1772.2892945472277,2401.1691581948016,2377.9838758077203,1229.5441935872582,2185.472126439119,2686.967396175094,3090.723038464711,2340.421800181185,1855.2816607007408,1646.1421015449243,2579.2552200630944,3308.276171584336,2645.3226497672827,1920.705942819854,2547.037663257557,1471.5200100032594,2411.784854445517,1267.081822083367,2976.502284013699,1804.5312984831921,1198.8856114835528,1822.6936358418122,1953.566647210466,1904.0781330326392,1161.917789181238,1721.6122737209594,3003.0781953361284,2300.384922736059,1198.5395905605887,3075.3815238476454,2996.199148943725,2267.7968978771305,3212.514881154055,1738.1911892473204,2465.9502927288404,1218.6069235440054,2331.0679519701907,1371.651601661275,2626.8387386161253,1301.5259483062378,2322.902610407639,2255.597779794156,1791.4163532834593,2274.9975180620713,1738.8098897019681,2436.8262381965405,1674.944582284687,1877.8237955027473,2333.5672009192085,1566.9841737714307,1298.086425110036,2533.898270927398,1781.0733365644273,2278.1399145961627,1894.4027110291083,1316.8919100537307,2440.2902085231694,1621.1496120547542,1947.9250017273575,1748.5097588359258,2845.356593113362,2818.434660867969,2178.939100969679,1826.1576061684407,1343.1706947140497,2581.4817894804282,2270.9637415416487,1708.7700080529103,1679.0272530659631,1867.4563316532885,1398.8706605687785,2647.8463458467263,2284.721834326456,2368.630027596727,2683.5278729788924,1541.91834288998,3321.76158483746,2827.7885090789623,2907.960052490921,2326.6637073963775,1721.6122737209594,1203.2409617965125,1407.9518292480886,2415.89197235722,2008.9694864030846,2666.28136273703,3208.1106365802416,1834.2740534701393,2041.4841698707326,2027.1318237617047,1229.8657673797952,1643.667299726334,2477.5307103571677,1865.6002302893457,3166.811911095394,1971.0858369840118,1753.8542776569238,3122.3463419460286,1975.4656344273983,2527.613477859215,1875.9432470083777,3273.559365829782,1661.4836161619903,2587.4205616256468,2234.3419401622978,3318.594741172942,1619.5661902224952,2010.8255877670272,1841.7962474476171,2868.4929812395894,2303.1812983471864,1916.9448458311151,1750.3903073302954,2346.6821461189406,3256.3128555879193,1848.3537200474834,1820.8375344778697,2698.820493335105,3104.5055783799453,3199.672615486006,1337.207475438404,2271.2853153341857,1981.0828327800798,3321.118437252386,2984.6431784458246,2842.8084499034912,1572.6013721241122,2032.1058745293121,3309.859593416596,2660.639717253922,3326.7600827354936,1470.9013095486118,2639.3838776220637,2373.604078364334,2263.1444209020606,2729.849543492201,1820.5159606853324,3183.0692528292184,1588.2644605337155,1853.6982388684814,1380.4111965480479,2036.4856719726986,2223.355775858192,2914.493077960361,1916.9203987006883,2332.9485004645603,1746.9752312645203,1888.4394917534628,1753.2355772022763,2314.7861631059404,2584.575291753666,2823.408711635576,3231.6174927598604,1659.603067667621,3021.5865536177125,1584.5033635449765,2167.631362873036,2373.9500992872977,1630.2063336036376,1716.5893286924986,3031.559102283354,1606.7483716848728,2718.269125863874,2496.95489575551,1754.4485309811444,1360.3683106950582,1820.5159606853324,2608.4037217258215,1812.0534924606698,2040.2712160918643,1955.4471957048354,1996.745921189683,3317.703361186611,1884.9999685572611,1376.6500995593092,2359.5244117869897,2806.5082223166773,1971.0858369840118,3021.264979825175,1809.2326697191156,2537.016220331062,2001.768866218144,2537.9320474478204,2222.142822079323,2658.1649154353317,2701.9628898691963,1320.0098594573954,1567.6028742260783,2537.3133469931727,2086.91446039771,3141.746080213943,1475.2811069919985,1925.382866925351,1683.4070505093496,2181.0923289957327,1575.7193215277769,3338.6620741563584,3055.065958462972,3354.003588773425,2447.5152758385366,2389.910314359012,1216.0587803341348,1755.3888052283291,3148.674020867201,1999.8638705933477,2336.660703192446,1635.5019581637819,3339.9239221960797,2344.8260447549983,2419.6286222155322,2289.126078900269,2886.630871467783,1608.6289201792424,1331.8874037478326,2619.0194179765367,1162.5364896358856,2167.334236210925,1179.782999877748,3086.689261944289,2656.8786202651827,2208.9545354883103,1782.3351846041492,2342.9454962606287,1998.6020225536256,1340.968572427143,2238.3757166827204,2040.5927898844013,3158.6710166632683,1409.832377742458,2372.688251247576,1906.5773819816563,1616.4482408188305,1294.9440285759447,2409.631626419464,3073.500975353276,2536.051498953451,2404.3115547288926,1951.0429511310222,2359.227285124879,1191.9576708302957,2870.0764030718483,1946.638706557209,3114.205447513903,3213.1091344782762,2622.137367380202,2567.3532286422305,1786.4178553854254,1326.2457582647244,2551.095886908406,2086.8900132672834,2290.6606064716743,2035.2238239329765,2567.6992495651943,1723.4683750849022,1362.570432981965,2979.917360079474,1894.7242848216456,1758.8283284245308,1665.5907340736933,2570.174051383785,3125.4887384801195,2197.7201387829473,3147.733746620016,1946.3660270255252,1206.7049321231411,3330.224053062123,1375.1155719879034,1735.073239843656,1179.4369789547839,3340.8641964432645,2613.080645831318,1194.1597931172023,1834.2740534701393,1939.1654068405846,3261.6573744089183,1931.3216390705695,2186.4368478167303,2215.2148814260663,1438.3377318201105,1427.6731413085413,1549.1189630749209,1985.4870773538933,2857.2341374037997,1674.6474556225767,2650.642721457854,2330.7219310472274,2203.337337135629,2410.5719006666486,3174.3341050728723,2345.147618547535,1810.1729439663004,2866.0181794209993,2232.758518330039,3307.657471129689,1767.9094971038412,3125.810312272657,1549.7376635295682,2285.9836823661776,2529.4940263535846,2216.4767294657877,1800.7946486248798,2341.0405006358324,2521.3775790518857,1902.865179253771,1957.3277441992047,1733.5142651418237,2502.5720941081913,1863.3981080024391,2423.686845866381,2084.390764318266,2010.850034897454,2266.2379231752984,3320.4997367977385,1681.848075807517,2811.8282940072486,1947.9250017273575,2625.2797639142927,3274.499640076967,1884.0841414405031,2540.455743527264,1824.9202052591459,2024.9297014747983,2430.565892258785,2517.938055855684,3068.8484983782064,1876.2159265400614,1537.5385454465936,3043.461093704218,1988.3079000954474,2587.4205616256468,2618.0791437293524,2046.209988237083,3061.9205577249486,2331.6622052944117,1647.428396715073,2939.2373350492744,2720.1496743582434,2581.135768557464,2541.3960177744484,2791.4882814921484,3255.0754546786247,2706.3671344430095,2289.3987584319525,2533.552250004434,2328.247129228637,2646.2384768840407,1781.0977836948541,2547.977937504742,2073.1074733520495,1346.6102179102513,1214.8458265552665,2692.2874678656653,3113.6111941896825,2489.111127985495,3258.812104536936,2182.032603242917,2323.5213108622866,3305.1337750502453,2667.221636984215,2595.215435134808,3235.6512692802826,1387.6362638634155,2885.7150443510245,2199.600687277317,1678.7301264038526,2262.179699524449,3213.4551554012396,2208.3602821640898,1606.1052240997988,2492.229077389159,1244.5641344117869,2283.138412494197,1969.2052884896425,1784.8344335531663,1863.3981080024391,2690.382472240869,3207.4919361255943,1368.5336522576104,2265.643669851078,2102.2559750147757,1241.4461850081225,2352.6453653945864,2062.4673299709066,2989.6172292134315,1381.3514707952327,1987.6891996407999,2694.143569229608,3307.9790449222264,1165.678886169977,1609.8663210885375,2872.551204890439,1737.8940625852101,1393.5505888782072,1254.2640035457448,2061.8486295162593,1640.8464769847799,2442.813904602613,1657.771413434105,2243.1015350490707,1790.4760790362748,3062.5881524404494,3191.5317210538806,1753.8542776569238,2071.2269248576795,1280.8643619986005,1688.4055484073835,3258.5149778748264,2048.7092371861,2696.321244386088,2934.2388371512397,2310.0603447395897,2267.178197422483,3264.156623357934,1991.1287228370015,3107.004827328962,1884.6783947647239,1976.405908674583,2541.3960177744484,1705.6520586492456,2902.63998080035,1754.7945519041086,2923.9202675626348,2904.471635033866,1250.2057798948954,1303.7036234627176,2839.6905004998266,3188.710898312326,1429.875263595448,2019.2880559916898,2037.7719671428472,2647.5247720541893,1454.9166473464716,2279.6988892979953,1555.9980094673242,2811.5311673451383,2645.6442235598197,2693.22774211285,2056.8256844877988,1664.9231393581922,2583.337890844371,1709.6858351696683,2279.0801888433475,1846.5220658139676,1925.0612931328137,2535.7543722913406,2629.9811351502167,2006.1486636615302,2357.025162837973,1751.33058157748,2539.5154692800793,3268.857994593858,1281.8046362457853,1333.792399372629,2219.0004255452322,1752.5679824867752,2326.0205598113034,1915.0642973367455,2283.781560079271,2568.961097604916,1906.5773819816563,3334.282276712972,2826.253981507557,2208.335835033663,3208.1106365802416,2645.298202636856,2596.4772831745304,1978.8807104931732,1202.0035608872174,2056.528557825688,2360.143112241637,1868.396605900473,1620.8035911317902,1244.8612610738974,2453.4296008533283,2187.995822518563,1967.324739995273,2546.41896280291,2936.1193856456093,3100.744481391206,2408.0726517176317,2543.5736929309287,2216.7738561278984,2622.137367380202,1178.521151838026,2037.7475200124204,2408.0726517176317,2005.183942283919,1421.7343691633223,3334.257829582545,2268.440045462205,2175.4751306430508,1684.3717718869611,1671.5050590884853,1970.7642631914746,2393.646964217324,2389.5887405664744,2808.0671970185103,1942.2833562442493,3031.8806760758907,2720.4468010203536,2438.1125333666896,2885.096343896377,2980.536060534122,1373.5077030252178,2221.2025478321384,1653.688742652829,2285.018960988566,1290.5642311325582,1649.6305190019798,1762.3167458815865,2654.9980717708136,2488.516874661274,1966.0873390859779,2465.65316606673,1568.8402751353733,2560.1770555877165,2000.185444385885,2913.577250843603,1918.8253943254845,2381.423399003922,2642.7989536878385,1408.273403040626,2201.7783624337962,2225.855024807209,2501.631819861007,2869.1361288246635,2255.3006531320457,1765.4346952852509,2701.0226156220115,1341.29014621968,2535.7543722913406,1663.0914851246762,2016.764359912246,1683.4314976397764,1813.3153405003918,1215.1429532173768,2575.494123074356,2221.499674494249,1996.7703683201098,1184.1627973211343,2053.386161291597,2556.713085261088,1975.7872082199353,2553.298009195313,2058.4335534504844,3004.958743830498,2178.9146538392524,1738.8098897019681,2314.7617159755137,3026.585051515747,2714.508028875135,1678.0869788187783,1846.4976186835408,1928.8223901215526,1831.1561040664747,1815.8390365798355,1191.017396583111,2675.0654047542303,2994.640174241893,1197.3021896512937,2361.7265340738963,2901.3781327606284,1989.842427666853,1825.8360323759034,1770.4576403137116,1570.1021231750951,1361.6301587347803,3230.3311975897113,2185.472126439119,1859.0183105590527,1633.324283007302,2608.3792745953947,2318.225686302142,1196.0647887419987,1943.1991833610073,2715.44830312232,2714.8296026676726,1186.9836200626885,1296.849024200741,2445.9318540062777,2182.7001979584184,1827.0978804156257,1815.5174627872984,2935.1791113984245,3297.9576019957312,1993.6279717860184,1314.6653406363973,2423.0925925421607,1379.149348508326,3284.4966358730344,1976.7030353366933,2315.380416430161,2146.9697765653987,2711.9843327956914,2995.2588746965403,2463.4754909102503,2235.2577672790558,2468.7711154703948,1812.696640045744,2054.350882669208,1896.5803861855882,2557.0591061840523,2543.919713853893,1883.7381205175393,1254.5855773382818,1928.5252634594422,2884.1560696491924,2008.004765025473,2996.842296528799,2292.5656020964707,2063.086030425555,2203.312890005202,2816.208091450635,2881.9783944927126,2041.8057436632696,2438.4096600287994,1646.8096962604254,3041.5805452098484,3055.3875322555095,1846.4976186835408,1778.2525138228732,1410.7726519896428,2445.3131535516304,1751.0090077849427,2026.1915495145201,2467.83084122321,1214.5242527627292,1704.3902106095238,1688.4055484073835,1368.1876313346465,3122.3707890764554,1415.4495760951397,1982.9878284048762,3125.167164687582,1699.713286504027,1875.9432470083777,3324.2608337864767,2592.1219328615707,2650.618274327427,2252.182703728381,1624.5646881205294,3189.008024974437,2714.1864550825976,2992.78407287795,1636.763806203504,2232.1398178753916,3052.2451357214177,2289.126078900269,1327.5076063044464,2304.121572594371,3096.983384402467,1759.1499022170683,2617.1388694821676,2575.221443542672,1817.0764374891305,2622.137367380202,1940.4028077498797,1823.3367834268865,1444.5980777578663,3202.815012020097,3234.438315501414,3136.153328991689,2501.9778407839704,3027.525325762931,1889.3797660006476,1820.5404078157592,2528.899773029364,1678.7301264038526,3017.1823090438993,2606.523173231452,2050.292659018359,1691.869518734012,2472.532212459134,2349.5029688604945,2710.103784301322,1736.3106407529513,2165.132113924019,2334.82904895893,2554.559857235035,1761.0548978418644,2870.0519559414215,2072.7858995595125,2525.7329293648454,2645.298202636856,1879.67989686669,1530.0163514691158,1410.7970991200696,1792.3566275306441,1852.7824117517237,1339.3851505948837,1356.6072137063193,2264.703395603893,2526.054503157383,1821.13466113998,1984.2007821837444,1554.1174609729549,2231.496670290317,2305.70499442663,1330.9715766310749,2058.730680112595,1883.1194200628918,1864.0168084570867,1742.2738600285966,1212.3221304758226,1844.295496396634,1947.9005545969308,2570.495625176322,2343.242622922739,2031.1900474125541,2633.099084553881,3325.498234695772,3112.34934614996,1401.7159304407596,2520.7588785972384,2945.7948076491402,2468.7711154703948,2591.800359069033,1414.8308756404922,1675.5877298697612,2405.2518289760774,2311.3466399097388,3095.127283038524,1835.8574753023984,2334.185901373856,2023.0491529804287,1858.6967367665154,1828.9784289099948,1227.044944638241,2697.2615186332728,3129.8929830539328,1608.5800259183889,2437.147811989078,2577.399118699152,2018.6693555370423,1416.1171708106408,2347.6468674965527,2908.900326738106,1342.551994259402,1224.1996747662602,2338.2685721551316,2404.9302551835403,1899.3767617967158,1887.7963441683885,3079.488641759348,2325.0802855641186,2662.2231390861807,1532.8371742106701,3148.3279999442366,1176.6161562132297,2465.0100184816556,2467.8552883536368,1567.9244480186153,1915.0398502063188,3208.72933703489,1956.981723276241,1622.3870129640495,1740.0472906112632,1808.9110959265786,2607.43900034821,3289.495133771069,1950.721377338485,1563.198629652265],\"yaxis\":\"y\",\"type\":\"scattergl\"}],                        {\"template\":{\"data\":{\"histogram2dcontour\":[{\"type\":\"histogram2dcontour\",\"colorbar\":{\"outlinewidth\":0,\"ticks\":\"\"},\"colorscale\":[[0.0,\"#0d0887\"],[0.1111111111111111,\"#46039f\"],[0.2222222222222222,\"#7201a8\"],[0.3333333333333333,\"#9c179e\"],[0.4444444444444444,\"#bd3786\"],[0.5555555555555556,\"#d8576b\"],[0.6666666666666666,\"#ed7953\"],[0.7777777777777778,\"#fb9f3a\"],[0.8888888888888888,\"#fdca26\"],[1.0,\"#f0f921\"]]}],\"choropleth\":[{\"type\":\"choropleth\",\"colorbar\":{\"outlinewidth\":0,\"ticks\":\"\"}}],\"histogram2d\":[{\"type\":\"histogram2d\",\"colorbar\":{\"outlinewidth\":0,\"ticks\":\"\"},\"colorscale\":[[0.0,\"#0d0887\"],[0.1111111111111111,\"#46039f\"],[0.2222222222222222,\"#7201a8\"],[0.3333333333333333,\"#9c179e\"],[0.4444444444444444,\"#bd3786\"],[0.5555555555555556,\"#d8576b\"],[0.6666666666666666,\"#ed7953\"],[0.7777777777777778,\"#fb9f3a\"],[0.8888888888888888,\"#fdca26\"],[1.0,\"#f0f921\"]]}],\"heatmap\":[{\"type\":\"heatmap\",\"colorbar\":{\"outlinewidth\":0,\"ticks\":\"\"},\"colorscale\":[[0.0,\"#0d0887\"],[0.1111111111111111,\"#46039f\"],[0.2222222222222222,\"#7201a8\"],[0.3333333333333333,\"#9c179e\"],[0.4444444444444444,\"#bd3786\"],[0.5555555555555556,\"#d8576b\"],[0.6666666666666666,\"#ed7953\"],[0.7777777777777778,\"#fb9f3a\"],[0.8888888888888888,\"#fdca26\"],[1.0,\"#f0f921\"]]}],\"heatmapgl\":[{\"type\":\"heatmapgl\",\"colorbar\":{\"outlinewidth\":0,\"ticks\":\"\"},\"colorscale\":[[0.0,\"#0d0887\"],[0.1111111111111111,\"#46039f\"],[0.2222222222222222,\"#7201a8\"],[0.3333333333333333,\"#9c179e\"],[0.4444444444444444,\"#bd3786\"],[0.5555555555555556,\"#d8576b\"],[0.6666666666666666,\"#ed7953\"],[0.7777777777777778,\"#fb9f3a\"],[0.8888888888888888,\"#fdca26\"],[1.0,\"#f0f921\"]]}],\"contourcarpet\":[{\"type\":\"contourcarpet\",\"colorbar\":{\"outlinewidth\":0,\"ticks\":\"\"}}],\"contour\":[{\"type\":\"contour\",\"colorbar\":{\"outlinewidth\":0,\"ticks\":\"\"},\"colorscale\":[[0.0,\"#0d0887\"],[0.1111111111111111,\"#46039f\"],[0.2222222222222222,\"#7201a8\"],[0.3333333333333333,\"#9c179e\"],[0.4444444444444444,\"#bd3786\"],[0.5555555555555556,\"#d8576b\"],[0.6666666666666666,\"#ed7953\"],[0.7777777777777778,\"#fb9f3a\"],[0.8888888888888888,\"#fdca26\"],[1.0,\"#f0f921\"]]}],\"surface\":[{\"type\":\"surface\",\"colorbar\":{\"outlinewidth\":0,\"ticks\":\"\"},\"colorscale\":[[0.0,\"#0d0887\"],[0.1111111111111111,\"#46039f\"],[0.2222222222222222,\"#7201a8\"],[0.3333333333333333,\"#9c179e\"],[0.4444444444444444,\"#bd3786\"],[0.5555555555555556,\"#d8576b\"],[0.6666666666666666,\"#ed7953\"],[0.7777777777777778,\"#fb9f3a\"],[0.8888888888888888,\"#fdca26\"],[1.0,\"#f0f921\"]]}],\"mesh3d\":[{\"type\":\"mesh3d\",\"colorbar\":{\"outlinewidth\":0,\"ticks\":\"\"}}],\"scatter\":[{\"fillpattern\":{\"fillmode\":\"overlay\",\"size\":10,\"solidity\":0.2},\"type\":\"scatter\"}],\"parcoords\":[{\"type\":\"parcoords\",\"line\":{\"colorbar\":{\"outlinewidth\":0,\"ticks\":\"\"}}}],\"scatterpolargl\":[{\"type\":\"scatterpolargl\",\"marker\":{\"colorbar\":{\"outlinewidth\":0,\"ticks\":\"\"}}}],\"bar\":[{\"error_x\":{\"color\":\"#2a3f5f\"},\"error_y\":{\"color\":\"#2a3f5f\"},\"marker\":{\"line\":{\"color\":\"#E5ECF6\",\"width\":0.5},\"pattern\":{\"fillmode\":\"overlay\",\"size\":10,\"solidity\":0.2}},\"type\":\"bar\"}],\"scattergeo\":[{\"type\":\"scattergeo\",\"marker\":{\"colorbar\":{\"outlinewidth\":0,\"ticks\":\"\"}}}],\"scatterpolar\":[{\"type\":\"scatterpolar\",\"marker\":{\"colorbar\":{\"outlinewidth\":0,\"ticks\":\"\"}}}],\"histogram\":[{\"marker\":{\"pattern\":{\"fillmode\":\"overlay\",\"size\":10,\"solidity\":0.2}},\"type\":\"histogram\"}],\"scattergl\":[{\"type\":\"scattergl\",\"marker\":{\"colorbar\":{\"outlinewidth\":0,\"ticks\":\"\"}}}],\"scatter3d\":[{\"type\":\"scatter3d\",\"line\":{\"colorbar\":{\"outlinewidth\":0,\"ticks\":\"\"}},\"marker\":{\"colorbar\":{\"outlinewidth\":0,\"ticks\":\"\"}}}],\"scattermapbox\":[{\"type\":\"scattermapbox\",\"marker\":{\"colorbar\":{\"outlinewidth\":0,\"ticks\":\"\"}}}],\"scatterternary\":[{\"type\":\"scatterternary\",\"marker\":{\"colorbar\":{\"outlinewidth\":0,\"ticks\":\"\"}}}],\"scattercarpet\":[{\"type\":\"scattercarpet\",\"marker\":{\"colorbar\":{\"outlinewidth\":0,\"ticks\":\"\"}}}],\"carpet\":[{\"aaxis\":{\"endlinecolor\":\"#2a3f5f\",\"gridcolor\":\"white\",\"linecolor\":\"white\",\"minorgridcolor\":\"white\",\"startlinecolor\":\"#2a3f5f\"},\"baxis\":{\"endlinecolor\":\"#2a3f5f\",\"gridcolor\":\"white\",\"linecolor\":\"white\",\"minorgridcolor\":\"white\",\"startlinecolor\":\"#2a3f5f\"},\"type\":\"carpet\"}],\"table\":[{\"cells\":{\"fill\":{\"color\":\"#EBF0F8\"},\"line\":{\"color\":\"white\"}},\"header\":{\"fill\":{\"color\":\"#C8D4E3\"},\"line\":{\"color\":\"white\"}},\"type\":\"table\"}],\"barpolar\":[{\"marker\":{\"line\":{\"color\":\"#E5ECF6\",\"width\":0.5},\"pattern\":{\"fillmode\":\"overlay\",\"size\":10,\"solidity\":0.2}},\"type\":\"barpolar\"}],\"pie\":[{\"automargin\":true,\"type\":\"pie\"}]},\"layout\":{\"autotypenumbers\":\"strict\",\"colorway\":[\"#636efa\",\"#EF553B\",\"#00cc96\",\"#ab63fa\",\"#FFA15A\",\"#19d3f3\",\"#FF6692\",\"#B6E880\",\"#FF97FF\",\"#FECB52\"],\"font\":{\"color\":\"#2a3f5f\"},\"hovermode\":\"closest\",\"hoverlabel\":{\"align\":\"left\"},\"paper_bgcolor\":\"white\",\"plot_bgcolor\":\"#E5ECF6\",\"polar\":{\"bgcolor\":\"#E5ECF6\",\"angularaxis\":{\"gridcolor\":\"white\",\"linecolor\":\"white\",\"ticks\":\"\"},\"radialaxis\":{\"gridcolor\":\"white\",\"linecolor\":\"white\",\"ticks\":\"\"}},\"ternary\":{\"bgcolor\":\"#E5ECF6\",\"aaxis\":{\"gridcolor\":\"white\",\"linecolor\":\"white\",\"ticks\":\"\"},\"baxis\":{\"gridcolor\":\"white\",\"linecolor\":\"white\",\"ticks\":\"\"},\"caxis\":{\"gridcolor\":\"white\",\"linecolor\":\"white\",\"ticks\":\"\"}},\"coloraxis\":{\"colorbar\":{\"outlinewidth\":0,\"ticks\":\"\"}},\"colorscale\":{\"sequential\":[[0.0,\"#0d0887\"],[0.1111111111111111,\"#46039f\"],[0.2222222222222222,\"#7201a8\"],[0.3333333333333333,\"#9c179e\"],[0.4444444444444444,\"#bd3786\"],[0.5555555555555556,\"#d8576b\"],[0.6666666666666666,\"#ed7953\"],[0.7777777777777778,\"#fb9f3a\"],[0.8888888888888888,\"#fdca26\"],[1.0,\"#f0f921\"]],\"sequentialminus\":[[0.0,\"#0d0887\"],[0.1111111111111111,\"#46039f\"],[0.2222222222222222,\"#7201a8\"],[0.3333333333333333,\"#9c179e\"],[0.4444444444444444,\"#bd3786\"],[0.5555555555555556,\"#d8576b\"],[0.6666666666666666,\"#ed7953\"],[0.7777777777777778,\"#fb9f3a\"],[0.8888888888888888,\"#fdca26\"],[1.0,\"#f0f921\"]],\"diverging\":[[0,\"#8e0152\"],[0.1,\"#c51b7d\"],[0.2,\"#de77ae\"],[0.3,\"#f1b6da\"],[0.4,\"#fde0ef\"],[0.5,\"#f7f7f7\"],[0.6,\"#e6f5d0\"],[0.7,\"#b8e186\"],[0.8,\"#7fbc41\"],[0.9,\"#4d9221\"],[1,\"#276419\"]]},\"xaxis\":{\"gridcolor\":\"white\",\"linecolor\":\"white\",\"ticks\":\"\",\"title\":{\"standoff\":15},\"zerolinecolor\":\"white\",\"automargin\":true,\"zerolinewidth\":2},\"yaxis\":{\"gridcolor\":\"white\",\"linecolor\":\"white\",\"ticks\":\"\",\"title\":{\"standoff\":15},\"zerolinecolor\":\"white\",\"automargin\":true,\"zerolinewidth\":2},\"scene\":{\"xaxis\":{\"backgroundcolor\":\"#E5ECF6\",\"gridcolor\":\"white\",\"linecolor\":\"white\",\"showbackground\":true,\"ticks\":\"\",\"zerolinecolor\":\"white\",\"gridwidth\":2},\"yaxis\":{\"backgroundcolor\":\"#E5ECF6\",\"gridcolor\":\"white\",\"linecolor\":\"white\",\"showbackground\":true,\"ticks\":\"\",\"zerolinecolor\":\"white\",\"gridwidth\":2},\"zaxis\":{\"backgroundcolor\":\"#E5ECF6\",\"gridcolor\":\"white\",\"linecolor\":\"white\",\"showbackground\":true,\"ticks\":\"\",\"zerolinecolor\":\"white\",\"gridwidth\":2}},\"shapedefaults\":{\"line\":{\"color\":\"#2a3f5f\"}},\"annotationdefaults\":{\"arrowcolor\":\"#2a3f5f\",\"arrowhead\":0,\"arrowwidth\":1},\"geo\":{\"bgcolor\":\"white\",\"landcolor\":\"#E5ECF6\",\"subunitcolor\":\"white\",\"showland\":true,\"showlakes\":true,\"lakecolor\":\"white\"},\"title\":{\"x\":0.05},\"mapbox\":{\"style\":\"light\"}}},\"xaxis\":{\"anchor\":\"y\",\"domain\":[0.0,1.0],\"title\":{\"text\":\"Y Test (True Values)\"}},\"yaxis\":{\"anchor\":\"x\",\"domain\":[0.0,1.0],\"title\":{\"text\":\"Predicted Values\"}},\"legend\":{\"tracegroupgap\":0},\"title\":{\"text\":\"Predicted vs. Actual Values (r = 0.44)\"}},                        {\"responsive\": true}                    ).then(function(){\n",
              "                            \n",
              "var gd = document.getElementById('8ff5c0bf-b784-4f09-906c-38153d41f85d');\n",
              "var x = new MutationObserver(function (mutations, observer) {{\n",
              "        var display = window.getComputedStyle(gd).display;\n",
              "        if (!display || display === 'none') {{\n",
              "            console.log([gd, 'removed!']);\n",
              "            Plotly.purge(gd);\n",
              "            observer.disconnect();\n",
              "        }}\n",
              "}});\n",
              "\n",
              "// Listen for the removal of the full notebook cells\n",
              "var notebookContainer = gd.closest('#notebook-container');\n",
              "if (notebookContainer) {{\n",
              "    x.observe(notebookContainer, {childList: true});\n",
              "}}\n",
              "\n",
              "// Listen for the clearing of the current output cell\n",
              "var outputEl = gd.closest('.output');\n",
              "if (outputEl) {{\n",
              "    x.observe(outputEl, {childList: true});\n",
              "}}\n",
              "\n",
              "                        })                };                            </script>        </div>\n",
              "</body>\n",
              "</html>"
            ]
          },
          "metadata": {}
        }
      ]
    },
    {
      "cell_type": "markdown",
      "source": [
        "With a Pearson r value of 0.44, there is a moderate, positive, linear correlation between the predicted and actual values."
      ],
      "metadata": {
        "id": "jiBjQQTt9aH2"
      }
    },
    {
      "cell_type": "code",
      "source": [
        "from sklearn import metrics\n",
        "\n",
        "import numpy as np\n",
        "\n",
        "metrics_df = pd.DataFrame({'Metric': ['MAE','MSE', 'RMSE', 'R-Squared'],\n",
        "'Value': [metrics.mean_absolute_error(y_test, predictions),\n",
        "          metrics.mean_squared_error(y_test, predictions),\n",
        "          np.sqrt(metrics.mean_squared_error(y_test, predictions)),\n",
        "          metrics.explained_variance_score(y_test, predictions)]}).round(3)\n",
        "print(metrics_df)"
      ],
      "metadata": {
        "colab": {
          "base_uri": "https://localhost:8080/"
        },
        "id": "Tot58WGQ9vz0",
        "outputId": "d2abc539-9a87-48ef-f2f6-f6b26c50de96"
      },
      "execution_count": null,
      "outputs": [
        {
          "output_type": "stream",
          "name": "stdout",
          "text": [
            "      Metric        Value\n",
            "0        MAE      851.506\n",
            "1        MSE  1422769.456\n",
            "2       RMSE     1192.799\n",
            "3  R-Squared        0.193\n"
          ]
        }
      ]
    },
    {
      "cell_type": "markdown",
      "source": [
        "- Mean absolute error (MAE) is the average absolute difference between the predicted values and the actual values.\n",
        "- Mean squared error (MSE) is the average of the squared differences between the predicted and actual values.\n",
        "- Root mean squared error (RMSE) is the square root of the MSE.\n",
        "- R-squared tells us the proportion of variance in the dependent variable that can be explained by the model.   \n",
        "  \n",
        "Thus, in this simple linear regression model, Item_MRP explained only 19.3% of the variance in item_outlet sales."
      ],
      "metadata": {
        "id": "vcMMU0eO-SVV"
      }
    },
    {
      "cell_type": "markdown",
      "source": [
        "# Missing Values Treatment"
      ],
      "metadata": {
        "id": "6-zcrEIBA0Ho"
      }
    },
    {
      "cell_type": "code",
      "source": [
        "data.isna().sum()"
      ],
      "metadata": {
        "colab": {
          "base_uri": "https://localhost:8080/"
        },
        "id": "zXVonOrmA8Ow",
        "outputId": "b4e44891-2f58-47e0-ce29-ee2c3248a24b"
      },
      "execution_count": null,
      "outputs": [
        {
          "output_type": "execute_result",
          "data": {
            "text/plain": [
              "Item_Identifier                 0\n",
              "Item_Weight                  2439\n",
              "Item_Fat_Content                0\n",
              "Item_Visibility                 0\n",
              "Item_Type                       0\n",
              "Item_MRP                        0\n",
              "Outlet_Identifier               0\n",
              "Outlet_Establishment_Year       0\n",
              "Outlet_Size                  4016\n",
              "Outlet_Location_Type            0\n",
              "Outlet_Type                     0\n",
              "Item_Outlet_Sales            5681\n",
              "source                          0\n",
              "dtype: int64"
            ]
          },
          "metadata": {},
          "execution_count": 152
        }
      ]
    },
    {
      "cell_type": "markdown",
      "source": [
        "###Replacing Null Values in each column with the mean of the column"
      ],
      "metadata": {
        "id": "eQyibnLjCcvL"
      }
    },
    {
      "cell_type": "code",
      "source": [
        "mean_item_weight = data['Item_Weight'].mean()\n",
        "data['Item_Weight'].fillna(mean_item_weight, inplace=True)"
      ],
      "metadata": {
        "id": "0_OER0EiCW8H"
      },
      "execution_count": null,
      "outputs": []
    },
    {
      "cell_type": "code",
      "source": [
        "mean_sales = data['Item_Outlet_Sales'].mean()\n",
        "data['Item_Outlet_Sales'].fillna(mean_sales, inplace=True)"
      ],
      "metadata": {
        "id": "fr86GkHsCknL"
      },
      "execution_count": null,
      "outputs": []
    },
    {
      "cell_type": "markdown",
      "source": [
        "Since Outlet Size has Categorical Value.So, First we have to Convert this value into Numeric Values to perform missing values imputation."
      ],
      "metadata": {
        "id": "cGrMwph2CqRP"
      }
    },
    {
      "cell_type": "code",
      "source": [
        "# Filter categorical variables\n",
        "categorical_columns = [x for x in data.dtypes.index if data.dtypes[x] == 'object']\n",
        "# Exclude ID cols and source:\n",
        "categorical_columns = [x for x in categorical_columns if x not in ['Item_Identifier', 'Outlet_Identifier', 'source']]\n",
        "# Print frequency of categories\n",
        "for col in categorical_columns:\n",
        "    print(f'\\nFrequency of Categories for variable {col}')\n",
        "    print(data[col].value_counts())\n"
      ],
      "metadata": {
        "colab": {
          "base_uri": "https://localhost:8080/"
        },
        "id": "FCdxW5uwC6Dy",
        "outputId": "3268f735-5bb5-4758-e548-4629df693d0d"
      },
      "execution_count": null,
      "outputs": [
        {
          "output_type": "stream",
          "name": "stdout",
          "text": [
            "\n",
            "Frequency of Categories for variable Item_Fat_Content\n",
            "Low Fat    8485\n",
            "Regular    4824\n",
            "LF          522\n",
            "reg         195\n",
            "low fat     178\n",
            "Name: Item_Fat_Content, dtype: int64\n",
            "\n",
            "Frequency of Categories for variable Item_Type\n",
            "Fruits and Vegetables    2013\n",
            "Snack Foods              1989\n",
            "Household                1548\n",
            "Frozen Foods             1426\n",
            "Dairy                    1136\n",
            "Baking Goods             1086\n",
            "Canned                   1084\n",
            "Health and Hygiene        858\n",
            "Meat                      736\n",
            "Soft Drinks               726\n",
            "Breads                    416\n",
            "Hard Drinks               362\n",
            "Others                    280\n",
            "Starchy Foods             269\n",
            "Breakfast                 186\n",
            "Seafood                    89\n",
            "Name: Item_Type, dtype: int64\n",
            "\n",
            "Frequency of Categories for variable Outlet_Size\n",
            "Medium    4655\n",
            "Small     3980\n",
            "High      1553\n",
            "Name: Outlet_Size, dtype: int64\n",
            "\n",
            "Frequency of Categories for variable Outlet_Location_Type\n",
            "Tier 3    5583\n",
            "Tier 2    4641\n",
            "Tier 1    3980\n",
            "Name: Outlet_Location_Type, dtype: int64\n",
            "\n",
            "Frequency of Categories for variable Outlet_Type\n",
            "Supermarket Type1    9294\n",
            "Grocery Store        1805\n",
            "Supermarket Type3    1559\n",
            "Supermarket Type2    1546\n",
            "Name: Outlet_Type, dtype: int64\n"
          ]
        }
      ]
    },
    {
      "cell_type": "markdown",
      "source": [
        "# Feature Engineering"
      ],
      "metadata": {
        "id": "VXvKOsteDBQ2"
      }
    },
    {
      "cell_type": "code",
      "source": [
        "data.pivot_table(values='Item_Outlet_Sales',index='Outlet_Type')"
      ],
      "metadata": {
        "colab": {
          "base_uri": "https://localhost:8080/",
          "height": 206
        },
        "id": "OZTMNJPNDEOK",
        "outputId": "277edaf7-2648-4f3f-da36-20505edb804a"
      },
      "execution_count": null,
      "outputs": [
        {
          "output_type": "execute_result",
          "data": {
            "text/plain": [
              "                   Item_Outlet_Sales\n",
              "Outlet_Type                         \n",
              "Grocery Store            1076.412666\n",
              "Supermarket Type1        2262.232963\n",
              "Supermarket Type2        2069.766739\n",
              "Supermarket Type3        3088.550567"
            ],
            "text/html": [
              "\n",
              "  <div id=\"df-9d599652-e49e-4135-b938-d38969b87e40\" class=\"colab-df-container\">\n",
              "    <div>\n",
              "<style scoped>\n",
              "    .dataframe tbody tr th:only-of-type {\n",
              "        vertical-align: middle;\n",
              "    }\n",
              "\n",
              "    .dataframe tbody tr th {\n",
              "        vertical-align: top;\n",
              "    }\n",
              "\n",
              "    .dataframe thead th {\n",
              "        text-align: right;\n",
              "    }\n",
              "</style>\n",
              "<table border=\"1\" class=\"dataframe\">\n",
              "  <thead>\n",
              "    <tr style=\"text-align: right;\">\n",
              "      <th></th>\n",
              "      <th>Item_Outlet_Sales</th>\n",
              "    </tr>\n",
              "    <tr>\n",
              "      <th>Outlet_Type</th>\n",
              "      <th></th>\n",
              "    </tr>\n",
              "  </thead>\n",
              "  <tbody>\n",
              "    <tr>\n",
              "      <th>Grocery Store</th>\n",
              "      <td>1076.412666</td>\n",
              "    </tr>\n",
              "    <tr>\n",
              "      <th>Supermarket Type1</th>\n",
              "      <td>2262.232963</td>\n",
              "    </tr>\n",
              "    <tr>\n",
              "      <th>Supermarket Type2</th>\n",
              "      <td>2069.766739</td>\n",
              "    </tr>\n",
              "    <tr>\n",
              "      <th>Supermarket Type3</th>\n",
              "      <td>3088.550567</td>\n",
              "    </tr>\n",
              "  </tbody>\n",
              "</table>\n",
              "</div>\n",
              "    <div class=\"colab-df-buttons\">\n",
              "\n",
              "  <div class=\"colab-df-container\">\n",
              "    <button class=\"colab-df-convert\" onclick=\"convertToInteractive('df-9d599652-e49e-4135-b938-d38969b87e40')\"\n",
              "            title=\"Convert this dataframe to an interactive table.\"\n",
              "            style=\"display:none;\">\n",
              "\n",
              "  <svg xmlns=\"http://www.w3.org/2000/svg\" height=\"24px\" viewBox=\"0 -960 960 960\">\n",
              "    <path d=\"M120-120v-720h720v720H120Zm60-500h600v-160H180v160Zm220 220h160v-160H400v160Zm0 220h160v-160H400v160ZM180-400h160v-160H180v160Zm440 0h160v-160H620v160ZM180-180h160v-160H180v160Zm440 0h160v-160H620v160Z\"/>\n",
              "  </svg>\n",
              "    </button>\n",
              "\n",
              "  <style>\n",
              "    .colab-df-container {\n",
              "      display:flex;\n",
              "      gap: 12px;\n",
              "    }\n",
              "\n",
              "    .colab-df-convert {\n",
              "      background-color: #E8F0FE;\n",
              "      border: none;\n",
              "      border-radius: 50%;\n",
              "      cursor: pointer;\n",
              "      display: none;\n",
              "      fill: #1967D2;\n",
              "      height: 32px;\n",
              "      padding: 0 0 0 0;\n",
              "      width: 32px;\n",
              "    }\n",
              "\n",
              "    .colab-df-convert:hover {\n",
              "      background-color: #E2EBFA;\n",
              "      box-shadow: 0px 1px 2px rgba(60, 64, 67, 0.3), 0px 1px 3px 1px rgba(60, 64, 67, 0.15);\n",
              "      fill: #174EA6;\n",
              "    }\n",
              "\n",
              "    .colab-df-buttons div {\n",
              "      margin-bottom: 4px;\n",
              "    }\n",
              "\n",
              "    [theme=dark] .colab-df-convert {\n",
              "      background-color: #3B4455;\n",
              "      fill: #D2E3FC;\n",
              "    }\n",
              "\n",
              "    [theme=dark] .colab-df-convert:hover {\n",
              "      background-color: #434B5C;\n",
              "      box-shadow: 0px 1px 3px 1px rgba(0, 0, 0, 0.15);\n",
              "      filter: drop-shadow(0px 1px 2px rgba(0, 0, 0, 0.3));\n",
              "      fill: #FFFFFF;\n",
              "    }\n",
              "  </style>\n",
              "\n",
              "    <script>\n",
              "      const buttonEl =\n",
              "        document.querySelector('#df-9d599652-e49e-4135-b938-d38969b87e40 button.colab-df-convert');\n",
              "      buttonEl.style.display =\n",
              "        google.colab.kernel.accessAllowed ? 'block' : 'none';\n",
              "\n",
              "      async function convertToInteractive(key) {\n",
              "        const element = document.querySelector('#df-9d599652-e49e-4135-b938-d38969b87e40');\n",
              "        const dataTable =\n",
              "          await google.colab.kernel.invokeFunction('convertToInteractive',\n",
              "                                                    [key], {});\n",
              "        if (!dataTable) return;\n",
              "\n",
              "        const docLinkHtml = 'Like what you see? Visit the ' +\n",
              "          '<a target=\"_blank\" href=https://colab.research.google.com/notebooks/data_table.ipynb>data table notebook</a>'\n",
              "          + ' to learn more about interactive tables.';\n",
              "        element.innerHTML = '';\n",
              "        dataTable['output_type'] = 'display_data';\n",
              "        await google.colab.output.renderOutput(dataTable, element);\n",
              "        const docLink = document.createElement('div');\n",
              "        docLink.innerHTML = docLinkHtml;\n",
              "        element.appendChild(docLink);\n",
              "      }\n",
              "    </script>\n",
              "  </div>\n",
              "\n",
              "\n",
              "<div id=\"df-d899354e-146a-4510-bf4b-e664da0b48fd\">\n",
              "  <button class=\"colab-df-quickchart\" onclick=\"quickchart('df-d899354e-146a-4510-bf4b-e664da0b48fd')\"\n",
              "            title=\"Suggest charts\"\n",
              "            style=\"display:none;\">\n",
              "\n",
              "<svg xmlns=\"http://www.w3.org/2000/svg\" height=\"24px\"viewBox=\"0 0 24 24\"\n",
              "     width=\"24px\">\n",
              "    <g>\n",
              "        <path d=\"M19 3H5c-1.1 0-2 .9-2 2v14c0 1.1.9 2 2 2h14c1.1 0 2-.9 2-2V5c0-1.1-.9-2-2-2zM9 17H7v-7h2v7zm4 0h-2V7h2v10zm4 0h-2v-4h2v4z\"/>\n",
              "    </g>\n",
              "</svg>\n",
              "  </button>\n",
              "\n",
              "<style>\n",
              "  .colab-df-quickchart {\n",
              "      --bg-color: #E8F0FE;\n",
              "      --fill-color: #1967D2;\n",
              "      --hover-bg-color: #E2EBFA;\n",
              "      --hover-fill-color: #174EA6;\n",
              "      --disabled-fill-color: #AAA;\n",
              "      --disabled-bg-color: #DDD;\n",
              "  }\n",
              "\n",
              "  [theme=dark] .colab-df-quickchart {\n",
              "      --bg-color: #3B4455;\n",
              "      --fill-color: #D2E3FC;\n",
              "      --hover-bg-color: #434B5C;\n",
              "      --hover-fill-color: #FFFFFF;\n",
              "      --disabled-bg-color: #3B4455;\n",
              "      --disabled-fill-color: #666;\n",
              "  }\n",
              "\n",
              "  .colab-df-quickchart {\n",
              "    background-color: var(--bg-color);\n",
              "    border: none;\n",
              "    border-radius: 50%;\n",
              "    cursor: pointer;\n",
              "    display: none;\n",
              "    fill: var(--fill-color);\n",
              "    height: 32px;\n",
              "    padding: 0;\n",
              "    width: 32px;\n",
              "  }\n",
              "\n",
              "  .colab-df-quickchart:hover {\n",
              "    background-color: var(--hover-bg-color);\n",
              "    box-shadow: 0 1px 2px rgba(60, 64, 67, 0.3), 0 1px 3px 1px rgba(60, 64, 67, 0.15);\n",
              "    fill: var(--button-hover-fill-color);\n",
              "  }\n",
              "\n",
              "  .colab-df-quickchart-complete:disabled,\n",
              "  .colab-df-quickchart-complete:disabled:hover {\n",
              "    background-color: var(--disabled-bg-color);\n",
              "    fill: var(--disabled-fill-color);\n",
              "    box-shadow: none;\n",
              "  }\n",
              "\n",
              "  .colab-df-spinner {\n",
              "    border: 2px solid var(--fill-color);\n",
              "    border-color: transparent;\n",
              "    border-bottom-color: var(--fill-color);\n",
              "    animation:\n",
              "      spin 1s steps(1) infinite;\n",
              "  }\n",
              "\n",
              "  @keyframes spin {\n",
              "    0% {\n",
              "      border-color: transparent;\n",
              "      border-bottom-color: var(--fill-color);\n",
              "      border-left-color: var(--fill-color);\n",
              "    }\n",
              "    20% {\n",
              "      border-color: transparent;\n",
              "      border-left-color: var(--fill-color);\n",
              "      border-top-color: var(--fill-color);\n",
              "    }\n",
              "    30% {\n",
              "      border-color: transparent;\n",
              "      border-left-color: var(--fill-color);\n",
              "      border-top-color: var(--fill-color);\n",
              "      border-right-color: var(--fill-color);\n",
              "    }\n",
              "    40% {\n",
              "      border-color: transparent;\n",
              "      border-right-color: var(--fill-color);\n",
              "      border-top-color: var(--fill-color);\n",
              "    }\n",
              "    60% {\n",
              "      border-color: transparent;\n",
              "      border-right-color: var(--fill-color);\n",
              "    }\n",
              "    80% {\n",
              "      border-color: transparent;\n",
              "      border-right-color: var(--fill-color);\n",
              "      border-bottom-color: var(--fill-color);\n",
              "    }\n",
              "    90% {\n",
              "      border-color: transparent;\n",
              "      border-bottom-color: var(--fill-color);\n",
              "    }\n",
              "  }\n",
              "</style>\n",
              "\n",
              "  <script>\n",
              "    async function quickchart(key) {\n",
              "      const quickchartButtonEl =\n",
              "        document.querySelector('#' + key + ' button');\n",
              "      quickchartButtonEl.disabled = true;  // To prevent multiple clicks.\n",
              "      quickchartButtonEl.classList.add('colab-df-spinner');\n",
              "      try {\n",
              "        const charts = await google.colab.kernel.invokeFunction(\n",
              "            'suggestCharts', [key], {});\n",
              "      } catch (error) {\n",
              "        console.error('Error during call to suggestCharts:', error);\n",
              "      }\n",
              "      quickchartButtonEl.classList.remove('colab-df-spinner');\n",
              "      quickchartButtonEl.classList.add('colab-df-quickchart-complete');\n",
              "    }\n",
              "    (() => {\n",
              "      let quickchartButtonEl =\n",
              "        document.querySelector('#df-d899354e-146a-4510-bf4b-e664da0b48fd button');\n",
              "      quickchartButtonEl.style.display =\n",
              "        google.colab.kernel.accessAllowed ? 'block' : 'none';\n",
              "    })();\n",
              "  </script>\n",
              "</div>\n",
              "    </div>\n",
              "  </div>\n"
            ]
          },
          "metadata": {},
          "execution_count": 156
        }
      ]
    },
    {
      "cell_type": "markdown",
      "source": [
        "here pivot table showing the mean sales for each unique value in the 'Outlet_Type' column.\n",
        "\n",
        "Supermarket Type3 appears to have the highest average sales among the four types of outlets, while Grocery Stores have the lowest average sales."
      ],
      "metadata": {
        "id": "QFIiK7QOWJv8"
      }
    },
    {
      "cell_type": "code",
      "source": [
        "#Years:\n",
        "data['Outlet_Years'] = 2013 - data['Outlet_Establishment_Year']\n",
        "data['Outlet_Years'].describe()\n"
      ],
      "metadata": {
        "colab": {
          "base_uri": "https://localhost:8080/"
        },
        "id": "lq0yJ-xrWOeP",
        "outputId": "76c3ec86-cada-4225-f716-7294f6d94deb"
      },
      "execution_count": null,
      "outputs": [
        {
          "output_type": "execute_result",
          "data": {
            "text/plain": [
              "count    14204.000000\n",
              "mean        15.169319\n",
              "std          8.371664\n",
              "min          4.000000\n",
              "25%          9.000000\n",
              "50%         14.000000\n",
              "75%         26.000000\n",
              "max         28.000000\n",
              "Name: Outlet_Years, dtype: float64"
            ]
          },
          "metadata": {},
          "execution_count": 157
        }
      ]
    },
    {
      "cell_type": "markdown",
      "source": [
        "Outlet_Years' represents the age of the outlets, and the summary provide insights into the distribution and central tendency of these ages. The outlets vary in age, with the majority falling between 9 and 26 years old.\n",
        "\n",
        "\n",
        "\n",
        "\n",
        "\n"
      ],
      "metadata": {
        "id": "dOoTSTp9ZjS9"
      }
    },
    {
      "cell_type": "code",
      "source": [
        "# Change categories of low fat:\n",
        "print('Original Categories:')\n",
        "print(data['Item_Fat_Content'].value_counts())\n",
        "\n",
        "print('\\nModified Categories:')\n",
        "data['Item_Fat_Content'] = data['Item_Fat_Content'].replace({'LF': 'Low Fat', 'reg': 'Regular', 'low fat': 'Low Fat'})\n",
        "print(data['Item_Fat_Content'].value_counts())\n"
      ],
      "metadata": {
        "colab": {
          "base_uri": "https://localhost:8080/"
        },
        "id": "CnNd2qJOZkwI",
        "outputId": "9826cd40-1901-48a6-906b-d9fbbb96dd3f"
      },
      "execution_count": null,
      "outputs": [
        {
          "output_type": "stream",
          "name": "stdout",
          "text": [
            "Original Categories:\n",
            "Low Fat    8485\n",
            "Regular    4824\n",
            "LF          522\n",
            "reg         195\n",
            "low fat     178\n",
            "Name: Item_Fat_Content, dtype: int64\n",
            "\n",
            "Modified Categories:\n",
            "Low Fat    9185\n",
            "Regular    5019\n",
            "Name: Item_Fat_Content, dtype: int64\n"
          ]
        }
      ]
    },
    {
      "cell_type": "markdown",
      "source": [
        "The original 'Item_Fat_Content' variable had inconsistent representations such as 'LF', 'reg', and 'low fat' for 'Low Fat', as well as 'Regular'. After applying a modification, the representations were standardized, resulting in 'Low Fat' and 'Regular' categories.   "
      ],
      "metadata": {
        "id": "o6vq6F5WbE83"
      }
    },
    {
      "cell_type": "markdown",
      "source": [
        "In Previous step, we found non-consumable items. Now, in this step, we're creating a special category for them, as they shouldn't have a specified fat content."
      ],
      "metadata": {
        "id": "RrpqYfPNbIe9"
      }
    },
    {
      "cell_type": "code",
      "source": [
        "#Item type combine:\n",
        "data['Item_Identifier'].value_counts()\n",
        "data['Item_Type_Combined'] = data['Item_Identifier'].apply(lambda x: x[0:2])\n",
        "data['Item_Type_Combined'] = data['Item_Type_Combined'].map({'FD':'Food',\n",
        "                                                             'NC':'Non-Consumable',\n",
        "                                                             'DR':'Drinks'})\n",
        "data['Item_Type_Combined'].value_counts()"
      ],
      "metadata": {
        "colab": {
          "base_uri": "https://localhost:8080/"
        },
        "id": "qFX9oPfkeHSa",
        "outputId": "aeafd590-91c4-44ed-e2b8-7171dfb14f27"
      },
      "execution_count": null,
      "outputs": [
        {
          "output_type": "execute_result",
          "data": {
            "text/plain": [
              "Food              10201\n",
              "Non-Consumable     2686\n",
              "Drinks             1317\n",
              "Name: Item_Type_Combined, dtype: int64"
            ]
          },
          "metadata": {},
          "execution_count": 159
        }
      ]
    },
    {
      "cell_type": "markdown",
      "source": [
        "It provides a summary of the distribution of items across the different combined categories based on their type (Food, Non-Consumable, Drinks)."
      ],
      "metadata": {
        "id": "uazeuRwMeJpx"
      }
    },
    {
      "cell_type": "code",
      "source": [
        "#Mark non-consumables as separate category in low_fat:\n",
        "data.loc[data['Item_Type_Combined']==\"Non-Consumable\",'Item_Fat_Content'] = \"Non-Edible\"\n",
        "data['Item_Fat_Content'].value_counts()"
      ],
      "metadata": {
        "colab": {
          "base_uri": "https://localhost:8080/"
        },
        "id": "zIRKw2gXbGk9",
        "outputId": "1eb323e1-b95e-4dd9-bec3-cb3b7f3be087"
      },
      "execution_count": null,
      "outputs": [
        {
          "output_type": "execute_result",
          "data": {
            "text/plain": [
              "Low Fat       6499\n",
              "Regular       5019\n",
              "Non-Edible    2686\n",
              "Name: Item_Fat_Content, dtype: int64"
            ]
          },
          "metadata": {},
          "execution_count": 160
        }
      ]
    },
    {
      "cell_type": "markdown",
      "source": [
        "It shows the distribution of items based on their fat content, where 'Non-Edible' is a separate category created for non-consumable items."
      ],
      "metadata": {
        "id": "lG0W2fK0dnxK"
      }
    },
    {
      "cell_type": "markdown",
      "source": [
        "# Label Encoding"
      ],
      "metadata": {
        "id": "fb7oshmCdyr9"
      }
    },
    {
      "cell_type": "code",
      "source": [
        "data.dtypes"
      ],
      "metadata": {
        "colab": {
          "base_uri": "https://localhost:8080/"
        },
        "id": "2ytIgMEbd3-M",
        "outputId": "d5d8a3f9-5a9d-46d7-c99f-d967f0cc9d10"
      },
      "execution_count": null,
      "outputs": [
        {
          "output_type": "execute_result",
          "data": {
            "text/plain": [
              "Item_Identifier               object\n",
              "Item_Weight                  float64\n",
              "Item_Fat_Content              object\n",
              "Item_Visibility              float64\n",
              "Item_Type                     object\n",
              "Item_MRP                     float64\n",
              "Outlet_Identifier             object\n",
              "Outlet_Establishment_Year      int64\n",
              "Outlet_Size                   object\n",
              "Outlet_Location_Type          object\n",
              "Outlet_Type                   object\n",
              "Item_Outlet_Sales            float64\n",
              "Outlet_Years                   int64\n",
              "Item_Type_Combined            object\n",
              "dtype: object"
            ]
          },
          "metadata": {},
          "execution_count": 13
        }
      ]
    },
    {
      "cell_type": "code",
      "source": [
        "# Using LabelEncoder() for Label Encoding\n",
        "from sklearn.preprocessing import LabelEncoder\n",
        "\n",
        "categorical_columns = data.select_dtypes(include=['object']).columns.tolist()\n",
        "\n",
        "# Excluding columns that we don't want to encode\n",
        "exclude_columns = ['Item_Identifier', 'Outlet_Identifier','Outlet_Location_Type', 'Item_Type_Combined']\n",
        "\n",
        "categorical_columns = [col for col in categorical_columns if col not in exclude_columns]\n",
        "\n",
        "# Initializing LabelEncoder\n",
        "label_encoder = LabelEncoder()\n",
        "\n",
        "# Applying label encoding to each categorical column\n",
        "for col in categorical_columns:\n",
        "    data[col] = label_encoder.fit_transform(data[col])\n",
        "\n",
        "# Print or display the updated DataFrame\n",
        "print(data)\n"
      ],
      "metadata": {
        "colab": {
          "base_uri": "https://localhost:8080/"
        },
        "id": "SOJH29CGgVCj",
        "outputId": "5c49a146-45c3-41ce-f140-bc097ac921d3"
      },
      "execution_count": null,
      "outputs": [
        {
          "output_type": "stream",
          "name": "stdout",
          "text": [
            "      Item_Identifier  Item_Weight  Item_Fat_Content  Item_Visibility  \\\n",
            "0               FDA15         9.30                 0         0.016047   \n",
            "1               DRC01         5.92                 2         0.019278   \n",
            "2               FDN15        17.50                 0         0.016760   \n",
            "3               FDX07        19.20                 2         0.000000   \n",
            "4               NCD19         8.93                 1         0.000000   \n",
            "...               ...          ...               ...              ...   \n",
            "14199           FDB58        10.50                 2         0.013496   \n",
            "14200           FDD47         7.60                 2         0.142991   \n",
            "14201           NCO17        10.00                 1         0.073529   \n",
            "14202           FDJ26        15.30                 2         0.000000   \n",
            "14203           FDU37         9.50                 2         0.104720   \n",
            "\n",
            "       Item_Type  Item_MRP Outlet_Identifier  Outlet_Establishment_Year  \\\n",
            "0              4  249.8092            OUT049                       1999   \n",
            "1             14   48.2692            OUT018                       2009   \n",
            "2             10  141.6180            OUT049                       1999   \n",
            "3              6  182.0950            OUT010                       1998   \n",
            "4              9   53.8614            OUT013                       1987   \n",
            "...          ...       ...               ...                        ...   \n",
            "14199         13  141.3154            OUT046                       1997   \n",
            "14200         15  169.1448            OUT018                       2009   \n",
            "14201          8  118.7440            OUT045                       2002   \n",
            "14202          3  214.6218            OUT017                       2007   \n",
            "14203          3   79.7960            OUT045                       2002   \n",
            "\n",
            "       Outlet_Size Outlet_Location_Type  Outlet_Type  Item_Outlet_Sales  \\\n",
            "0                1               Tier 1            1        3735.138000   \n",
            "1                1               Tier 3            2         443.422800   \n",
            "2                1               Tier 1            1        2097.270000   \n",
            "3                3               Tier 3            0         732.380000   \n",
            "4                0               Tier 3            1         994.705200   \n",
            "...            ...                  ...          ...                ...   \n",
            "14199            2               Tier 1            1        2181.288914   \n",
            "14200            1               Tier 3            2        2181.288914   \n",
            "14201            3               Tier 2            1        2181.288914   \n",
            "14202            3               Tier 2            1        2181.288914   \n",
            "14203            3               Tier 2            1        2181.288914   \n",
            "\n",
            "       source  Outlet_Years Item_Type_Combined  \n",
            "0           1            14               Food  \n",
            "1           1             4             Drinks  \n",
            "2           1            14               Food  \n",
            "3           1            15               Food  \n",
            "4           1            26     Non-Consumable  \n",
            "...       ...           ...                ...  \n",
            "14199       0            16               Food  \n",
            "14200       0             4               Food  \n",
            "14201       0            11     Non-Consumable  \n",
            "14202       0             6               Food  \n",
            "14203       0            11               Food  \n",
            "\n",
            "[14204 rows x 15 columns]\n"
          ]
        }
      ]
    },
    {
      "cell_type": "markdown",
      "source": [
        "Here in the above output, Label encoding transforms categorical columns into numerical representations, making them suitable for machine learning models that require numerical input."
      ],
      "metadata": {
        "id": "0ZJcMtuSgzd2"
      }
    },
    {
      "cell_type": "markdown",
      "source": [
        "# One Hot Encoding\n"
      ],
      "metadata": {
        "id": "qQgrudbVhyoS"
      }
    },
    {
      "cell_type": "code",
      "source": [
        "#Import library:\n",
        "from sklearn.preprocessing import LabelEncoder\n",
        "le = LabelEncoder()\n",
        "#New variable for outlet\n",
        "data['Outlet'] = le.fit_transform(data['Outlet_Identifier'])\n",
        "var_mod = ['Item_Fat_Content','Outlet_Location_Type','Outlet_Size','Item_Type_Combined','Outlet_Type','Outlet']\n",
        "le = LabelEncoder()\n",
        "for i in var_mod:\n",
        "    data[i] = le.fit_transform(data[i])"
      ],
      "metadata": {
        "id": "a-RjpAGKtIzM"
      },
      "execution_count": null,
      "outputs": []
    },
    {
      "cell_type": "code",
      "source": [
        "#One Hot Coding:\n",
        "data = pd.get_dummies(data, columns=['Item_Fat_Content','Outlet_Location_Type','Outlet_Size','Outlet_Type',\n",
        "                              'Item_Type_Combined','Outlet'])"
      ],
      "metadata": {
        "id": "fTYp_Z41i-A6"
      },
      "execution_count": null,
      "outputs": []
    },
    {
      "cell_type": "markdown",
      "source": [
        "Now the resulting dataset now has a more numerical format suitable for machine learning algorithms, where each category is represented by 1 or 0 in separate columns."
      ],
      "metadata": {
        "id": "rIpvWY7Fi2nT"
      }
    },
    {
      "cell_type": "code",
      "source": [
        "data[['Item_Fat_Content_0','Item_Fat_Content_1','Item_Fat_Content_2']].head(10)"
      ],
      "metadata": {
        "id": "HnFhOrNitiV3",
        "colab": {
          "base_uri": "https://localhost:8080/",
          "height": 363
        },
        "outputId": "00a872ce-0b83-480e-b4ed-8bc06d40d5b6"
      },
      "execution_count": null,
      "outputs": [
        {
          "output_type": "execute_result",
          "data": {
            "text/plain": [
              "   Item_Fat_Content_0  Item_Fat_Content_1  Item_Fat_Content_2\n",
              "0                   1                   0                   0\n",
              "1                   0                   0                   1\n",
              "2                   1                   0                   0\n",
              "3                   0                   0                   1\n",
              "4                   0                   1                   0\n",
              "5                   0                   0                   1\n",
              "6                   0                   0                   1\n",
              "7                   1                   0                   0\n",
              "8                   0                   0                   1\n",
              "9                   0                   0                   1"
            ],
            "text/html": [
              "\n",
              "  <div id=\"df-2ed1dc52-e3f6-4dbc-becb-116ff44e5c59\" class=\"colab-df-container\">\n",
              "    <div>\n",
              "<style scoped>\n",
              "    .dataframe tbody tr th:only-of-type {\n",
              "        vertical-align: middle;\n",
              "    }\n",
              "\n",
              "    .dataframe tbody tr th {\n",
              "        vertical-align: top;\n",
              "    }\n",
              "\n",
              "    .dataframe thead th {\n",
              "        text-align: right;\n",
              "    }\n",
              "</style>\n",
              "<table border=\"1\" class=\"dataframe\">\n",
              "  <thead>\n",
              "    <tr style=\"text-align: right;\">\n",
              "      <th></th>\n",
              "      <th>Item_Fat_Content_0</th>\n",
              "      <th>Item_Fat_Content_1</th>\n",
              "      <th>Item_Fat_Content_2</th>\n",
              "    </tr>\n",
              "  </thead>\n",
              "  <tbody>\n",
              "    <tr>\n",
              "      <th>0</th>\n",
              "      <td>1</td>\n",
              "      <td>0</td>\n",
              "      <td>0</td>\n",
              "    </tr>\n",
              "    <tr>\n",
              "      <th>1</th>\n",
              "      <td>0</td>\n",
              "      <td>0</td>\n",
              "      <td>1</td>\n",
              "    </tr>\n",
              "    <tr>\n",
              "      <th>2</th>\n",
              "      <td>1</td>\n",
              "      <td>0</td>\n",
              "      <td>0</td>\n",
              "    </tr>\n",
              "    <tr>\n",
              "      <th>3</th>\n",
              "      <td>0</td>\n",
              "      <td>0</td>\n",
              "      <td>1</td>\n",
              "    </tr>\n",
              "    <tr>\n",
              "      <th>4</th>\n",
              "      <td>0</td>\n",
              "      <td>1</td>\n",
              "      <td>0</td>\n",
              "    </tr>\n",
              "    <tr>\n",
              "      <th>5</th>\n",
              "      <td>0</td>\n",
              "      <td>0</td>\n",
              "      <td>1</td>\n",
              "    </tr>\n",
              "    <tr>\n",
              "      <th>6</th>\n",
              "      <td>0</td>\n",
              "      <td>0</td>\n",
              "      <td>1</td>\n",
              "    </tr>\n",
              "    <tr>\n",
              "      <th>7</th>\n",
              "      <td>1</td>\n",
              "      <td>0</td>\n",
              "      <td>0</td>\n",
              "    </tr>\n",
              "    <tr>\n",
              "      <th>8</th>\n",
              "      <td>0</td>\n",
              "      <td>0</td>\n",
              "      <td>1</td>\n",
              "    </tr>\n",
              "    <tr>\n",
              "      <th>9</th>\n",
              "      <td>0</td>\n",
              "      <td>0</td>\n",
              "      <td>1</td>\n",
              "    </tr>\n",
              "  </tbody>\n",
              "</table>\n",
              "</div>\n",
              "    <div class=\"colab-df-buttons\">\n",
              "\n",
              "  <div class=\"colab-df-container\">\n",
              "    <button class=\"colab-df-convert\" onclick=\"convertToInteractive('df-2ed1dc52-e3f6-4dbc-becb-116ff44e5c59')\"\n",
              "            title=\"Convert this dataframe to an interactive table.\"\n",
              "            style=\"display:none;\">\n",
              "\n",
              "  <svg xmlns=\"http://www.w3.org/2000/svg\" height=\"24px\" viewBox=\"0 -960 960 960\">\n",
              "    <path d=\"M120-120v-720h720v720H120Zm60-500h600v-160H180v160Zm220 220h160v-160H400v160Zm0 220h160v-160H400v160ZM180-400h160v-160H180v160Zm440 0h160v-160H620v160ZM180-180h160v-160H180v160Zm440 0h160v-160H620v160Z\"/>\n",
              "  </svg>\n",
              "    </button>\n",
              "\n",
              "  <style>\n",
              "    .colab-df-container {\n",
              "      display:flex;\n",
              "      gap: 12px;\n",
              "    }\n",
              "\n",
              "    .colab-df-convert {\n",
              "      background-color: #E8F0FE;\n",
              "      border: none;\n",
              "      border-radius: 50%;\n",
              "      cursor: pointer;\n",
              "      display: none;\n",
              "      fill: #1967D2;\n",
              "      height: 32px;\n",
              "      padding: 0 0 0 0;\n",
              "      width: 32px;\n",
              "    }\n",
              "\n",
              "    .colab-df-convert:hover {\n",
              "      background-color: #E2EBFA;\n",
              "      box-shadow: 0px 1px 2px rgba(60, 64, 67, 0.3), 0px 1px 3px 1px rgba(60, 64, 67, 0.15);\n",
              "      fill: #174EA6;\n",
              "    }\n",
              "\n",
              "    .colab-df-buttons div {\n",
              "      margin-bottom: 4px;\n",
              "    }\n",
              "\n",
              "    [theme=dark] .colab-df-convert {\n",
              "      background-color: #3B4455;\n",
              "      fill: #D2E3FC;\n",
              "    }\n",
              "\n",
              "    [theme=dark] .colab-df-convert:hover {\n",
              "      background-color: #434B5C;\n",
              "      box-shadow: 0px 1px 3px 1px rgba(0, 0, 0, 0.15);\n",
              "      filter: drop-shadow(0px 1px 2px rgba(0, 0, 0, 0.3));\n",
              "      fill: #FFFFFF;\n",
              "    }\n",
              "  </style>\n",
              "\n",
              "    <script>\n",
              "      const buttonEl =\n",
              "        document.querySelector('#df-2ed1dc52-e3f6-4dbc-becb-116ff44e5c59 button.colab-df-convert');\n",
              "      buttonEl.style.display =\n",
              "        google.colab.kernel.accessAllowed ? 'block' : 'none';\n",
              "\n",
              "      async function convertToInteractive(key) {\n",
              "        const element = document.querySelector('#df-2ed1dc52-e3f6-4dbc-becb-116ff44e5c59');\n",
              "        const dataTable =\n",
              "          await google.colab.kernel.invokeFunction('convertToInteractive',\n",
              "                                                    [key], {});\n",
              "        if (!dataTable) return;\n",
              "\n",
              "        const docLinkHtml = 'Like what you see? Visit the ' +\n",
              "          '<a target=\"_blank\" href=https://colab.research.google.com/notebooks/data_table.ipynb>data table notebook</a>'\n",
              "          + ' to learn more about interactive tables.';\n",
              "        element.innerHTML = '';\n",
              "        dataTable['output_type'] = 'display_data';\n",
              "        await google.colab.output.renderOutput(dataTable, element);\n",
              "        const docLink = document.createElement('div');\n",
              "        docLink.innerHTML = docLinkHtml;\n",
              "        element.appendChild(docLink);\n",
              "      }\n",
              "    </script>\n",
              "  </div>\n",
              "\n",
              "\n",
              "<div id=\"df-1bbe4484-1714-447f-9642-7e2a05571a0e\">\n",
              "  <button class=\"colab-df-quickchart\" onclick=\"quickchart('df-1bbe4484-1714-447f-9642-7e2a05571a0e')\"\n",
              "            title=\"Suggest charts\"\n",
              "            style=\"display:none;\">\n",
              "\n",
              "<svg xmlns=\"http://www.w3.org/2000/svg\" height=\"24px\"viewBox=\"0 0 24 24\"\n",
              "     width=\"24px\">\n",
              "    <g>\n",
              "        <path d=\"M19 3H5c-1.1 0-2 .9-2 2v14c0 1.1.9 2 2 2h14c1.1 0 2-.9 2-2V5c0-1.1-.9-2-2-2zM9 17H7v-7h2v7zm4 0h-2V7h2v10zm4 0h-2v-4h2v4z\"/>\n",
              "    </g>\n",
              "</svg>\n",
              "  </button>\n",
              "\n",
              "<style>\n",
              "  .colab-df-quickchart {\n",
              "      --bg-color: #E8F0FE;\n",
              "      --fill-color: #1967D2;\n",
              "      --hover-bg-color: #E2EBFA;\n",
              "      --hover-fill-color: #174EA6;\n",
              "      --disabled-fill-color: #AAA;\n",
              "      --disabled-bg-color: #DDD;\n",
              "  }\n",
              "\n",
              "  [theme=dark] .colab-df-quickchart {\n",
              "      --bg-color: #3B4455;\n",
              "      --fill-color: #D2E3FC;\n",
              "      --hover-bg-color: #434B5C;\n",
              "      --hover-fill-color: #FFFFFF;\n",
              "      --disabled-bg-color: #3B4455;\n",
              "      --disabled-fill-color: #666;\n",
              "  }\n",
              "\n",
              "  .colab-df-quickchart {\n",
              "    background-color: var(--bg-color);\n",
              "    border: none;\n",
              "    border-radius: 50%;\n",
              "    cursor: pointer;\n",
              "    display: none;\n",
              "    fill: var(--fill-color);\n",
              "    height: 32px;\n",
              "    padding: 0;\n",
              "    width: 32px;\n",
              "  }\n",
              "\n",
              "  .colab-df-quickchart:hover {\n",
              "    background-color: var(--hover-bg-color);\n",
              "    box-shadow: 0 1px 2px rgba(60, 64, 67, 0.3), 0 1px 3px 1px rgba(60, 64, 67, 0.15);\n",
              "    fill: var(--button-hover-fill-color);\n",
              "  }\n",
              "\n",
              "  .colab-df-quickchart-complete:disabled,\n",
              "  .colab-df-quickchart-complete:disabled:hover {\n",
              "    background-color: var(--disabled-bg-color);\n",
              "    fill: var(--disabled-fill-color);\n",
              "    box-shadow: none;\n",
              "  }\n",
              "\n",
              "  .colab-df-spinner {\n",
              "    border: 2px solid var(--fill-color);\n",
              "    border-color: transparent;\n",
              "    border-bottom-color: var(--fill-color);\n",
              "    animation:\n",
              "      spin 1s steps(1) infinite;\n",
              "  }\n",
              "\n",
              "  @keyframes spin {\n",
              "    0% {\n",
              "      border-color: transparent;\n",
              "      border-bottom-color: var(--fill-color);\n",
              "      border-left-color: var(--fill-color);\n",
              "    }\n",
              "    20% {\n",
              "      border-color: transparent;\n",
              "      border-left-color: var(--fill-color);\n",
              "      border-top-color: var(--fill-color);\n",
              "    }\n",
              "    30% {\n",
              "      border-color: transparent;\n",
              "      border-left-color: var(--fill-color);\n",
              "      border-top-color: var(--fill-color);\n",
              "      border-right-color: var(--fill-color);\n",
              "    }\n",
              "    40% {\n",
              "      border-color: transparent;\n",
              "      border-right-color: var(--fill-color);\n",
              "      border-top-color: var(--fill-color);\n",
              "    }\n",
              "    60% {\n",
              "      border-color: transparent;\n",
              "      border-right-color: var(--fill-color);\n",
              "    }\n",
              "    80% {\n",
              "      border-color: transparent;\n",
              "      border-right-color: var(--fill-color);\n",
              "      border-bottom-color: var(--fill-color);\n",
              "    }\n",
              "    90% {\n",
              "      border-color: transparent;\n",
              "      border-bottom-color: var(--fill-color);\n",
              "    }\n",
              "  }\n",
              "</style>\n",
              "\n",
              "  <script>\n",
              "    async function quickchart(key) {\n",
              "      const quickchartButtonEl =\n",
              "        document.querySelector('#' + key + ' button');\n",
              "      quickchartButtonEl.disabled = true;  // To prevent multiple clicks.\n",
              "      quickchartButtonEl.classList.add('colab-df-spinner');\n",
              "      try {\n",
              "        const charts = await google.colab.kernel.invokeFunction(\n",
              "            'suggestCharts', [key], {});\n",
              "      } catch (error) {\n",
              "        console.error('Error during call to suggestCharts:', error);\n",
              "      }\n",
              "      quickchartButtonEl.classList.remove('colab-df-spinner');\n",
              "      quickchartButtonEl.classList.add('colab-df-quickchart-complete');\n",
              "    }\n",
              "    (() => {\n",
              "      let quickchartButtonEl =\n",
              "        document.querySelector('#df-1bbe4484-1714-447f-9642-7e2a05571a0e button');\n",
              "      quickchartButtonEl.style.display =\n",
              "        google.colab.kernel.accessAllowed ? 'block' : 'none';\n",
              "    })();\n",
              "  </script>\n",
              "</div>\n",
              "    </div>\n",
              "  </div>\n"
            ]
          },
          "metadata": {},
          "execution_count": 126
        }
      ]
    },
    {
      "cell_type": "markdown",
      "source": [
        "# PreProcessing Data"
      ],
      "metadata": {
        "id": "i-ygr6DEjHuR"
      }
    },
    {
      "cell_type": "markdown",
      "source": [
        "In this step we try to convert data back into train and test data sets.This can be achieved using following code:"
      ],
      "metadata": {
        "id": "Br50V3XRlrax"
      }
    },
    {
      "cell_type": "code",
      "source": [
        "data.columns"
      ],
      "metadata": {
        "colab": {
          "base_uri": "https://localhost:8080/"
        },
        "id": "GZeZ0y8NpGvD",
        "outputId": "f37ff012-db7f-4ce4-8adb-24acc139ffa7"
      },
      "execution_count": null,
      "outputs": [
        {
          "output_type": "execute_result",
          "data": {
            "text/plain": [
              "Index(['Item_Identifier', 'Item_Weight', 'Item_Visibility', 'Item_Type',\n",
              "       'Item_MRP', 'Outlet_Identifier', 'Outlet_Establishment_Year',\n",
              "       'Item_Outlet_Sales', 'source', 'Outlet_Years', 'Item_Fat_Content_0',\n",
              "       'Item_Fat_Content_1', 'Item_Fat_Content_2', 'Outlet_Location_Type_0',\n",
              "       'Outlet_Location_Type_1', 'Outlet_Location_Type_2', 'Outlet_Size_0',\n",
              "       'Outlet_Size_1', 'Outlet_Size_2', 'Outlet_Size_3', 'Outlet_Type_0',\n",
              "       'Outlet_Type_1', 'Outlet_Type_2', 'Outlet_Type_3',\n",
              "       'Item_Type_Combined_0', 'Item_Type_Combined_1', 'Item_Type_Combined_2',\n",
              "       'Outlet_0', 'Outlet_1', 'Outlet_2', 'Outlet_3', 'Outlet_4', 'Outlet_5',\n",
              "       'Outlet_6', 'Outlet_7', 'Outlet_8', 'Outlet_9'],\n",
              "      dtype='object')"
            ]
          },
          "metadata": {},
          "execution_count": 164
        }
      ]
    },
    {
      "cell_type": "code",
      "source": [
        "#Drop the columns which have been converted to different types:\n",
        "data.drop(['Item_Type','Outlet_Establishment_Year'],axis=1,inplace=True)"
      ],
      "metadata": {
        "id": "tIBFV0OLcMl5"
      },
      "execution_count": null,
      "outputs": []
    },
    {
      "cell_type": "code",
      "source": [
        "#Divide into test and train:\n",
        "train = data.loc[data['source']==\"train\"]\n",
        "test = data.loc[data['source']==\"test\"]"
      ],
      "metadata": {
        "id": "RzgYRnL5d1iz"
      },
      "execution_count": null,
      "outputs": []
    },
    {
      "cell_type": "code",
      "source": [
        "#Drop unnecessary columns:\n",
        "test.drop(['Item_Outlet_Sales','source'],axis=1,inplace=True)\n",
        "train.drop(['source'],axis=1,inplace=True)\n",
        "\n",
        "#Export files as modified versions:\n",
        "train.to_csv(\"train_modified.csv\",index=False)\n",
        "test.to_csv(\"test_modified.csv\",index=False)"
      ],
      "metadata": {
        "colab": {
          "base_uri": "https://localhost:8080/"
        },
        "id": "BCX0CkM1d4gv",
        "outputId": "f1ad2034-423d-459e-edae-716888ac3627"
      },
      "execution_count": null,
      "outputs": [
        {
          "output_type": "stream",
          "name": "stderr",
          "text": [
            "<ipython-input-167-c937da755162>:2: SettingWithCopyWarning:\n",
            "\n",
            "\n",
            "A value is trying to be set on a copy of a slice from a DataFrame\n",
            "\n",
            "See the caveats in the documentation: https://pandas.pydata.org/pandas-docs/stable/user_guide/indexing.html#returning-a-view-versus-a-copy\n",
            "\n",
            "<ipython-input-167-c937da755162>:3: SettingWithCopyWarning:\n",
            "\n",
            "\n",
            "A value is trying to be set on a copy of a slice from a DataFrame\n",
            "\n",
            "See the caveats in the documentation: https://pandas.pydata.org/pandas-docs/stable/user_guide/indexing.html#returning-a-view-versus-a-copy\n",
            "\n"
          ]
        }
      ]
    },
    {
      "cell_type": "markdown",
      "source": [
        "# Modeling"
      ],
      "metadata": {
        "id": "imp8JriKpZ-v"
      }
    },
    {
      "cell_type": "code",
      "source": [
        "import pandas as pd\n",
        "import numpy as np"
      ],
      "metadata": {
        "id": "gHf9tBZ5pKcE"
      },
      "execution_count": null,
      "outputs": []
    },
    {
      "cell_type": "code",
      "source": [
        "train = pd.read_csv(\"train_modified.csv\")\n",
        "test = pd.read_csv(\"test_modified.csv\")"
      ],
      "metadata": {
        "id": "rXS4jSjipuVe"
      },
      "execution_count": null,
      "outputs": []
    },
    {
      "cell_type": "code",
      "source": [
        "train.shape"
      ],
      "metadata": {
        "colab": {
          "base_uri": "https://localhost:8080/"
        },
        "id": "0RMOl7Fcp5z-",
        "outputId": "be9b7ad6-f1dd-46a5-a86c-47ba767d2014"
      },
      "execution_count": null,
      "outputs": [
        {
          "output_type": "execute_result",
          "data": {
            "text/plain": [
              "(8523, 34)"
            ]
          },
          "metadata": {},
          "execution_count": 170
        }
      ]
    },
    {
      "cell_type": "code",
      "source": [
        "train.dtypes"
      ],
      "metadata": {
        "colab": {
          "base_uri": "https://localhost:8080/"
        },
        "id": "_kr8iX26pwKi",
        "outputId": "7697b306-69dd-4741-841d-daa0bab60ad0"
      },
      "execution_count": null,
      "outputs": [
        {
          "output_type": "execute_result",
          "data": {
            "text/plain": [
              "Item_Identifier            object\n",
              "Item_Weight               float64\n",
              "Item_Visibility           float64\n",
              "Item_MRP                  float64\n",
              "Outlet_Identifier          object\n",
              "Item_Outlet_Sales         float64\n",
              "Outlet_Years                int64\n",
              "Item_Fat_Content_0          int64\n",
              "Item_Fat_Content_1          int64\n",
              "Item_Fat_Content_2          int64\n",
              "Outlet_Location_Type_0      int64\n",
              "Outlet_Location_Type_1      int64\n",
              "Outlet_Location_Type_2      int64\n",
              "Outlet_Size_0               int64\n",
              "Outlet_Size_1               int64\n",
              "Outlet_Size_2               int64\n",
              "Outlet_Size_3               int64\n",
              "Outlet_Type_0               int64\n",
              "Outlet_Type_1               int64\n",
              "Outlet_Type_2               int64\n",
              "Outlet_Type_3               int64\n",
              "Item_Type_Combined_0        int64\n",
              "Item_Type_Combined_1        int64\n",
              "Item_Type_Combined_2        int64\n",
              "Outlet_0                    int64\n",
              "Outlet_1                    int64\n",
              "Outlet_2                    int64\n",
              "Outlet_3                    int64\n",
              "Outlet_4                    int64\n",
              "Outlet_5                    int64\n",
              "Outlet_6                    int64\n",
              "Outlet_7                    int64\n",
              "Outlet_8                    int64\n",
              "Outlet_9                    int64\n",
              "dtype: object"
            ]
          },
          "metadata": {},
          "execution_count": 171
        }
      ]
    },
    {
      "cell_type": "markdown",
      "source": [
        "# Linear Regression"
      ],
      "metadata": {
        "id": "3gAK4dPpurr2"
      }
    },
    {
      "cell_type": "code",
      "source": [
        "from sklearn.linear_model import LinearRegression"
      ],
      "metadata": {
        "id": "Mx2fyTRcu4Qj"
      },
      "execution_count": null,
      "outputs": []
    },
    {
      "cell_type": "markdown",
      "source": [
        "I Have Performed Simple Linear Regression in the BIVARIATE ANALYSIS Section, You can check out there."
      ],
      "metadata": {
        "id": "di26kb5Ko7S9"
      }
    },
    {
      "cell_type": "markdown",
      "source": [
        "# Regularized Linear Regression (Ridge Regression)"
      ],
      "metadata": {
        "id": "VN9JK0FuvxjT"
      }
    },
    {
      "cell_type": "code",
      "source": [
        "#Define target and ID columns:\n",
        "target = 'Item_Outlet_Sales'\n",
        "IDcol = ['Item_Identifier','Outlet_Identifier']"
      ],
      "metadata": {
        "id": "b5wTsGH0eQoD"
      },
      "execution_count": null,
      "outputs": []
    },
    {
      "cell_type": "code",
      "source": [
        "from sklearn.linear_model import Ridge"
      ],
      "metadata": {
        "id": "qlvlB2mhv5A1"
      },
      "execution_count": null,
      "outputs": []
    },
    {
      "cell_type": "code",
      "source": [
        "predictors = [x for x in train.columns if x not in [target]+IDcol]\n",
        "alg2 = Ridge(alpha=0.05)\n",
        "modelfit(alg2, train, test, predictors, target, IDcol, 'alg2.csv')\n",
        "coef2 = pd.Series(alg2.coef_, predictors).sort_values()\n",
        "coef2.plot(kind='bar', title='Model Coefficients')"
      ],
      "metadata": {
        "id": "qNBfpUWtv-O5",
        "colab": {
          "base_uri": "https://localhost:8080/",
          "height": 689
        },
        "outputId": "81174072-2ea1-468c-e9da-0be1a0787675"
      },
      "execution_count": null,
      "outputs": [
        {
          "output_type": "stream",
          "name": "stdout",
          "text": [
            "\n",
            "Model Report\n",
            "RMSE: 1127\n",
            "CV Score: Mean - 1129 | Std - 43.56 | Min - 1075 | Max - 1211\n"
          ]
        },
        {
          "output_type": "execute_result",
          "data": {
            "text/plain": [
              "<Axes: title={'center': 'Model Coefficients'}>"
            ]
          },
          "metadata": {},
          "execution_count": 177
        },
        {
          "output_type": "display_data",
          "data": {
            "text/plain": [
              "<Figure size 640x480 with 1 Axes>"
            ],
            "image/png": "[encoded data removed]"
          },
          "metadata": {}
        }
      ]
    },
    {
      "cell_type": "markdown",
      "source": [
        "The Ridge regression model has an RMSE of 1127 on the training data and a cross-validated performance with a mean RMSE of 1129 and a standard deviation of 43.56. The values provide insights into the model's accuracy and its consistency across different subsets of the data during cross-validation. Lower RMSE values indicate better model performance"
      ],
      "metadata": {
        "id": "mUGIUBnNp-wE"
      }
    },
    {
      "cell_type": "markdown",
      "source": [
        "# Random Forest Model"
      ],
      "metadata": {
        "id": "LMCXvzsfwNJG"
      }
    },
    {
      "cell_type": "code",
      "source": [
        "from sklearn.ensemble import RandomForestRegressor"
      ],
      "metadata": {
        "id": "gO1cLi4ZwVb5"
      },
      "execution_count": null,
      "outputs": []
    },
    {
      "cell_type": "code",
      "source": [
        "predictors = [x for x in train.columns if x not in [target]+IDcol]\n",
        "alg5 = RandomForestRegressor(n_estimators=200,max_depth=5, min_samples_leaf=100,n_jobs=4)\n",
        "modelfit(alg5, train, test, predictors, target, IDcol, 'alg5.csv')\n",
        "coef5 = pd.Series(alg5.feature_importances_, predictors).sort_values(ascending=False)\n",
        "coef5.plot(kind='bar', title='Feature Importances')"
      ],
      "metadata": {
        "id": "MIpdS3q1wacJ",
        "colab": {
          "base_uri": "https://localhost:8080/",
          "height": 689
        },
        "outputId": "a323d5ac-6c02-42b3-8e8d-a112fe07d49a"
      },
      "execution_count": null,
      "outputs": [
        {
          "output_type": "stream",
          "name": "stdout",
          "text": [
            "\n",
            "Model Report\n",
            "RMSE: 1073\n",
            "CV Score: Mean - 1084 | Std - 43.95 | Min - 1019 | Max - 1161\n"
          ]
        },
        {
          "output_type": "execute_result",
          "data": {
            "text/plain": [
              "<Axes: title={'center': 'Feature Importances'}>"
            ]
          },
          "metadata": {},
          "execution_count": 179
        },
        {
          "output_type": "display_data",
          "data": {
            "text/plain": [
              "<Figure size 640x480 with 1 Axes>"
            ],
            "image/png": "[encoded data removed]"
          },
          "metadata": {}
        }
      ]
    },
    {
      "cell_type": "markdown",
      "source": [
        " The Random Forest Regressor seems to be providing a good fit to the data, as indicated by the low RMSE and consistent performance in cross-validation."
      ],
      "metadata": {
        "id": "gzFkA1w6qx2y"
      }
    },
    {
      "cell_type": "code",
      "source": [
        "predictors = [x for x in train.columns if x not in [target]+IDcol]\n",
        "\n",
        "alg6 = RandomForestRegressor(n_estimators=400,max_depth=6, min_samples_leaf=100,n_jobs=4)\n",
        "\n",
        "modelfit(alg6, train, test, predictors, target, IDcol, 'alg6.csv')\n",
        "\n",
        "coef6 = pd.Series(alg6.feature_importances_, predictors).sort_values(ascending=False)\n",
        "\n",
        "coef6.plot(kind='bar', title='Feature Importances')"
      ],
      "metadata": {
        "id": "a_cU3zFRwnV0",
        "colab": {
          "base_uri": "https://localhost:8080/",
          "height": 689
        },
        "outputId": "21e65998-f4a9-4d7f-caf2-1a10eafb4f37"
      },
      "execution_count": null,
      "outputs": [
        {
          "output_type": "stream",
          "name": "stdout",
          "text": [
            "\n",
            "Model Report\n",
            "RMSE: 1068\n",
            "CV Score: Mean - 1082 | Std - 43.41 | Min - 1019 | Max - 1159\n"
          ]
        },
        {
          "output_type": "execute_result",
          "data": {
            "text/plain": [
              "<Axes: title={'center': 'Feature Importances'}>"
            ]
          },
          "metadata": {},
          "execution_count": 180
        },
        {
          "output_type": "display_data",
          "data": {
            "text/plain": [
              "<Figure size 640x480 with 1 Axes>"
            ],
            "image/png": "[encoded data removed]"
          },
          "metadata": {}
        }
      ]
    },
    {
      "cell_type": "markdown",
      "source": [
        "**Feature Importance** :\n",
        "The bar plot titled \"Feature Importances\" shows the importance of each feature in making predictions. The higher the bar, the more important the corresponding feature is in predicting the target variable.i.e. Item_MRP."
      ],
      "metadata": {
        "id": "xYmj_WwLrDUv"
      }
    },
    {
      "cell_type": "markdown",
      "source": [
        "# XGBoost"
      ],
      "metadata": {
        "id": "MGA6tVG4wyud"
      }
    },
    {
      "cell_type": "code",
      "source": [
        "# Import necessary libraries\n",
        "import pandas as pd\n",
        "from sklearn.model_selection import train_test_split\n",
        "from xgboost import XGBRegressor\n",
        "from sklearn.metrics import mean_squared_error\n",
        "import numpy as np\n",
        "\n"
      ],
      "metadata": {
        "id": "78105sSdrlCv"
      },
      "execution_count": null,
      "outputs": []
    },
    {
      "cell_type": "code",
      "source": [
        "# Load the modified dataset\n",
        "data = pd.read_csv(\"train_modified.csv\")\n",
        "\n",
        "# Define target and ID columns\n",
        "target = 'Item_Outlet_Sales'\n",
        "IDcol = ['Item_Identifier', 'Outlet_Identifier']\n",
        "\n",
        "# Define predictors\n",
        "predictors = [x for x in data.columns if x not in [target] + IDcol]\n",
        "\n"
      ],
      "metadata": {
        "id": "zFB6Z_yDrqFb"
      },
      "execution_count": null,
      "outputs": []
    },
    {
      "cell_type": "code",
      "source": [
        "# Split the data into training and testing sets\n",
        "train, test = train_test_split(data, test_size=0.2, random_state=42)\n",
        "\n",
        "# Initialize XGBoost regressor\n",
        "alg = XGBRegressor(objective='reg:squarederror', random_state=42)\n",
        "\n",
        "# Fit the algorithm on the training data\n",
        "alg.fit(train[predictors], train[target])"
      ],
      "metadata": {
        "colab": {
          "base_uri": "https://localhost:8080/",
          "height": 248
        },
        "id": "piugZtEwrvwT",
        "outputId": "faeb7a42-5b7f-4a4d-ed87-678294af244c"
      },
      "execution_count": null,
      "outputs": [
        {
          "output_type": "execute_result",
          "data": {
            "text/plain": [
              "XGBRegressor(base_score=None, booster=None, callbacks=None,\n",
              "             colsample_bylevel=None, colsample_bynode=None,\n",
              "             colsample_bytree=None, device=None, early_stopping_rounds=None,\n",
              "             enable_categorical=False, eval_metric=None, feature_types=None,\n",
              "             gamma=None, grow_policy=None, importance_type=None,\n",
              "             interaction_constraints=None, learning_rate=None, max_bin=None,\n",
              "             max_cat_threshold=None, max_cat_to_onehot=None,\n",
              "             max_delta_step=None, max_depth=None, max_leaves=None,\n",
              "             min_child_weight=None, missing=nan, monotone_constraints=None,\n",
              "             multi_strategy=None, n_estimators=None, n_jobs=None,\n",
              "             num_parallel_tree=None, random_state=42, ...)"
            ],
            "text/html": [
              "<style>#sk-container-id-2 {color: black;background-color: white;}#sk-container-id-2 pre{padding: 0;}#sk-container-id-2 div.sk-toggleable {background-color: white;}#sk-container-id-2 label.sk-toggleable__label {cursor: pointer;display: block;width: 100%;margin-bottom: 0;padding: 0.3em;box-sizing: border-box;text-align: center;}#sk-container-id-2 label.sk-toggleable__label-arrow:before {content: \"▸\";float: left;margin-right: 0.25em;color: #696969;}#sk-container-id-2 label.sk-toggleable__label-arrow:hover:before {color: black;}#sk-container-id-2 div.sk-estimator:hover label.sk-toggleable__label-arrow:before {color: black;}#sk-container-id-2 div.sk-toggleable__content {max-height: 0;max-width: 0;overflow: hidden;text-align: left;background-color: #f0f8ff;}#sk-container-id-2 div.sk-toggleable__content pre {margin: 0.2em;color: black;border-radius: 0.25em;background-color: #f0f8ff;}#sk-container-id-2 input.sk-toggleable__control:checked~div.sk-toggleable__content {max-height: 200px;max-width: 100%;overflow: auto;}#sk-container-id-2 input.sk-toggleable__control:checked~label.sk-toggleable__label-arrow:before {content: \"▾\";}#sk-container-id-2 div.sk-estimator input.sk-toggleable__control:checked~label.sk-toggleable__label {background-color: #d4ebff;}#sk-container-id-2 div.sk-label input.sk-toggleable__control:checked~label.sk-toggleable__label {background-color: #d4ebff;}#sk-container-id-2 input.sk-hidden--visually {border: 0;clip: rect(1px 1px 1px 1px);clip: rect(1px, 1px, 1px, 1px);height: 1px;margin: -1px;overflow: hidden;padding: 0;position: absolute;width: 1px;}#sk-container-id-2 div.sk-estimator {font-family: monospace;background-color: #f0f8ff;border: 1px dotted black;border-radius: 0.25em;box-sizing: border-box;margin-bottom: 0.5em;}#sk-container-id-2 div.sk-estimator:hover {background-color: #d4ebff;}#sk-container-id-2 div.sk-parallel-item::after {content: \"\";width: 100%;border-bottom: 1px solid gray;flex-grow: 1;}#sk-container-id-2 div.sk-label:hover label.sk-toggleable__label {background-color: #d4ebff;}#sk-container-id-2 div.sk-serial::before {content: \"\";position: absolute;border-left: 1px solid gray;box-sizing: border-box;top: 0;bottom: 0;left: 50%;z-index: 0;}#sk-container-id-2 div.sk-serial {display: flex;flex-direction: column;align-items: center;background-color: white;padding-right: 0.2em;padding-left: 0.2em;position: relative;}#sk-container-id-2 div.sk-item {position: relative;z-index: 1;}#sk-container-id-2 div.sk-parallel {display: flex;align-items: stretch;justify-content: center;background-color: white;position: relative;}#sk-container-id-2 div.sk-item::before, #sk-container-id-2 div.sk-parallel-item::before {content: \"\";position: absolute;border-left: 1px solid gray;box-sizing: border-box;top: 0;bottom: 0;left: 50%;z-index: -1;}#sk-container-id-2 div.sk-parallel-item {display: flex;flex-direction: column;z-index: 1;position: relative;background-color: white;}#sk-container-id-2 div.sk-parallel-item:first-child::after {align-self: flex-end;width: 50%;}#sk-container-id-2 div.sk-parallel-item:last-child::after {align-self: flex-start;width: 50%;}#sk-container-id-2 div.sk-parallel-item:only-child::after {width: 0;}#sk-container-id-2 div.sk-dashed-wrapped {border: 1px dashed gray;margin: 0 0.4em 0.5em 0.4em;box-sizing: border-box;padding-bottom: 0.4em;background-color: white;}#sk-container-id-2 div.sk-label label {font-family: monospace;font-weight: bold;display: inline-block;line-height: 1.2em;}#sk-container-id-2 div.sk-label-container {text-align: center;}#sk-container-id-2 div.sk-container {/* jupyter's `normalize.less` sets `[hidden] { display: none; }` but bootstrap.min.css set `[hidden] { display: none !important; }` so we also need the `!important` here to be able to override the default hidden behavior on the sphinx rendered scikit-learn.org. See: https://github.com/scikit-learn/scikit-learn/issues/21755 */display: inline-block !important;position: relative;}#sk-container-id-2 div.sk-text-repr-fallback {display: none;}</style><div id=\"sk-container-id-2\" class=\"sk-top-container\"><div class=\"sk-text-repr-fallback\"><pre>XGBRegressor(base_score=None, booster=None, callbacks=None,\n",
              "             colsample_bylevel=None, colsample_bynode=None,\n",
              "             colsample_bytree=None, device=None, early_stopping_rounds=None,\n",
              "             enable_categorical=False, eval_metric=None, feature_types=None,\n",
              "             gamma=None, grow_policy=None, importance_type=None,\n",
              "             interaction_constraints=None, learning_rate=None, max_bin=None,\n",
              "             max_cat_threshold=None, max_cat_to_onehot=None,\n",
              "             max_delta_step=None, max_depth=None, max_leaves=None,\n",
              "             min_child_weight=None, missing=nan, monotone_constraints=None,\n",
              "             multi_strategy=None, n_estimators=None, n_jobs=None,\n",
              "             num_parallel_tree=None, random_state=42, ...)</pre><b>In a Jupyter environment, please rerun this cell to show the HTML representation or trust the notebook. <br />On GitHub, the HTML representation is unable to render, please try loading this page with nbviewer.org.</b></div><div class=\"sk-container\" hidden><div class=\"sk-item\"><div class=\"sk-estimator sk-toggleable\"><input class=\"sk-toggleable__control sk-hidden--visually\" id=\"sk-estimator-id-2\" type=\"checkbox\" checked><label for=\"sk-estimator-id-2\" class=\"sk-toggleable__label sk-toggleable__label-arrow\">XGBRegressor</label><div class=\"sk-toggleable__content\"><pre>XGBRegressor(base_score=None, booster=None, callbacks=None,\n",
              "             colsample_bylevel=None, colsample_bynode=None,\n",
              "             colsample_bytree=None, device=None, early_stopping_rounds=None,\n",
              "             enable_categorical=False, eval_metric=None, feature_types=None,\n",
              "             gamma=None, grow_policy=None, importance_type=None,\n",
              "             interaction_constraints=None, learning_rate=None, max_bin=None,\n",
              "             max_cat_threshold=None, max_cat_to_onehot=None,\n",
              "             max_delta_step=None, max_depth=None, max_leaves=None,\n",
              "             min_child_weight=None, missing=nan, monotone_constraints=None,\n",
              "             multi_strategy=None, n_estimators=None, n_jobs=None,\n",
              "             num_parallel_tree=None, random_state=42, ...)</pre></div></div></div></div></div>"
            ]
          },
          "metadata": {},
          "execution_count": 183
        }
      ]
    },
    {
      "cell_type": "code",
      "source": [
        "# Predict on training set\n",
        "train_predictions = alg.predict(train[predictors])\n",
        "\n",
        "# Calculate RMSE on training set\n",
        "train_rmse = np.sqrt(mean_squared_error(train[target], train_predictions))\n",
        "\n",
        "# Predict on testing set\n",
        "test_predictions = alg.predict(test[predictors])\n",
        "\n",
        "# Calculate RMSE on testing set\n",
        "test_rmse = np.sqrt(mean_squared_error(test[target], test_predictions))"
      ],
      "metadata": {
        "id": "C1TXFDFNr2fw"
      },
      "execution_count": null,
      "outputs": []
    },
    {
      "cell_type": "code",
      "source": [
        "# Print model report\n",
        "print(\"\\nXGBoost Model Report\")\n",
        "print(\"Training RMSE: {:.4f}\".format(train_rmse))\n",
        "print(\"Testing RMSE: {:.4f}\".format(test_rmse))\n"
      ],
      "metadata": {
        "colab": {
          "base_uri": "https://localhost:8080/"
        },
        "id": "BPVrLBZjr6Z-",
        "outputId": "857eca41-72c7-45df-911f-5f0e125f611b"
      },
      "execution_count": null,
      "outputs": [
        {
          "output_type": "stream",
          "name": "stdout",
          "text": [
            "\n",
            "XGBoost Model Report\n",
            "Training RMSE: 655.4468\n",
            "Testing RMSE: 1125.9841\n"
          ]
        }
      ]
    },
    {
      "cell_type": "markdown",
      "source": [
        "A lower RMSE indicates better model performance. In this case, the model seems to perform well on the training data (RMSE of 655.4468), but the testing RMSE is higher (1125.9841), suggesting that there might be some overfitting or the model could be improved to better generalize to unseen data."
      ],
      "metadata": {
        "id": "BfJ1u8OksSJI"
      }
    },
    {
      "cell_type": "markdown",
      "source": [
        "# Summary"
      ],
      "metadata": {
        "id": "k9hy8DUUs1tB"
      }
    },
    {
      "cell_type": "markdown",
      "source": [
        "The project started with a problem statement from BigMart, which aimed to predict the sales of products in its stores based on various attributes. The data provided information on 1559 products across 10 stores in different cities, including details such as item weight, type, visibility, and outlet information.\n",
        "\n",
        "Hypotheses were generated to understand potential relationships between attributes, such as the connection between outlet location types and item outlet sales. Data cleaning involved handling missing values and inconsistencies in labels, particularly in the \"Item_Fat_Content\" variable.\n",
        "\n",
        "Exploratory Data Analysis (EDA) was conducted to gain insights into the distribution of different variables. Visualizations, such as scatter plots and count plots, helped understand patterns and frequencies in the data. During this phase, it was observed that certain categories needed consolidation and adjustments.\n",
        "\n",
        "The next step involved feature engineering, where new attributes were created to enhance the model's understanding. For instance, the age of outlets was calculated using the establishment year. Categories in the \"Item_Fat_Content\" variable were standardized, and a new category \"Non-Edible\" was created for non-consumable items.\n",
        "\n",
        "Label encoding and one-hot encoding were applied to convert categorical variables into a format suitable for modeling. The data was then split into training and testing sets for further analysis.\n",
        "\n",
        "Different regression models were implemented, starting with simple linear regression and progressing to more advanced techniques. Regularized linear regression (Ridge Regression) and Random Forest Regressor models were also applied, each providing insights into feature importance.\n",
        "\n",
        "The XGBoost model was chosen for further exploration. It was trained on the data, and its performance was evaluated. The model exhibited promising results on the training data, but there was a higher Root Mean Squared Error (RMSE) on the testing data, indicating potential overfitting or room for improvement.\n",
        "\n",
        "In conclusion, the project involved a comprehensive analysis of BigMart sales data, including data cleaning, exploratory analysis, feature engineering, and the implementation of various regression models. The focus was on understanding the factors influencing sales in BigMart stores, and the XGBoost model showed potential, though further tuning may be required for better generalization to new data."
      ],
      "metadata": {
        "id": "ekAM9H8fs453"
      }
    }
  ],
  "metadata": {
    "colab": {
      "provenance": []
    },
    "kernelspec": {
      "display_name": "Python 3",
      "name": "python3"
    },
    "language_info": {
      "name": "python"
    }
  },
  "nbformat": 4,
  "nbformat_minor": 0
}